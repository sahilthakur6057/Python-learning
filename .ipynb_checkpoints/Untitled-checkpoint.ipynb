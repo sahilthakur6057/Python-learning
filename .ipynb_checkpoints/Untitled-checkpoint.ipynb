{
 "cells": [
  {
   "cell_type": "code",
   "execution_count": 2,
   "id": "b86533d3-beb4-4978-b0ca-aee4d07f39c2",
   "metadata": {},
   "outputs": [
    {
     "data": {
      "text/plain": [
       "['tom', 'jerry', 'billi', 'kutta']"
      ]
     },
     "execution_count": 2,
     "metadata": {},
     "output_type": "execute_result"
    }
   ],
   "source": [
    "\"tom jerry billi kutta\".split()"
   ]
  },
  {
   "cell_type": "code",
   "execution_count": 3,
   "id": "6263b845-2f9a-494c-b13f-b52cf8633b6c",
   "metadata": {},
   "outputs": [
    {
     "data": {
      "text/plain": [
       "['satto', 'sanjo', 'ono', 'pinku', 'prince', 'katto', 'munnu']"
      ]
     },
     "execution_count": 3,
     "metadata": {},
     "output_type": "execute_result"
    }
   ],
   "source": [
    "\"satto sanjo ono pinku prince katto munnu\".split()"
   ]
  },
  {
   "cell_type": "code",
   "execution_count": 4,
   "id": "aa1e59e2-b756-4bfb-82bf-ac56f33fc318",
   "metadata": {},
   "outputs": [
    {
     "data": {
      "text/plain": [
       "['satto sanjo ono p', 'nku pr', 'nce katto munnu']"
      ]
     },
     "execution_count": 4,
     "metadata": {},
     "output_type": "execute_result"
    }
   ],
   "source": [
    "\"satto sanjo ono pinku prince katto munnu\".split(\"i\")"
   ]
  },
  {
   "cell_type": "code",
   "execution_count": 5,
   "id": "f410b512-baf3-49c4-8d11-2ad2fe380077",
   "metadata": {},
   "outputs": [
    {
     "data": {
      "text/plain": [
       "['satt', ' sanj', ' ', 'n', ' pinku prince katt', ' munnu']"
      ]
     },
     "execution_count": 5,
     "metadata": {},
     "output_type": "execute_result"
    }
   ],
   "source": [
    "\"satto sanjo ono pinku prince katto munnu\".split(\"o\")"
   ]
  },
  {
   "cell_type": "code",
   "execution_count": 6,
   "id": "e3d0f8dd-668d-4c01-9eda-e41b11557d93",
   "metadata": {},
   "outputs": [
    {
     "data": {
      "text/plain": [
       "['2025', '07', '25']"
      ]
     },
     "execution_count": 6,
     "metadata": {},
     "output_type": "execute_result"
    }
   ],
   "source": [
    "\"2025-07-25\".split(\"-\")"
   ]
  },
  {
   "cell_type": "code",
   "execution_count": 7,
   "id": "eeb2a84e-6ac3-43b8-b540-70a3208c13c7",
   "metadata": {},
   "outputs": [
    {
     "data": {
      "text/plain": [
       "'sahil'"
      ]
     },
     "execution_count": 7,
     "metadata": {},
     "output_type": "execute_result"
    }
   ],
   "source": [
    "\" sahil     \".strip()"
   ]
  },
  {
   "cell_type": "code",
   "execution_count": 8,
   "id": "5dba97d0-1636-4a03-b43a-497b68246a7e",
   "metadata": {},
   "outputs": [
    {
     "data": {
      "text/plain": [
       "'sahil'"
      ]
     },
     "execution_count": 8,
     "metadata": {},
     "output_type": "execute_result"
    }
   ],
   "source": [
    "\"            sahil        \".strip()"
   ]
  },
  {
   "cell_type": "code",
   "execution_count": 9,
   "id": "271aaf6c-60a9-4261-96a0-70df846b4a96",
   "metadata": {},
   "outputs": [
    {
     "data": {
      "text/plain": [
       "True"
      ]
     },
     "execution_count": 9,
     "metadata": {},
     "output_type": "execute_result"
    }
   ],
   "source": [
    "\"sahil\".islower()"
   ]
  },
  {
   "cell_type": "code",
   "execution_count": 10,
   "id": "f67f2cc7-17e1-4a09-a715-6797bf11c8ce",
   "metadata": {},
   "outputs": [
    {
     "data": {
      "text/plain": [
       "True"
      ]
     },
     "execution_count": 10,
     "metadata": {},
     "output_type": "execute_result"
    }
   ],
   "source": [
    "\"SAHILTHAKUR\".isupper()"
   ]
  },
  {
   "cell_type": "code",
   "execution_count": 11,
   "id": "b33f02fc-d50e-4adc-9991-4705e2c50d86",
   "metadata": {},
   "outputs": [
    {
     "data": {
      "text/plain": [
       "False"
      ]
     },
     "execution_count": 11,
     "metadata": {},
     "output_type": "execute_result"
    }
   ],
   "source": [
    "\"SAHILTHAKUR\".islower()"
   ]
  },
  {
   "cell_type": "code",
   "execution_count": 12,
   "id": "3ea8c506-40db-4c65-ad07-bf452612fe38",
   "metadata": {},
   "outputs": [
    {
     "data": {
      "text/plain": [
       "True"
      ]
     },
     "execution_count": 12,
     "metadata": {},
     "output_type": "execute_result"
    }
   ],
   "source": [
    "\"sahilthakur\".isalpha()\n"
   ]
  },
  {
   "cell_type": "code",
   "execution_count": 13,
   "id": "3b794f96-8814-4816-abc8-d4c9fd21d568",
   "metadata": {},
   "outputs": [
    {
     "data": {
      "text/plain": [
       "True"
      ]
     },
     "execution_count": 13,
     "metadata": {},
     "output_type": "execute_result"
    }
   ],
   "source": [
    "\"45939\".isdigit()"
   ]
  },
  {
   "cell_type": "code",
   "execution_count": 15,
   "id": "99f08823-7878-476c-9e92-8c0b5ee12f0e",
   "metadata": {},
   "outputs": [
    {
     "data": {
      "text/plain": [
       "True"
      ]
     },
     "execution_count": 15,
     "metadata": {},
     "output_type": "execute_result"
    }
   ],
   "source": [
    "\"sahilthakur57\".isalnum()"
   ]
  },
  {
   "cell_type": "code",
   "execution_count": 16,
   "id": "a624d011-6f48-4696-8e9b-146a2bb7e711",
   "metadata": {},
   "outputs": [
    {
     "data": {
      "text/plain": [
       "True"
      ]
     },
     "execution_count": 16,
     "metadata": {},
     "output_type": "execute_result"
    }
   ],
   "source": [
    "\"    \".isspace()"
   ]
  },
  {
   "cell_type": "code",
   "execution_count": 17,
   "id": "7448a9ec-b618-4730-9a82-eac786065ce7",
   "metadata": {},
   "outputs": [
    {
     "name": "stdout",
     "output_type": "stream",
     "text": [
      "Help on built-in function replace:\n",
      "\n",
      "replace(old, new, /, count=-1) method of builtins.str instance\n",
      "    Return a copy with all occurrences of substring old replaced by new.\n",
      "\n",
      "      count\n",
      "        Maximum number of occurrences to replace.\n",
      "        -1 (the default value) means replace all occurrences.\n",
      "\n",
      "    If the optional argument count is given, only the first count occurrences are\n",
      "    replaced.\n",
      "\n"
     ]
    }
   ],
   "source": [
    "help(\"sahil thakur\".replace)"
   ]
  },
  {
   "cell_type": "code",
   "execution_count": null,
   "id": "a884b74e-b762-4184-8c47-4343cddfe664",
   "metadata": {},
   "outputs": [],
   "source": []
  },
  {
   "cell_type": "code",
   "execution_count": 19,
   "id": "00bea9e4-8bc9-460a-a75a-5d2c0ba61076",
   "metadata": {},
   "outputs": [
    {
     "data": {
      "text/plain": [
       "'s4hil th4kur'"
      ]
     },
     "execution_count": 19,
     "metadata": {},
     "output_type": "execute_result"
    }
   ],
   "source": [
    "\"sahil thakur\".replace(\"a\",\"4\")"
   ]
  },
  {
   "cell_type": "code",
   "execution_count": 20,
   "id": "1130f024-ceeb-4e8c-be90-5d65cb819080",
   "metadata": {},
   "outputs": [
    {
     "data": {
      "text/plain": [
       "'s2hil thakur'"
      ]
     },
     "execution_count": 20,
     "metadata": {},
     "output_type": "execute_result"
    }
   ],
   "source": [
    "\"sahil thakur\".replace(\"a\",\"2\",1)"
   ]
  },
  {
   "cell_type": "code",
   "execution_count": 30,
   "id": "4443b248-f5d2-46c2-a796-09b2a4c7099f",
   "metadata": {},
   "outputs": [],
   "source": [
    "name = \"sahil thakur\""
   ]
  },
  {
   "cell_type": "code",
   "execution_count": 31,
   "id": "b165dee9-1d3b-44a1-8de5-91738a53ed1b",
   "metadata": {},
   "outputs": [
    {
     "data": {
      "text/plain": [
       "'sahil thakur'"
      ]
     },
     "execution_count": 31,
     "metadata": {},
     "output_type": "execute_result"
    }
   ],
   "source": [
    "name"
   ]
  },
  {
   "cell_type": "code",
   "execution_count": 32,
   "id": "5796f3c6-91ba-4753-82f8-0519c40b18b6",
   "metadata": {},
   "outputs": [
    {
     "data": {
      "text/plain": [
       "'h'"
      ]
     },
     "execution_count": 32,
     "metadata": {},
     "output_type": "execute_result"
    }
   ],
   "source": [
    "name[7]"
   ]
  },
  {
   "cell_type": "code",
   "execution_count": 33,
   "id": "f39e5b87-2285-4b27-ade1-fa4de2185073",
   "metadata": {},
   "outputs": [
    {
     "data": {
      "text/plain": [
       "12"
      ]
     },
     "execution_count": 33,
     "metadata": {},
     "output_type": "execute_result"
    }
   ],
   "source": [
    "len(name)"
   ]
  },
  {
   "cell_type": "code",
   "execution_count": 35,
   "id": "95cb35ec-4a68-49f4-8219-a45b3ced4401",
   "metadata": {},
   "outputs": [
    {
     "data": {
      "text/plain": [
       "'k'"
      ]
     },
     "execution_count": 35,
     "metadata": {},
     "output_type": "execute_result"
    }
   ],
   "source": [
    "name[-3]"
   ]
  },
  {
   "cell_type": "markdown",
   "id": "a7c25924-b39b-4808-8b25-0da96872709b",
   "metadata": {},
   "source": [
    "## index number"
   ]
  },
  {
   "cell_type": "code",
   "execution_count": 2,
   "id": "aa2816d1-6b25-42cc-b058-68a6211726a0",
   "metadata": {},
   "outputs": [],
   "source": [
    "greet= 'hello my name is sahil thakur'"
   ]
  },
  {
   "cell_type": "code",
   "execution_count": 3,
   "id": "43f7f9fe-253e-454d-a5bf-04bbee3c3c22",
   "metadata": {},
   "outputs": [
    {
     "data": {
      "text/plain": [
       "'hello my name is sahil thakur'"
      ]
     },
     "execution_count": 3,
     "metadata": {},
     "output_type": "execute_result"
    }
   ],
   "source": [
    "greet"
   ]
  },
  {
   "cell_type": "code",
   "execution_count": 5,
   "id": "7c236d98-5931-4759-a4f8-a128cf4a9a4e",
   "metadata": {},
   "outputs": [
    {
     "data": {
      "text/plain": [
       "'m'"
      ]
     },
     "execution_count": 5,
     "metadata": {},
     "output_type": "execute_result"
    }
   ],
   "source": [
    "greet[6]"
   ]
  },
  {
   "cell_type": "code",
   "execution_count": 6,
   "id": "0ea67862-68cb-4550-8b17-8d491e2a5d88",
   "metadata": {},
   "outputs": [
    {
     "data": {
      "text/plain": [
       "'my name'"
      ]
     },
     "execution_count": 6,
     "metadata": {},
     "output_type": "execute_result"
    }
   ],
   "source": [
    "greet[6:13]"
   ]
  },
  {
   "cell_type": "code",
   "execution_count": 7,
   "id": "22b52c39-4dd3-4cac-ad3b-80369532810d",
   "metadata": {},
   "outputs": [],
   "source": [
    "s= 'the fox man'"
   ]
  },
  {
   "cell_type": "code",
   "execution_count": 8,
   "id": "f652edec-7804-4c00-b842-eb6ded957881",
   "metadata": {},
   "outputs": [
    {
     "data": {
      "text/plain": [
       "'the fox man'"
      ]
     },
     "execution_count": 8,
     "metadata": {},
     "output_type": "execute_result"
    }
   ],
   "source": [
    "s"
   ]
  },
  {
   "cell_type": "code",
   "execution_count": 9,
   "id": "e55b2443-2e68-4d45-9286-338335f19104",
   "metadata": {},
   "outputs": [
    {
     "data": {
      "text/plain": [
       "'o'"
      ]
     },
     "execution_count": 9,
     "metadata": {},
     "output_type": "execute_result"
    }
   ],
   "source": [
    "s[5]"
   ]
  },
  {
   "cell_type": "code",
   "execution_count": 15,
   "id": "8268bfc7-dbc6-4601-9195-c4f64f1de829",
   "metadata": {},
   "outputs": [
    {
     "data": {
      "text/plain": [
       "'fox man'"
      ]
     },
     "execution_count": 15,
     "metadata": {},
     "output_type": "execute_result"
    }
   ],
   "source": [
    "s[4:11]"
   ]
  },
  {
   "cell_type": "code",
   "execution_count": 16,
   "id": "1ef956d2-dbeb-4912-95be-eb5304303ef1",
   "metadata": {},
   "outputs": [],
   "source": [
    "name= 'Dhyanender pratap singh'"
   ]
  },
  {
   "cell_type": "code",
   "execution_count": 17,
   "id": "36d37f98-db18-4b29-a0f6-f2bdb4fe591f",
   "metadata": {},
   "outputs": [
    {
     "data": {
      "text/plain": [
       "'Dhyanender pratap singh'"
      ]
     },
     "execution_count": 17,
     "metadata": {},
     "output_type": "execute_result"
    }
   ],
   "source": [
    "name"
   ]
  },
  {
   "cell_type": "code",
   "execution_count": 18,
   "id": "92a4d621-e9df-4c19-8ca1-d480c334fb53",
   "metadata": {},
   "outputs": [
    {
     "data": {
      "text/plain": [
       "'Dynne rtpsnh'"
      ]
     },
     "execution_count": 18,
     "metadata": {},
     "output_type": "execute_result"
    }
   ],
   "source": [
    "name[::2]"
   ]
  },
  {
   "cell_type": "code",
   "execution_count": 21,
   "id": "0b86bede-667f-4b33-9636-0b1af6dcebc9",
   "metadata": {},
   "outputs": [
    {
     "data": {
      "text/plain": [
       "'Dhyanender pratap singh'"
      ]
     },
     "execution_count": 21,
     "metadata": {},
     "output_type": "execute_result"
    }
   ],
   "source": [
    "name"
   ]
  },
  {
   "cell_type": "code",
   "execution_count": 20,
   "id": "f37d1319-7396-42e2-a6bb-5c3aa6b4e9d7",
   "metadata": {},
   "outputs": [
    {
     "data": {
      "text/plain": [
       "'Danrrasg'"
      ]
     },
     "execution_count": 20,
     "metadata": {},
     "output_type": "execute_result"
    }
   ],
   "source": [
    "name[::3]"
   ]
  },
  {
   "cell_type": "code",
   "execution_count": 22,
   "id": "6633ae60-c797-4332-8a08-efd049f7b148",
   "metadata": {},
   "outputs": [
    {
     "data": {
      "text/plain": [
       "'Dhyanender pratap singh'"
      ]
     },
     "execution_count": 22,
     "metadata": {},
     "output_type": "execute_result"
    }
   ],
   "source": [
    "name"
   ]
  },
  {
   "cell_type": "code",
   "execution_count": 23,
   "id": "23636613-4c4d-49dc-9057-fb5309a998b3",
   "metadata": {},
   "outputs": [
    {
     "data": {
      "text/plain": [
       "'Dynne'"
      ]
     },
     "execution_count": 23,
     "metadata": {},
     "output_type": "execute_result"
    }
   ],
   "source": [
    "name[0:10:2]"
   ]
  },
  {
   "cell_type": "code",
   "execution_count": 24,
   "id": "3e4baca2-3212-4783-b330-257271d4808c",
   "metadata": {},
   "outputs": [
    {
     "data": {
      "text/plain": [
       "'Dhyanender pratap singh'"
      ]
     },
     "execution_count": 24,
     "metadata": {},
     "output_type": "execute_result"
    }
   ],
   "source": [
    "name"
   ]
  },
  {
   "cell_type": "code",
   "execution_count": 25,
   "id": "8879c39c-9b78-4083-8470-b4898292cc65",
   "metadata": {},
   "outputs": [
    {
     "data": {
      "text/plain": [
       "'Dhyanender pratap'"
      ]
     },
     "execution_count": 25,
     "metadata": {},
     "output_type": "execute_result"
    }
   ],
   "source": [
    "name[:-6]"
   ]
  },
  {
   "cell_type": "code",
   "execution_count": 26,
   "id": "3a2c156d-a170-4c2b-8ff1-1176db66eb7b",
   "metadata": {},
   "outputs": [
    {
     "data": {
      "text/plain": [
       "'Dhyanender pratap singh'"
      ]
     },
     "execution_count": 26,
     "metadata": {},
     "output_type": "execute_result"
    }
   ],
   "source": [
    "name"
   ]
  },
  {
   "cell_type": "code",
   "execution_count": 27,
   "id": "d68eb8cd-1e47-42af-954c-a054a3785c91",
   "metadata": {},
   "outputs": [
    {
     "data": {
      "text/plain": [
       "'Dhyanender '"
      ]
     },
     "execution_count": 27,
     "metadata": {},
     "output_type": "execute_result"
    }
   ],
   "source": [
    "name[:-12]"
   ]
  },
  {
   "cell_type": "code",
   "execution_count": 28,
   "id": "44efb8df-5309-4432-bbe7-21f1ba14ee8d",
   "metadata": {},
   "outputs": [
    {
     "data": {
      "text/plain": [
       "'Dhyanender pratap singh'"
      ]
     },
     "execution_count": 28,
     "metadata": {},
     "output_type": "execute_result"
    }
   ],
   "source": [
    "name"
   ]
  },
  {
   "cell_type": "code",
   "execution_count": 29,
   "id": "8df5b1e1-7ec4-44f1-a5ce-16d271260401",
   "metadata": {},
   "outputs": [
    {
     "data": {
      "text/plain": [
       "'ender pratap'"
      ]
     },
     "execution_count": 29,
     "metadata": {},
     "output_type": "execute_result"
    }
   ],
   "source": [
    "name[5:-6]"
   ]
  },
  {
   "cell_type": "code",
   "execution_count": 30,
   "id": "20dfccc4-e9eb-4932-bd9d-86c33486e376",
   "metadata": {},
   "outputs": [
    {
     "data": {
      "text/plain": [
       "'Dhyanender pratap singh'"
      ]
     },
     "execution_count": 30,
     "metadata": {},
     "output_type": "execute_result"
    }
   ],
   "source": [
    "name"
   ]
  },
  {
   "cell_type": "code",
   "execution_count": 31,
   "id": "71465d6a-2644-4f6f-9d3e-bd9396972c6b",
   "metadata": {},
   "outputs": [
    {
     "data": {
      "text/plain": [
       "'edrpaa'"
      ]
     },
     "execution_count": 31,
     "metadata": {},
     "output_type": "execute_result"
    }
   ],
   "source": [
    "name[5:-6:2]"
   ]
  },
  {
   "cell_type": "code",
   "execution_count": 32,
   "id": "79cf42d5-2e54-4d66-8b14-1a02f82da43e",
   "metadata": {},
   "outputs": [
    {
     "data": {
      "text/plain": [
       "'pratap'"
      ]
     },
     "execution_count": 32,
     "metadata": {},
     "output_type": "execute_result"
    }
   ],
   "source": [
    "name[5:-6][6:]"
   ]
  },
  {
   "cell_type": "code",
   "execution_count": 33,
   "id": "c60a37d2-6614-488e-ab4c-77e1c0b5fc6e",
   "metadata": {},
   "outputs": [
    {
     "data": {
      "text/plain": [
       "'hgnis patarp rednenayhD'"
      ]
     },
     "execution_count": 33,
     "metadata": {},
     "output_type": "execute_result"
    }
   ],
   "source": [
    "name[::-1]"
   ]
  },
  {
   "cell_type": "code",
   "execution_count": 35,
   "id": "e2703e3f-aa89-4fc6-b49a-8b7a4c284115",
   "metadata": {},
   "outputs": [],
   "source": [
    "name= 'Dhyanender pratap singh'"
   ]
  },
  {
   "cell_type": "code",
   "execution_count": 36,
   "id": "af303b85-e852-4a7f-b42e-1dff68aa9c0c",
   "metadata": {},
   "outputs": [
    {
     "data": {
      "text/plain": [
       "'Dhyanender pratap singh'"
      ]
     },
     "execution_count": 36,
     "metadata": {},
     "output_type": "execute_result"
    }
   ],
   "source": [
    "name"
   ]
  },
  {
   "cell_type": "code",
   "execution_count": 42,
   "id": "55764103-61b6-4405-bc1b-eb559540e392",
   "metadata": {},
   "outputs": [
    {
     "data": {
      "text/plain": [
       "'ender pratap'"
      ]
     },
     "execution_count": 42,
     "metadata": {},
     "output_type": "execute_result"
    }
   ],
   "source": [
    "name[5:17]"
   ]
  },
  {
   "cell_type": "code",
   "execution_count": 43,
   "id": "8d021d05-7900-45eb-a041-6d6574eff914",
   "metadata": {},
   "outputs": [
    {
     "data": {
      "text/plain": [
       "'Dhyanender pratap singh'"
      ]
     },
     "execution_count": 43,
     "metadata": {},
     "output_type": "execute_result"
    }
   ],
   "source": [
    "name"
   ]
  },
  {
   "cell_type": "code",
   "execution_count": 44,
   "id": "6895af58-10fd-4896-b8fa-bb441b72155b",
   "metadata": {},
   "outputs": [
    {
     "data": {
      "text/plain": [
       "'Dhyanende'"
      ]
     },
     "execution_count": 44,
     "metadata": {},
     "output_type": "execute_result"
    }
   ],
   "source": [
    "name[:9]"
   ]
  },
  {
   "cell_type": "code",
   "execution_count": 45,
   "id": "ca2dc80a-612f-4407-b6ac-ada6c5411ef8",
   "metadata": {},
   "outputs": [
    {
     "data": {
      "text/plain": [
       "'r pratap singh'"
      ]
     },
     "execution_count": 45,
     "metadata": {},
     "output_type": "execute_result"
    }
   ],
   "source": [
    "name[9:]"
   ]
  },
  {
   "cell_type": "code",
   "execution_count": 47,
   "id": "6466eee1-afc7-4f36-ba5c-4048626f8514",
   "metadata": {},
   "outputs": [
    {
     "data": {
      "text/plain": [
       "'ednenayhD'"
      ]
     },
     "execution_count": 47,
     "metadata": {},
     "output_type": "execute_result"
    }
   ],
   "source": [
    "name[:9][::-1]"
   ]
  },
  {
   "cell_type": "code",
   "execution_count": 49,
   "id": "e619ea0d-7959-4bd7-84e9-1311038052d9",
   "metadata": {},
   "outputs": [
    {
     "data": {
      "text/plain": [
       "'ednenayhDr pratap singh'"
      ]
     },
     "execution_count": 49,
     "metadata": {},
     "output_type": "execute_result"
    }
   ],
   "source": [
    "name[:9][::-1] + name[9:]"
   ]
  },
  {
   "cell_type": "code",
   "execution_count": 50,
   "id": "3b0ff2f0-f9aa-47b8-b5d1-a05bd4bb77ac",
   "metadata": {},
   "outputs": [
    {
     "data": {
      "text/plain": [
       "'Dhyanender pratap singh'"
      ]
     },
     "execution_count": 50,
     "metadata": {},
     "output_type": "execute_result"
    }
   ],
   "source": [
    "name"
   ]
  },
  {
   "cell_type": "code",
   "execution_count": 51,
   "id": "37eb633b-ce31-4b7a-9992-003a5f0e9432",
   "metadata": {},
   "outputs": [],
   "source": [
    "a= len(name)//2"
   ]
  },
  {
   "cell_type": "code",
   "execution_count": 52,
   "id": "e1464f97-b1be-4d0e-91f2-c4a900ae4396",
   "metadata": {},
   "outputs": [
    {
     "data": {
      "text/plain": [
       "' rednenayhDpratap singh'"
      ]
     },
     "execution_count": 52,
     "metadata": {},
     "output_type": "execute_result"
    }
   ],
   "source": [
    "name[:a][::-1] + name[a:]"
   ]
  },
  {
   "cell_type": "code",
   "execution_count": null,
   "id": "f2872e01-1446-4f8e-830c-028e7fbd5c0e",
   "metadata": {},
   "outputs": [],
   "source": []
  }
 ],
 "metadata": {
  "kernelspec": {
   "display_name": "Python [conda env:base] *",
   "language": "python",
   "name": "conda-base-py"
  },
  "language_info": {
   "codemirror_mode": {
    "name": "ipython",
    "version": 3
   },
   "file_extension": ".py",
   "mimetype": "text/x-python",
   "name": "python",
   "nbconvert_exporter": "python",
   "pygments_lexer": "ipython3",
   "version": "3.13.5"
  }
 },
 "nbformat": 4,
 "nbformat_minor": 5
}
