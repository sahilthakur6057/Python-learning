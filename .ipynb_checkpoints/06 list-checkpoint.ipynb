{
 "cells": [
  {
   "cell_type": "markdown",
   "id": "948caf2c-6c8f-49c5-bd02-47cd1d5f2398",
   "metadata": {},
   "source": [
    "# LIST\n",
    "is an ordered squence"
   ]
  },
  {
   "cell_type": "code",
   "execution_count": 1,
   "id": "0032fd46-92fa-4ee9-9284-fbc562716a1f",
   "metadata": {},
   "outputs": [
    {
     "data": {
      "text/plain": [
       "[8, 4, 6, 2]"
      ]
     },
     "execution_count": 1,
     "metadata": {},
     "output_type": "execute_result"
    }
   ],
   "source": [
    "[8,4,6,2]"
   ]
  },
  {
   "cell_type": "code",
   "execution_count": 5,
   "id": "acb3bea0-f671-4fb6-ba26-b545503dbbc5",
   "metadata": {},
   "outputs": [],
   "source": [
    "dogs = [\"tom\", \"kutta\",\"doggy\"]"
   ]
  },
  {
   "cell_type": "code",
   "execution_count": 6,
   "id": "74d0a78c-1d60-4413-8374-3edeb72e457f",
   "metadata": {},
   "outputs": [
    {
     "data": {
      "text/plain": [
       "['tom', 'kutta', 'doggy']"
      ]
     },
     "execution_count": 6,
     "metadata": {},
     "output_type": "execute_result"
    }
   ],
   "source": [
    "dogs"
   ]
  },
  {
   "cell_type": "code",
   "execution_count": 7,
   "id": "3ac36f9c-8709-4e1f-a1d7-1e0f3312125d",
   "metadata": {},
   "outputs": [
    {
     "data": {
      "text/plain": [
       "['tom', 'kutta']"
      ]
     },
     "execution_count": 7,
     "metadata": {},
     "output_type": "execute_result"
    }
   ],
   "source": [
    "dogs[0:2]"
   ]
  },
  {
   "cell_type": "code",
   "execution_count": 8,
   "id": "cfe84029-36ee-4913-8df6-411187c67317",
   "metadata": {},
   "outputs": [],
   "source": [
    "dogs[0] = \"jerry\""
   ]
  },
  {
   "cell_type": "code",
   "execution_count": 9,
   "id": "88c0bad4-855b-472d-a619-4ece381abf17",
   "metadata": {},
   "outputs": [
    {
     "data": {
      "text/plain": [
       "['jerry', 'kutta', 'doggy']"
      ]
     },
     "execution_count": 9,
     "metadata": {},
     "output_type": "execute_result"
    }
   ],
   "source": [
    "dogs"
   ]
  },
  {
   "cell_type": "code",
   "execution_count": 11,
   "id": "e7b8975e-1060-4de2-8f94-c6888e9a74d5",
   "metadata": {},
   "outputs": [],
   "source": [
    "li = [5, 5.3, 6+3j, \"sahil thakur\", (8,5,6,4),[\"sahil\",4,6], True, False]"
   ]
  },
  {
   "cell_type": "code",
   "execution_count": 12,
   "id": "15b9575c-27e8-4d17-b8da-38da99993e6a",
   "metadata": {},
   "outputs": [
    {
     "data": {
      "text/plain": [
       "[5, 5.3, (6+3j), 'sahil thakur', (8, 5, 6, 4), ['sahil', 4, 6], True, False]"
      ]
     },
     "execution_count": 12,
     "metadata": {},
     "output_type": "execute_result"
    }
   ],
   "source": [
    "li"
   ]
  },
  {
   "cell_type": "code",
   "execution_count": 13,
   "id": "66e08c0c-9d6d-45f5-9a72-5d987dfee73b",
   "metadata": {},
   "outputs": [
    {
     "data": {
      "text/plain": [
       "5"
      ]
     },
     "execution_count": 13,
     "metadata": {},
     "output_type": "execute_result"
    }
   ],
   "source": [
    "li[0]"
   ]
  },
  {
   "cell_type": "code",
   "execution_count": 14,
   "id": "8442460e-75b5-4ebf-989b-d3c6074526c2",
   "metadata": {},
   "outputs": [
    {
     "data": {
      "text/plain": [
       "5.3"
      ]
     },
     "execution_count": 14,
     "metadata": {},
     "output_type": "execute_result"
    }
   ],
   "source": [
    "li[1]"
   ]
  },
  {
   "cell_type": "code",
   "execution_count": 15,
   "id": "50cfa650-9226-4cda-8a15-564f7f1e634d",
   "metadata": {},
   "outputs": [
    {
     "data": {
      "text/plain": [
       "'sahil thakur'"
      ]
     },
     "execution_count": 15,
     "metadata": {},
     "output_type": "execute_result"
    }
   ],
   "source": [
    "li[3]"
   ]
  },
  {
   "cell_type": "code",
   "execution_count": 17,
   "id": "02c13584-e8de-4398-9174-09644ad1969f",
   "metadata": {},
   "outputs": [
    {
     "data": {
      "text/plain": [
       "'sahil tha'"
      ]
     },
     "execution_count": 17,
     "metadata": {},
     "output_type": "execute_result"
    }
   ],
   "source": [
    "li[3][0:9]"
   ]
  },
  {
   "cell_type": "code",
   "execution_count": 18,
   "id": "9ff591e4-a26a-479b-aa07-75a6d8f99b3e",
   "metadata": {},
   "outputs": [
    {
     "data": {
      "text/plain": [
       "(8, 5, 6, 4)"
      ]
     },
     "execution_count": 18,
     "metadata": {},
     "output_type": "execute_result"
    }
   ],
   "source": [
    "li[4]"
   ]
  },
  {
   "cell_type": "code",
   "execution_count": 19,
   "id": "fafa6aa6-8138-4d70-a8af-b0e735ab0766",
   "metadata": {},
   "outputs": [
    {
     "data": {
      "text/plain": [
       "8"
      ]
     },
     "execution_count": 19,
     "metadata": {},
     "output_type": "execute_result"
    }
   ],
   "source": [
    "li[4][0]"
   ]
  },
  {
   "cell_type": "code",
   "execution_count": 20,
   "id": "d5d69ca0-c026-4d54-9e57-3bc2a8aa18f2",
   "metadata": {},
   "outputs": [
    {
     "data": {
      "text/plain": [
       "['sahil', 4, 6]"
      ]
     },
     "execution_count": 20,
     "metadata": {},
     "output_type": "execute_result"
    }
   ],
   "source": [
    "li[5]"
   ]
  },
  {
   "cell_type": "code",
   "execution_count": 21,
   "id": "2a69cc05-5e90-4c01-8a60-2fea98f2345e",
   "metadata": {},
   "outputs": [
    {
     "data": {
      "text/plain": [
       "'sahil'"
      ]
     },
     "execution_count": 21,
     "metadata": {},
     "output_type": "execute_result"
    }
   ],
   "source": [
    "li[5][0]"
   ]
  },
  {
   "cell_type": "code",
   "execution_count": 22,
   "id": "55945d9c-bee4-4ca1-81d6-82befa8ee538",
   "metadata": {},
   "outputs": [
    {
     "data": {
      "text/plain": [
       "'s'"
      ]
     },
     "execution_count": 22,
     "metadata": {},
     "output_type": "execute_result"
    }
   ],
   "source": [
    "li[5][0][0]"
   ]
  },
  {
   "cell_type": "code",
   "execution_count": 23,
   "id": "a91ab297-cb06-4c5d-a67f-dfd649f32750",
   "metadata": {},
   "outputs": [
    {
     "data": {
      "text/plain": [
       "['jerry', 'kutta', 'doggy']"
      ]
     },
     "execution_count": 23,
     "metadata": {},
     "output_type": "execute_result"
    }
   ],
   "source": [
    "dogs"
   ]
  },
  {
   "cell_type": "code",
   "execution_count": 44,
   "id": "b863a923-fda9-4457-a21a-3f9cf5c0dcfd",
   "metadata": {},
   "outputs": [],
   "source": [
    "dogs.append(\"tom\")"
   ]
  },
  {
   "cell_type": "code",
   "execution_count": 45,
   "id": "872d9d29-3ad3-4bb7-bf6c-c4ecc6724b2c",
   "metadata": {},
   "outputs": [
    {
     "data": {
      "text/plain": [
       "['jerry', 'kutta', 'doggy', 'tom', 'tom']"
      ]
     },
     "execution_count": 45,
     "metadata": {},
     "output_type": "execute_result"
    }
   ],
   "source": [
    "dogs"
   ]
  },
  {
   "cell_type": "code",
   "execution_count": 26,
   "id": "fe163864-d59e-4cb0-af3f-07283b27d78c",
   "metadata": {},
   "outputs": [],
   "source": [
    "stu = [\"a\", \"b\", \"c\",\"d\", \"e\"]"
   ]
  },
  {
   "cell_type": "code",
   "execution_count": 27,
   "id": "e72e0c18-ce2e-404e-b9ac-6381110625d0",
   "metadata": {},
   "outputs": [
    {
     "data": {
      "text/plain": [
       "['a', 'b', 'c', 'd', 'e']"
      ]
     },
     "execution_count": 27,
     "metadata": {},
     "output_type": "execute_result"
    }
   ],
   "source": [
    "stu"
   ]
  },
  {
   "cell_type": "code",
   "execution_count": 28,
   "id": "2c264280-7aff-4ffc-bc9b-6d6618e20ba9",
   "metadata": {},
   "outputs": [],
   "source": [
    "fail = stu"
   ]
  },
  {
   "cell_type": "code",
   "execution_count": 30,
   "id": "75d7eff1-3280-4de6-b0be-2f2dcbfc903d",
   "metadata": {},
   "outputs": [
    {
     "data": {
      "text/plain": [
       "'a'"
      ]
     },
     "execution_count": 30,
     "metadata": {},
     "output_type": "execute_result"
    }
   ],
   "source": [
    "fail[0] "
   ]
  },
  {
   "cell_type": "code",
   "execution_count": 31,
   "id": "790f73c1-98a5-45cf-9f30-137da9408110",
   "metadata": {},
   "outputs": [],
   "source": [
    "fail[0] = \"sahil\""
   ]
  },
  {
   "cell_type": "code",
   "execution_count": 32,
   "id": "da8b31af-6a5e-4b0e-bf73-b80e6c27e721",
   "metadata": {},
   "outputs": [
    {
     "data": {
      "text/plain": [
       "['sahil', 'b', 'c', 'd', 'e']"
      ]
     },
     "execution_count": 32,
     "metadata": {},
     "output_type": "execute_result"
    }
   ],
   "source": [
    "fail"
   ]
  },
  {
   "cell_type": "code",
   "execution_count": 33,
   "id": "a4862168-fdb6-450e-9831-08d6f9a8f80c",
   "metadata": {},
   "outputs": [],
   "source": [
    "a = [1,5,3]"
   ]
  },
  {
   "cell_type": "code",
   "execution_count": 34,
   "id": "ce33aa3e-cf81-4e34-951b-a4edb404d75c",
   "metadata": {},
   "outputs": [],
   "source": [
    "b = a"
   ]
  },
  {
   "cell_type": "code",
   "execution_count": 35,
   "id": "00b2d76d-a8e4-49d6-ad49-4c26403daa33",
   "metadata": {},
   "outputs": [
    {
     "data": {
      "text/plain": [
       "[1, 5, 3]"
      ]
     },
     "execution_count": 35,
     "metadata": {},
     "output_type": "execute_result"
    }
   ],
   "source": [
    "b"
   ]
  },
  {
   "cell_type": "code",
   "execution_count": 36,
   "id": "1941e62b-347f-4597-917c-eca8ca5bedf4",
   "metadata": {},
   "outputs": [],
   "source": [
    "b[1] = 50"
   ]
  },
  {
   "cell_type": "code",
   "execution_count": 37,
   "id": "fd5ff7ee-18d5-4765-9d82-a252826e6e21",
   "metadata": {},
   "outputs": [
    {
     "data": {
      "text/plain": [
       "[1, 50, 3]"
      ]
     },
     "execution_count": 37,
     "metadata": {},
     "output_type": "execute_result"
    }
   ],
   "source": [
    "b"
   ]
  },
  {
   "cell_type": "code",
   "execution_count": 38,
   "id": "6ef77b26-d620-448e-9abc-18b26dd46e68",
   "metadata": {},
   "outputs": [
    {
     "data": {
      "text/plain": [
       "[1, 50, 3]"
      ]
     },
     "execution_count": 38,
     "metadata": {},
     "output_type": "execute_result"
    }
   ],
   "source": [
    "a"
   ]
  },
  {
   "cell_type": "code",
   "execution_count": 39,
   "id": "8f7d39ad-d79e-4b33-b679-dcf5766c9186",
   "metadata": {},
   "outputs": [],
   "source": [
    "b = a.copy()"
   ]
  },
  {
   "cell_type": "code",
   "execution_count": 40,
   "id": "70fa2b3f-c8b0-4d0f-8e33-5ba07c4bb962",
   "metadata": {},
   "outputs": [
    {
     "data": {
      "text/plain": [
       "[1, 50, 3]"
      ]
     },
     "execution_count": 40,
     "metadata": {},
     "output_type": "execute_result"
    }
   ],
   "source": [
    "b"
   ]
  },
  {
   "cell_type": "code",
   "execution_count": 46,
   "id": "c41ec0dd-33d9-493a-a487-a2144b69b7e0",
   "metadata": {},
   "outputs": [
    {
     "data": {
      "text/plain": [
       "['jerry', 'kutta', 'doggy', 'tom', 'tom']"
      ]
     },
     "execution_count": 46,
     "metadata": {},
     "output_type": "execute_result"
    }
   ],
   "source": [
    "dogs"
   ]
  },
  {
   "cell_type": "code",
   "execution_count": 47,
   "id": "1e52542b-17a5-4302-ba67-b8bc433837ce",
   "metadata": {},
   "outputs": [
    {
     "data": {
      "text/plain": [
       "2"
      ]
     },
     "execution_count": 47,
     "metadata": {},
     "output_type": "execute_result"
    }
   ],
   "source": [
    "dogs.count(\"tom\")"
   ]
  },
  {
   "cell_type": "code",
   "execution_count": 49,
   "id": "a38460e8-1c1f-456f-8aa2-54dcf37a382f",
   "metadata": {},
   "outputs": [
    {
     "data": {
      "text/plain": [
       "2"
      ]
     },
     "execution_count": 49,
     "metadata": {},
     "output_type": "execute_result"
    }
   ],
   "source": [
    "dogs.index(\"doggy\")"
   ]
  },
  {
   "cell_type": "code",
   "execution_count": 50,
   "id": "6b58ebb2-1136-4312-81e7-878b6efd65bb",
   "metadata": {},
   "outputs": [],
   "source": [
    "friend = [\"sammy\", \"rammy\", \"jack\"]"
   ]
  },
  {
   "cell_type": "code",
   "execution_count": 52,
   "id": "1a153a37-c9fe-4e9e-8610-340e20211f22",
   "metadata": {},
   "outputs": [],
   "source": [
    "dogs.append(friend)"
   ]
  },
  {
   "cell_type": "code",
   "execution_count": 53,
   "id": "dcc9d1c2-2f86-4a14-8aec-9a9f45dc33c5",
   "metadata": {},
   "outputs": [
    {
     "data": {
      "text/plain": [
       "['jerry', 'kutta', 'doggy', 'tom', 'tom', ['sammy', 'rammy', 'jack']]"
      ]
     },
     "execution_count": 53,
     "metadata": {},
     "output_type": "execute_result"
    }
   ],
   "source": [
    "dogs"
   ]
  },
  {
   "cell_type": "code",
   "execution_count": 54,
   "id": "19f55934-cb41-4d2b-8517-f3bf25eac3e2",
   "metadata": {},
   "outputs": [],
   "source": [
    "dogs.extend(friend)"
   ]
  },
  {
   "cell_type": "code",
   "execution_count": 55,
   "id": "8f85bcf8-857a-455b-9ef7-1c50ee37000d",
   "metadata": {},
   "outputs": [
    {
     "data": {
      "text/plain": [
       "['jerry',\n",
       " 'kutta',\n",
       " 'doggy',\n",
       " 'tom',\n",
       " 'tom',\n",
       " ['sammy', 'rammy', 'jack'],\n",
       " 'sammy',\n",
       " 'rammy',\n",
       " 'jack']"
      ]
     },
     "execution_count": 55,
     "metadata": {},
     "output_type": "execute_result"
    }
   ],
   "source": [
    "dogs"
   ]
  },
  {
   "cell_type": "code",
   "execution_count": 56,
   "id": "ae61d1dc-b8a5-45b3-b25d-2e6c1914952d",
   "metadata": {},
   "outputs": [
    {
     "data": {
      "text/plain": [
       "'jack'"
      ]
     },
     "execution_count": 56,
     "metadata": {},
     "output_type": "execute_result"
    }
   ],
   "source": [
    "dogs.pop()"
   ]
  },
  {
   "cell_type": "code",
   "execution_count": 57,
   "id": "1dd56583-40f2-4378-b125-a17396a92cbb",
   "metadata": {},
   "outputs": [
    {
     "data": {
      "text/plain": [
       "['jerry',\n",
       " 'kutta',\n",
       " 'doggy',\n",
       " 'tom',\n",
       " 'tom',\n",
       " ['sammy', 'rammy', 'jack'],\n",
       " 'sammy',\n",
       " 'rammy']"
      ]
     },
     "execution_count": 57,
     "metadata": {},
     "output_type": "execute_result"
    }
   ],
   "source": [
    "dogs"
   ]
  },
  {
   "cell_type": "code",
   "execution_count": 58,
   "id": "4adcab73-6f60-47fb-8fe7-b3ff63ed91b3",
   "metadata": {},
   "outputs": [
    {
     "data": {
      "text/plain": [
       "'rammy'"
      ]
     },
     "execution_count": 58,
     "metadata": {},
     "output_type": "execute_result"
    }
   ],
   "source": [
    "dogs.pop()"
   ]
  },
  {
   "cell_type": "code",
   "execution_count": 59,
   "id": "97282e04-10ed-44d2-98d1-a3084c11f390",
   "metadata": {},
   "outputs": [
    {
     "data": {
      "text/plain": [
       "['jerry', 'kutta', 'doggy', 'tom', 'tom', ['sammy', 'rammy', 'jack'], 'sammy']"
      ]
     },
     "execution_count": 59,
     "metadata": {},
     "output_type": "execute_result"
    }
   ],
   "source": [
    "dogs"
   ]
  },
  {
   "cell_type": "code",
   "execution_count": 60,
   "id": "8ed055eb-86ab-4d87-aca6-0e1142dcd580",
   "metadata": {},
   "outputs": [
    {
     "data": {
      "text/plain": [
       "'sammy'"
      ]
     },
     "execution_count": 60,
     "metadata": {},
     "output_type": "execute_result"
    }
   ],
   "source": [
    "dogs.pop()"
   ]
  },
  {
   "cell_type": "code",
   "execution_count": 61,
   "id": "acf2f78d-4b31-4ecf-ad70-7561a593de89",
   "metadata": {},
   "outputs": [
    {
     "data": {
      "text/plain": [
       "['sammy', 'rammy', 'jack']"
      ]
     },
     "execution_count": 61,
     "metadata": {},
     "output_type": "execute_result"
    }
   ],
   "source": [
    "dogs.pop()"
   ]
  },
  {
   "cell_type": "code",
   "execution_count": 62,
   "id": "7def3394-f244-402f-8be0-7a37c864f055",
   "metadata": {},
   "outputs": [
    {
     "data": {
      "text/plain": [
       "['jerry', 'kutta', 'doggy', 'tom', 'tom']"
      ]
     },
     "execution_count": 62,
     "metadata": {},
     "output_type": "execute_result"
    }
   ],
   "source": [
    "dogs"
   ]
  },
  {
   "cell_type": "code",
   "execution_count": 64,
   "id": "0c2e91e8-5841-4f11-957f-2b7981a0c3d5",
   "metadata": {},
   "outputs": [
    {
     "data": {
      "text/plain": [
       "'tom'"
      ]
     },
     "execution_count": 64,
     "metadata": {},
     "output_type": "execute_result"
    }
   ],
   "source": [
    "dogs.pop(4)"
   ]
  },
  {
   "cell_type": "code",
   "execution_count": 65,
   "id": "ef928807-ef44-4c82-a76a-1cf5b7767fbe",
   "metadata": {},
   "outputs": [
    {
     "data": {
      "text/plain": [
       "['jerry', 'kutta', 'doggy', 'tom']"
      ]
     },
     "execution_count": 65,
     "metadata": {},
     "output_type": "execute_result"
    }
   ],
   "source": [
    "dogs"
   ]
  },
  {
   "cell_type": "code",
   "execution_count": 66,
   "id": "968c8bb4-fb84-46cf-ace7-c825e3fa8244",
   "metadata": {},
   "outputs": [],
   "source": [
    "dogs.append(\"tom\")"
   ]
  },
  {
   "cell_type": "code",
   "execution_count": 67,
   "id": "190528d3-01b8-4512-877c-2454dca95a60",
   "metadata": {},
   "outputs": [
    {
     "data": {
      "text/plain": [
       "['jerry', 'kutta', 'doggy', 'tom', 'tom']"
      ]
     },
     "execution_count": 67,
     "metadata": {},
     "output_type": "execute_result"
    }
   ],
   "source": [
    "dogs"
   ]
  },
  {
   "cell_type": "code",
   "execution_count": 68,
   "id": "15de94dd-cf38-487c-94ec-23fc1eda5752",
   "metadata": {},
   "outputs": [],
   "source": [
    "dogs.sort()"
   ]
  },
  {
   "cell_type": "code",
   "execution_count": 69,
   "id": "559db1ad-23d9-43cf-a9af-e3d282b91746",
   "metadata": {},
   "outputs": [
    {
     "data": {
      "text/plain": [
       "['doggy', 'jerry', 'kutta', 'tom', 'tom']"
      ]
     },
     "execution_count": 69,
     "metadata": {},
     "output_type": "execute_result"
    }
   ],
   "source": [
    "dogs"
   ]
  },
  {
   "cell_type": "code",
   "execution_count": 70,
   "id": "4b1196c0-cafd-416c-b8ca-2bd4b45ff471",
   "metadata": {},
   "outputs": [],
   "source": [
    "li = [8,5,4,6,8,9,2]"
   ]
  },
  {
   "cell_type": "code",
   "execution_count": 71,
   "id": "c80a1f74-7095-4dad-98cc-ae5c1a7dcb4a",
   "metadata": {},
   "outputs": [],
   "source": [
    "li.sort()"
   ]
  },
  {
   "cell_type": "code",
   "execution_count": 72,
   "id": "ef18e70b-bec9-4703-bf7f-085c22d4ea1d",
   "metadata": {},
   "outputs": [
    {
     "data": {
      "text/plain": [
       "[2, 4, 5, 6, 8, 8, 9]"
      ]
     },
     "execution_count": 72,
     "metadata": {},
     "output_type": "execute_result"
    }
   ],
   "source": [
    "li"
   ]
  },
  {
   "cell_type": "code",
   "execution_count": 73,
   "id": "beab4c92-928d-4fbb-b2ea-0b0920c736b7",
   "metadata": {},
   "outputs": [],
   "source": [
    "li.sort(reverse=True)"
   ]
  },
  {
   "cell_type": "code",
   "execution_count": 74,
   "id": "85d2701e-3846-4837-a28a-bd853995afa3",
   "metadata": {},
   "outputs": [
    {
     "data": {
      "text/plain": [
       "[9, 8, 8, 6, 5, 4, 2]"
      ]
     },
     "execution_count": 74,
     "metadata": {},
     "output_type": "execute_result"
    }
   ],
   "source": [
    "li"
   ]
  },
  {
   "cell_type": "code",
   "execution_count": 75,
   "id": "aa9a603d-4bb7-429d-8b3f-634f97ceb733",
   "metadata": {},
   "outputs": [],
   "source": [
    "dogs.reverse()"
   ]
  },
  {
   "cell_type": "code",
   "execution_count": 76,
   "id": "5588c6f2-1930-4c3a-89cb-bdf4bbe9aecf",
   "metadata": {},
   "outputs": [
    {
     "data": {
      "text/plain": [
       "['tom', 'tom', 'kutta', 'jerry', 'doggy']"
      ]
     },
     "execution_count": 76,
     "metadata": {},
     "output_type": "execute_result"
    }
   ],
   "source": [
    "dogs"
   ]
  },
  {
   "cell_type": "code",
   "execution_count": null,
   "id": "22d11d64-5080-4b52-a272-c568ab9c36f8",
   "metadata": {},
   "outputs": [],
   "source": []
  }
 ],
 "metadata": {
  "kernelspec": {
   "display_name": "Python [conda env:base] *",
   "language": "python",
   "name": "conda-base-py"
  },
  "language_info": {
   "codemirror_mode": {
    "name": "ipython",
    "version": 3
   },
   "file_extension": ".py",
   "mimetype": "text/x-python",
   "name": "python",
   "nbconvert_exporter": "python",
   "pygments_lexer": "ipython3",
   "version": "3.13.5"
  }
 },
 "nbformat": 4,
 "nbformat_minor": 5
}
