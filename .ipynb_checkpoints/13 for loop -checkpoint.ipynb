{
 "cells": [
  {
   "cell_type": "code",
   "execution_count": 1,
   "id": "3c518c7e-be25-4ec5-b77b-f28d07c91041",
   "metadata": {},
   "outputs": [
    {
     "name": "stdout",
     "output_type": "stream",
     "text": [
      "0\n",
      "1\n",
      "2\n",
      "3\n",
      "4\n"
     ]
    }
   ],
   "source": [
    "i = 0\n",
    "n = 5\n",
    "while i < n:\n",
    "    print(i)\n",
    "    i += 1"
   ]
  },
  {
   "cell_type": "code",
   "execution_count": 5,
   "id": "97993c82-61d3-4c57-ac62-5ad12255be20",
   "metadata": {},
   "outputs": [
    {
     "name": "stdout",
     "output_type": "stream",
     "text": [
      "5\n",
      "4\n",
      "3\n",
      "2\n",
      "1\n"
     ]
    }
   ],
   "source": [
    "i = 5\n",
    "n = 0\n",
    "while i > n:\n",
    "    print(i)\n",
    "    i -= 1"
   ]
  },
  {
   "cell_type": "code",
   "execution_count": 6,
   "id": "2001a129-1792-4a78-8508-aed3b3913e25",
   "metadata": {},
   "outputs": [],
   "source": [
    "name = \"sahil\""
   ]
  },
  {
   "cell_type": "code",
   "execution_count": 7,
   "id": "ea501c2b-26aa-4370-8b7a-c0e6586f6584",
   "metadata": {},
   "outputs": [
    {
     "name": "stdout",
     "output_type": "stream",
     "text": [
      "hy\n",
      "hy\n",
      "hy\n",
      "hy\n",
      "hy\n"
     ]
    }
   ],
   "source": [
    "for alphabet in name:\n",
    "    print(\"hy\")\n",
    "\n",
    "    "
   ]
  },
  {
   "cell_type": "code",
   "execution_count": 8,
   "id": "b68bb8b2-7aec-48be-84e8-b8decc79599d",
   "metadata": {},
   "outputs": [
    {
     "name": "stdout",
     "output_type": "stream",
     "text": [
      "s\n",
      "a\n",
      "h\n",
      "i\n",
      "l\n"
     ]
    }
   ],
   "source": [
    "for alphabet in name:\n",
    "    print(alphabet)"
   ]
  },
  {
   "cell_type": "code",
   "execution_count": 9,
   "id": "8c8f19be-d357-4f08-b6cb-82625d1da40b",
   "metadata": {},
   "outputs": [
    {
     "name": "stdout",
     "output_type": "stream",
     "text": [
      "tomato\n",
      "onion\n",
      "potato\n",
      "ladyfinger\n"
     ]
    }
   ],
   "source": [
    "items = ['tomato','onion', 'potato', 'ladyfinger']\n",
    "\n",
    "for sabji in items:\n",
    "    print(sabji)"
   ]
  },
  {
   "cell_type": "code",
   "execution_count": 11,
   "id": "93f3e1fd-fe2e-406c-96c7-4985c130ba5f",
   "metadata": {},
   "outputs": [
    {
     "name": "stdout",
     "output_type": "stream",
     "text": [
      "hello sahil\n",
      "hello harjeet\n",
      "hello ujala\n",
      "hello dikshit\n"
     ]
    }
   ],
   "source": [
    "course =['sahil','harjeet','ujala','dikshit']\n",
    "for person in course:\n",
    "    print(\"hello\", person)"
   ]
  },
  {
   "cell_type": "code",
   "execution_count": 12,
   "id": "092ac1d9-024e-42a3-b684-61919af298cc",
   "metadata": {},
   "outputs": [
    {
     "name": "stdout",
     "output_type": "stream",
     "text": [
      "4\n",
      "5\n",
      "6\n",
      "7\n",
      "8\n"
     ]
    }
   ],
   "source": [
    "s = {8,5,6,4,7}\n",
    "for i in s:\n",
    "    print(i)"
   ]
  },
  {
   "cell_type": "code",
   "execution_count": 13,
   "id": "cd59ae11-5408-4022-8a19-2d038f500191",
   "metadata": {},
   "outputs": [
    {
     "name": "stdout",
     "output_type": "stream",
     "text": [
      "0\n",
      "1\n",
      "2\n",
      "3\n",
      "4\n"
     ]
    }
   ],
   "source": [
    "i = 0\n",
    "n = 5\n",
    "while i < n:\n",
    "    print(i)\n",
    "    i += 1"
   ]
  },
  {
   "cell_type": "code",
   "execution_count": 15,
   "id": "f5c53dda-463c-4202-a751-944609e165cc",
   "metadata": {},
   "outputs": [
    {
     "name": "stdout",
     "output_type": "stream",
     "text": [
      "3\n",
      "5\n",
      "7\n",
      "9\n"
     ]
    }
   ],
   "source": [
    "for i in range(3,10,2):\n",
    "    print(i)\n"
   ]
  },
  {
   "cell_type": "code",
   "execution_count": 5,
   "id": "45be0117-cf7f-42ac-bcb2-9d4ef77163c9",
   "metadata": {},
   "outputs": [
    {
     "name": "stdout",
     "output_type": "stream",
     "text": [
      "0\n",
      "2\n",
      "4\n"
     ]
    }
   ],
   "source": [
    "i = 0 \n",
    "n = 5 \n",
    "while i < n:\n",
    "    print (i)\n",
    "    i += 2"
   ]
  },
  {
   "cell_type": "markdown",
   "id": "07a91743-af73-4dd1-9736-e669a9d419fd",
   "metadata": {},
   "source": [
    "## using file random"
   ]
  },
  {
   "cell_type": "code",
   "execution_count": 6,
   "id": "37578e5b-bcea-4a6b-b5fc-46bb482afb7a",
   "metadata": {},
   "outputs": [],
   "source": [
    "import random"
   ]
  },
  {
   "cell_type": "code",
   "execution_count": 7,
   "id": "dba671cd-ffd9-4d27-a487-d12d66c1e2ed",
   "metadata": {},
   "outputs": [
    {
     "data": {
      "text/plain": [
       "'random.py'"
      ]
     },
     "execution_count": 7,
     "metadata": {},
     "output_type": "execute_result"
    }
   ],
   "source": [
    "\"random.py\""
   ]
  },
  {
   "cell_type": "code",
   "execution_count": 11,
   "id": "88006c43-bc1f-40d1-a7b8-f0974e7aabd8",
   "metadata": {},
   "outputs": [
    {
     "data": {
      "text/plain": [
       "16"
      ]
     },
     "execution_count": 11,
     "metadata": {},
     "output_type": "execute_result"
    }
   ],
   "source": [
    "random.randint(1,20)"
   ]
  },
  {
   "cell_type": "code",
   "execution_count": 15,
   "id": "f27a3c70-4506-40d2-8ef9-1cf900857e35",
   "metadata": {},
   "outputs": [
    {
     "name": "stdout",
     "output_type": "stream",
     "text": [
      "4 9 10 6 6 3 6 1 1 5 2 3 9 1 2 "
     ]
    },
    {
     "data": {
      "text/plain": [
       "[4, 9, 10, 6, 6, 3, 6, 1, 1, 5, 2, 3, 9, 1, 2]"
      ]
     },
     "execution_count": 15,
     "metadata": {},
     "output_type": "execute_result"
    }
   ],
   "source": [
    "li = []\n",
    "\n",
    "\n",
    "for i in range(15):\n",
    "    num = random.randint(1,10)\n",
    "    print(num, end=\" \")\n",
    "    li.append(num)\n",
    "\n",
    "\n",
    "li"
   ]
  },
  {
   "cell_type": "code",
   "execution_count": 19,
   "id": "6916290a-1faf-4244-8843-323260a13088",
   "metadata": {},
   "outputs": [
    {
     "name": "stdout",
     "output_type": "stream",
     "text": [
      "[2, 3, 4, 5, 6]\n",
      "[4, 9, 16, 25, 36]\n"
     ]
    }
   ],
   "source": [
    "li =[2,3,4,5,6]\n",
    "a = []\n",
    "for i in li:\n",
    "    s = i ** 2\n",
    "    a.append(s)\n",
    "\n",
    "print(li)\n",
    "print(a)\n",
    "    "
   ]
  },
  {
   "cell_type": "code",
   "execution_count": 20,
   "id": "6aa43884-9774-4b19-be3a-a3f955dcd4b6",
   "metadata": {},
   "outputs": [
    {
     "data": {
      "text/plain": [
       "[6, 2, 10, 7, 2]"
      ]
     },
     "execution_count": 20,
     "metadata": {},
     "output_type": "execute_result"
    }
   ],
   "source": [
    "a = []\n",
    "for i in range(5):\n",
    "    a.append(random.randint(1,10))\n",
    "\n",
    "a"
   ]
  },
  {
   "cell_type": "code",
   "execution_count": 36,
   "id": "1b7d5654-e55a-4fec-bb65-65639bc48e60",
   "metadata": {},
   "outputs": [
    {
     "data": {
      "text/plain": [
       "[6, 3, 2, 1, 2]"
      ]
     },
     "execution_count": 36,
     "metadata": {},
     "output_type": "execute_result"
    }
   ],
   "source": [
    "a = [random.randint(1,10) for i in range(5)]\n",
    "a"
   ]
  },
  {
   "cell_type": "code",
   "execution_count": 37,
   "id": "042577a7-756e-470f-9baa-7a25ce02f675",
   "metadata": {},
   "outputs": [
    {
     "data": {
      "text/plain": [
       "[6, 3, 2, 1, 2]"
      ]
     },
     "execution_count": 37,
     "metadata": {},
     "output_type": "execute_result"
    }
   ],
   "source": [
    "a"
   ]
  },
  {
   "cell_type": "code",
   "execution_count": 39,
   "id": "46fb3317-f37b-4fa3-a137-ab38b5fbc961",
   "metadata": {},
   "outputs": [
    {
     "name": "stdout",
     "output_type": "stream",
     "text": [
      "[6, 3, 2, 1, 2]\n",
      "[36, 9, 4, 1, 4]\n"
     ]
    }
   ],
   "source": [
    "l = [i**2 for i in a]\n",
    "print(a)\n",
    "print(l)"
   ]
  },
  {
   "cell_type": "code",
   "execution_count": 40,
   "id": "cd0eb2ce-66fd-4856-a7cf-e31ae31faf9e",
   "metadata": {},
   "outputs": [
    {
     "name": "stdout",
     "output_type": "stream",
     "text": [
      "[6, 3, 2, 1, 2]\n",
      "[36, 9, 4, 1, 4]\n"
     ]
    }
   ],
   "source": [
    "l = [a[i]**2 for i in range(len(a))]\n",
    "print(a)\n",
    "print(l)"
   ]
  },
  {
   "cell_type": "code",
   "execution_count": 41,
   "id": "acf4a98a-1f34-4c1e-b3e2-b8a87914a432",
   "metadata": {},
   "outputs": [
    {
     "data": {
      "text/plain": [
       "[6, 3, 2, 1, 2]"
      ]
     },
     "execution_count": 41,
     "metadata": {},
     "output_type": "execute_result"
    }
   ],
   "source": [
    "a"
   ]
  },
  {
   "cell_type": "code",
   "execution_count": 43,
   "id": "9f00f631-8786-4004-ad4e-bfcecb39bcd2",
   "metadata": {},
   "outputs": [],
   "source": [
    "name = ['sahil', 'harjeet','abhi']\n",
    "age = [20,25,23]"
   ]
  },
  {
   "cell_type": "code",
   "execution_count": 45,
   "id": "228b2a6a-bd3c-40ca-bf8f-ab537afd7250",
   "metadata": {},
   "outputs": [
    {
     "name": "stdout",
     "output_type": "stream",
     "text": [
      "sahil 20\n",
      "harjeet 25\n",
      "abhi 23\n"
     ]
    }
   ],
   "source": [
    "li =[]\n",
    "for i , j in zip(name, age):\n",
    "    print(i,j)"
   ]
  },
  {
   "cell_type": "code",
   "execution_count": 46,
   "id": "d85c9f5a-3d7e-4ca3-8467-300e8fa2328f",
   "metadata": {},
   "outputs": [
    {
     "data": {
      "text/plain": [
       "{'sahil': 20, 'harjeet': 25, 'abhi': 23}"
      ]
     },
     "execution_count": 46,
     "metadata": {},
     "output_type": "execute_result"
    }
   ],
   "source": [
    "{i: j for i, j in zip(name,age)}"
   ]
  },
  {
   "cell_type": "code",
   "execution_count": null,
   "id": "74c23529-849e-452f-bef5-76cb12d094dc",
   "metadata": {},
   "outputs": [],
   "source": []
  },
  {
   "cell_type": "code",
   "execution_count": null,
   "id": "6111f8b6-4a7d-4a64-a9cf-44901028891b",
   "metadata": {},
   "outputs": [],
   "source": []
  },
  {
   "cell_type": "code",
   "execution_count": null,
   "id": "f90e3436-713a-48ab-b68d-e91ae10d33f1",
   "metadata": {},
   "outputs": [],
   "source": []
  },
  {
   "cell_type": "code",
   "execution_count": null,
   "id": "f09a9957-1a4e-4771-9546-e35490850b43",
   "metadata": {},
   "outputs": [],
   "source": []
  }
 ],
 "metadata": {
  "kernelspec": {
   "display_name": "Python [conda env:base] *",
   "language": "python",
   "name": "conda-base-py"
  },
  "language_info": {
   "codemirror_mode": {
    "name": "ipython",
    "version": 3
   },
   "file_extension": ".py",
   "mimetype": "text/x-python",
   "name": "python",
   "nbconvert_exporter": "python",
   "pygments_lexer": "ipython3",
   "version": "3.13.5"
  }
 },
 "nbformat": 4,
 "nbformat_minor": 5
}
