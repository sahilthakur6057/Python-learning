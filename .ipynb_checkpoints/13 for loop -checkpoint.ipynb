{
 "cells": [
  {
   "cell_type": "code",
   "execution_count": 1,
   "id": "3c518c7e-be25-4ec5-b77b-f28d07c91041",
   "metadata": {},
   "outputs": [
    {
     "name": "stdout",
     "output_type": "stream",
     "text": [
      "0\n",
      "1\n",
      "2\n",
      "3\n",
      "4\n"
     ]
    }
   ],
   "source": [
    "i = 0\n",
    "n = 5\n",
    "while i < n:\n",
    "    print(i)\n",
    "    i += 1"
   ]
  },
  {
   "cell_type": "code",
   "execution_count": 5,
   "id": "97993c82-61d3-4c57-ac62-5ad12255be20",
   "metadata": {},
   "outputs": [
    {
     "name": "stdout",
     "output_type": "stream",
     "text": [
      "5\n",
      "4\n",
      "3\n",
      "2\n",
      "1\n"
     ]
    }
   ],
   "source": [
    "i = 5\n",
    "n = 0\n",
    "while i > n:\n",
    "    print(i)\n",
    "    i -= 1"
   ]
  },
  {
   "cell_type": "code",
   "execution_count": 6,
   "id": "2001a129-1792-4a78-8508-aed3b3913e25",
   "metadata": {},
   "outputs": [],
   "source": [
    "name = \"sahil\""
   ]
  },
  {
   "cell_type": "code",
   "execution_count": 7,
   "id": "ea501c2b-26aa-4370-8b7a-c0e6586f6584",
   "metadata": {},
   "outputs": [
    {
     "name": "stdout",
     "output_type": "stream",
     "text": [
      "hy\n",
      "hy\n",
      "hy\n",
      "hy\n",
      "hy\n"
     ]
    }
   ],
   "source": [
    "for alphabet in name:\n",
    "    print(\"hy\")\n",
    "\n",
    "    "
   ]
  },
  {
   "cell_type": "code",
   "execution_count": 8,
   "id": "b68bb8b2-7aec-48be-84e8-b8decc79599d",
   "metadata": {},
   "outputs": [
    {
     "name": "stdout",
     "output_type": "stream",
     "text": [
      "s\n",
      "a\n",
      "h\n",
      "i\n",
      "l\n"
     ]
    }
   ],
   "source": [
    "for alphabet in name:\n",
    "    print(alphabet)"
   ]
  },
  {
   "cell_type": "code",
   "execution_count": 9,
   "id": "8c8f19be-d357-4f08-b6cb-82625d1da40b",
   "metadata": {},
   "outputs": [
    {
     "name": "stdout",
     "output_type": "stream",
     "text": [
      "tomato\n",
      "onion\n",
      "potato\n",
      "ladyfinger\n"
     ]
    }
   ],
   "source": [
    "items = ['tomato','onion', 'potato', 'ladyfinger']\n",
    "\n",
    "for sabji in items:\n",
    "    print(sabji)"
   ]
  },
  {
   "cell_type": "code",
   "execution_count": 11,
   "id": "93f3e1fd-fe2e-406c-96c7-4985c130ba5f",
   "metadata": {},
   "outputs": [
    {
     "name": "stdout",
     "output_type": "stream",
     "text": [
      "hello sahil\n",
      "hello harjeet\n",
      "hello ujala\n",
      "hello dikshit\n"
     ]
    }
   ],
   "source": [
    "course =['sahil','harjeet','ujala','dikshit']\n",
    "for person in course:\n",
    "    print(\"hello\", person)"
   ]
  },
  {
   "cell_type": "code",
   "execution_count": 12,
   "id": "092ac1d9-024e-42a3-b684-61919af298cc",
   "metadata": {},
   "outputs": [
    {
     "name": "stdout",
     "output_type": "stream",
     "text": [
      "4\n",
      "5\n",
      "6\n",
      "7\n",
      "8\n"
     ]
    }
   ],
   "source": [
    "s = {8,5,6,4,7}\n",
    "for i in s:\n",
    "    print(i)"
   ]
  },
  {
   "cell_type": "code",
   "execution_count": 13,
   "id": "cd59ae11-5408-4022-8a19-2d038f500191",
   "metadata": {},
   "outputs": [
    {
     "name": "stdout",
     "output_type": "stream",
     "text": [
      "0\n",
      "1\n",
      "2\n",
      "3\n",
      "4\n"
     ]
    }
   ],
   "source": [
    "i = 0\n",
    "n = 5\n",
    "while i < n:\n",
    "    print(i)\n",
    "    i += 1"
   ]
  },
  {
   "cell_type": "code",
   "execution_count": 15,
   "id": "f5c53dda-463c-4202-a751-944609e165cc",
   "metadata": {},
   "outputs": [
    {
     "name": "stdout",
     "output_type": "stream",
     "text": [
      "3\n",
      "5\n",
      "7\n",
      "9\n"
     ]
    }
   ],
   "source": [
    "for i in range(3,10,2):\n",
    "    print(i)\n"
   ]
  },
  {
   "cell_type": "code",
   "execution_count": null,
   "id": "45be0117-cf7f-42ac-bcb2-9d4ef77163c9",
   "metadata": {},
   "outputs": [],
   "source": []
  }
 ],
 "metadata": {
  "kernelspec": {
   "display_name": "Python [conda env:base] *",
   "language": "python",
   "name": "conda-base-py"
  },
  "language_info": {
   "codemirror_mode": {
    "name": "ipython",
    "version": 3
   },
   "file_extension": ".py",
   "mimetype": "text/x-python",
   "name": "python",
   "nbconvert_exporter": "python",
   "pygments_lexer": "ipython3",
   "version": "3.13.5"
  }
 },
 "nbformat": 4,
 "nbformat_minor": 5
}
