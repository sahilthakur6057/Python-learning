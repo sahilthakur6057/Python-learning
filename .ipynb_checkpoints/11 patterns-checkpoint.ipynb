{
 "cells": [
  {
   "cell_type": "code",
   "execution_count": 1,
   "id": "a2446ba1-56ce-4e87-b368-4d4ed4ab2a0c",
   "metadata": {},
   "outputs": [
    {
     "name": "stdout",
     "output_type": "stream",
     "text": [
      "5 5 5 5 5 \n",
      "4 4 4 4 \n",
      "3 3 3 \n",
      "2 2 \n",
      "1 \n"
     ]
    }
   ],
   "source": [
    "i = 0 \n",
    "n = 5\n",
    "while i < n:\n",
    "    j = 0\n",
    "    m = 5\n",
    "    while j < n-i:\n",
    "        print(n-i, end= \" \")\n",
    "        j += 1\n",
    "    print ()\n",
    "    i += 1"
   ]
  },
  {
   "cell_type": "code",
   "execution_count": 9,
   "id": "996abf7c-9c24-4f6b-b06b-e8407c882307",
   "metadata": {},
   "outputs": [
    {
     "name": "stdout",
     "output_type": "stream",
     "text": [
      "     0\n",
      "    012\n",
      "   01234\n",
      "  0123456\n",
      " 012345678\n",
      "     0\n",
      "    012\n",
      "   01234\n",
      "  0123456\n",
      " 012345678\n"
     ]
    }
   ],
   "source": [
    "i = 0\n",
    "n = 5\n",
    "while i < n:\n",
    "    j = 0\n",
    "    while j < n-i:\n",
    "        print(\" \", end= \"\")\n",
    "        j+= 1\n",
    "\n",
    "        \n",
    "\n",
    "    k = 0\n",
    "    while k<((i + 1)*2)-1:\n",
    "        print(k, end= \"\")\n",
    "        k += 1\n",
    "\n",
    "\n",
    "    print()\n",
    "    i += 1\n",
    "\n",
    "\n",
    "\n",
    "\n",
    "\n",
    "\n",
    "i = 0\n",
    "n = 5\n",
    "while i < n:\n",
    "    j = 0\n",
    "    while j < n-i:\n",
    "        print(\" \", end= \"\")\n",
    "        j+= 1\n",
    "\n",
    "        \n",
    "\n",
    "    k = 0\n",
    "    while k<((i + 1)*2)-1:\n",
    "        print(k, end= \"\")\n",
    "        k += 1\n",
    "\n",
    "\n",
    "    print()\n",
    "    i += 1"
   ]
  },
  {
   "cell_type": "code",
   "execution_count": 13,
   "id": "a9eb2e27-17de-4b49-99c1-b49012b66465",
   "metadata": {},
   "outputs": [
    {
     "name": "stdout",
     "output_type": "stream",
     "text": [
      "     *\n",
      "    ***\n",
      "   *****\n",
      "  *******\n",
      " *********\n",
      "          *\n",
      "        ***\n",
      "      *****\n",
      "    *******\n",
      "  *********\n"
     ]
    }
   ],
   "source": [
    "i = 0\n",
    "n = 5\n",
    "while i < n:\n",
    "    j = 0\n",
    "    while j < n-i:\n",
    "        print(\" \", end= \"\")\n",
    "        j+= 1\n",
    "\n",
    "        \n",
    "\n",
    "    k = 0\n",
    "    while k<((i + 1)*2)-1:\n",
    "        print(\"*\", end= \"\")\n",
    "        k += 1\n",
    "\n",
    "\n",
    "    print()\n",
    "    i += 1\n",
    "\n",
    "\n",
    "i = 0\n",
    "n = 5\n",
    "while i < n:\n",
    "    j = 0\n",
    "    while j < n-i:\n",
    "        print(\"  \", end= \"\")\n",
    "        j+= 1\n",
    "\n",
    "        \n",
    "\n",
    "    k = 0\n",
    "    while k<((i + 1)*2)-1:\n",
    "        print(\"*\", end= \"\")\n",
    "        k += 1\n",
    "\n",
    "\n",
    "    print() \n",
    "    i += 1\n",
    "\n",
    "\n",
    "\n",
    "    "
   ]
  },
  {
   "cell_type": "code",
   "execution_count": null,
   "id": "adf9c4c6-79e0-40a3-9054-7b10b7b4b1a0",
   "metadata": {},
   "outputs": [],
   "source": []
  }
 ],
 "metadata": {
  "kernelspec": {
   "display_name": "Python [conda env:base] *",
   "language": "python",
   "name": "conda-base-py"
  },
  "language_info": {
   "codemirror_mode": {
    "name": "ipython",
    "version": 3
   },
   "file_extension": ".py",
   "mimetype": "text/x-python",
   "name": "python",
   "nbconvert_exporter": "python",
   "pygments_lexer": "ipython3",
   "version": "3.13.5"
  }
 },
 "nbformat": 4,
 "nbformat_minor": 5
}
