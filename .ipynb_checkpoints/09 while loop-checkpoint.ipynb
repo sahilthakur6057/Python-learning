{
 "cells": [
  {
   "cell_type": "markdown",
   "id": "03cbae19-e9cc-4ea2-b3d0-2e4694cdfad1",
   "metadata": {},
   "source": [
    "# WHILE LOOP\n",
    "## repeating a task again and again untill certain criteria is sertisfied"
   ]
  },
  {
   "cell_type": "code",
   "execution_count": 19,
   "id": "c0f7d57e-b658-4412-9ffd-17281a708bdd",
   "metadata": {},
   "outputs": [
    {
     "name": "stdout",
     "output_type": "stream",
     "text": [
      "hi\n",
      "hello\n",
      "sahil\n"
     ]
    }
   ],
   "source": [
    "# starting an infinite while loop\n",
    "while True:\n",
    "    print(\"hi\")\n",
    "    print(\"hello\")\n",
    "    break\n",
    "    print(\"bye\") \n",
    "    # printing  a value after while loop\n",
    "print(\"sahil\")\n",
    "    "
   ]
  },
  {
   "cell_type": "code",
   "execution_count": 2,
   "id": "d2628eb5-fb84-4932-a5af-69c4750f7650",
   "metadata": {},
   "outputs": [],
   "source": [
    "i = 1"
   ]
  },
  {
   "cell_type": "code",
   "execution_count": 3,
   "id": "dcdbae65-87c1-49cf-88ea-6418a3d023c4",
   "metadata": {},
   "outputs": [
    {
     "name": "stdout",
     "output_type": "stream",
     "text": [
      "1\n",
      "2\n"
     ]
    }
   ],
   "source": [
    "while True:\n",
    "    print(i)\n",
    "    i += 1\n",
    "    print(i)\n",
    "    break"
   ]
  },
  {
   "cell_type": "code",
   "execution_count": 4,
   "id": "ba3bec83-e921-43e3-8204-72146ee6332f",
   "metadata": {},
   "outputs": [
    {
     "data": {
      "text/plain": [
       "2"
      ]
     },
     "execution_count": 4,
     "metadata": {},
     "output_type": "execute_result"
    }
   ],
   "source": [
    "i"
   ]
  },
  {
   "cell_type": "code",
   "execution_count": 5,
   "id": "bac34a12-c806-4e52-8d19-f090f4b4c3ba",
   "metadata": {},
   "outputs": [],
   "source": [
    "i = 1"
   ]
  },
  {
   "cell_type": "code",
   "execution_count": 6,
   "id": "dc912c23-1848-4b13-af0a-434572456ea6",
   "metadata": {},
   "outputs": [
    {
     "data": {
      "text/plain": [
       "1"
      ]
     },
     "execution_count": 6,
     "metadata": {},
     "output_type": "execute_result"
    }
   ],
   "source": [
    "i"
   ]
  },
  {
   "cell_type": "code",
   "execution_count": 1,
   "id": "73cd00b3-0b23-4071-923f-de229a60f72b",
   "metadata": {},
   "outputs": [
    {
     "name": "stdout",
     "output_type": "stream",
     "text": [
      "1\n",
      "2\n",
      "3\n",
      "4\n",
      "5\n"
     ]
    }
   ],
   "source": [
    "i =1\n",
    "while True:\n",
    "    print(i)\n",
    "    if i == 5:\n",
    "        break\n",
    "    i += 1\n",
    "    "
   ]
  },
  {
   "cell_type": "code",
   "execution_count": 2,
   "id": "154625cf-df45-4b86-9985-ef82c16c4a63",
   "metadata": {},
   "outputs": [
    {
     "name": "stdout",
     "output_type": "stream",
     "text": [
      "0\n",
      "1\n",
      "2\n"
     ]
    }
   ],
   "source": [
    "i = 0\n",
    "while i < 3:\n",
    "    print(i)\n",
    "    i += 1"
   ]
  },
  {
   "cell_type": "code",
   "execution_count": 3,
   "id": "fdd3b815-44b2-4330-91c2-c7984c3d363e",
   "metadata": {},
   "outputs": [
    {
     "name": "stdout",
     "output_type": "stream",
     "text": [
      "0\n",
      "1\n",
      "2\n",
      "3\n",
      "4\n"
     ]
    }
   ],
   "source": [
    "i = 0\n",
    "while i < 5:\n",
    "    print(i)\n",
    "    i +=1"
   ]
  },
  {
   "cell_type": "code",
   "execution_count": 7,
   "id": "9d84b559-c1a1-43f7-b3af-306badd7f5c3",
   "metadata": {},
   "outputs": [
    {
     "name": "stdout",
     "output_type": "stream",
     "text": [
      "0\n",
      "3\n",
      "6\n",
      "9\n"
     ]
    }
   ],
   "source": [
    "i = 0\n",
    "n = 10\n",
    "while i < n:\n",
    "    print(i)\n",
    "    i += 3"
   ]
  },
  {
   "cell_type": "code",
   "execution_count": 20,
   "id": "f62b8414-8205-4f02-9dd8-bb9929d49717",
   "metadata": {},
   "outputs": [
    {
     "name": "stdout",
     "output_type": "stream",
     "text": [
      "0\n",
      "2\n",
      "4\n",
      "6\n",
      "8\n",
      "10\n",
      "12\n",
      "14\n",
      "16\n",
      "18\n"
     ]
    }
   ],
   "source": [
    "i = 0\n",
    "n = 20\n",
    "while i < n:\n",
    "    print(i)\n",
    "    i += 2"
   ]
  },
  {
   "cell_type": "code",
   "execution_count": 19,
   "id": "1fdd3d59-d73b-45dc-82f5-35c9c9003070",
   "metadata": {},
   "outputs": [
    {
     "name": "stdout",
     "output_type": "stream",
     "text": [
      "0\n",
      "5\n",
      "10\n",
      "15\n",
      "20\n",
      "25\n"
     ]
    }
   ],
   "source": [
    "i = 0\n",
    "n = 30\n",
    "while i < n:\n",
    "    print(i)\n",
    "    i += 5"
   ]
  },
  {
   "cell_type": "code",
   "execution_count": 1,
   "id": "71c4853e-c67e-4fdb-ba72-d7378e8a8d34",
   "metadata": {},
   "outputs": [
    {
     "name": "stdout",
     "output_type": "stream",
     "text": [
      "7 X 1 = 7\n",
      "7 X 2 = 14\n",
      "7 X 3 = 21\n",
      "7 X 4 = 28\n",
      "7 X 5 = 35\n",
      "7 X 6 = 42\n",
      "7 X 7 = 49\n",
      "7 X 8 = 56\n",
      "7 X 9 = 63\n",
      "7 X 10 = 70\n"
     ]
    }
   ],
   "source": [
    "i = 1\n",
    "n = 11\n",
    "while i < n:\n",
    "    print(7, \"X\", i, \"=\", i*7)\n",
    "    i += 1"
   ]
  },
  {
   "cell_type": "code",
   "execution_count": 2,
   "id": "b63a3231-e424-40b8-9331-3527795ab621",
   "metadata": {},
   "outputs": [
    {
     "name": "stdout",
     "output_type": "stream",
     "text": [
      "5 X 1 = 5\n",
      "5 X 2 = 10\n",
      "5 X 3 = 15\n",
      "5 X 4 = 20\n",
      "5 X 5 = 25\n",
      "5 X 6 = 30\n",
      "5 X 7 = 35\n",
      "5 X 8 = 40\n",
      "5 X 9 = 45\n",
      "5 X 10 = 50\n"
     ]
    }
   ],
   "source": [
    "i = 1\n",
    "n = 11 \n",
    "while i < n:\n",
    "    print(5, \"X\", i, \"=\", i*5)\n",
    "    i += 1"
   ]
  },
  {
   "cell_type": "code",
   "execution_count": 3,
   "id": "c32ca857-b3fc-4699-a74e-b264f9b500f0",
   "metadata": {},
   "outputs": [
    {
     "name": "stdout",
     "output_type": "stream",
     "text": [
      "0 0\n",
      "1 1\n",
      "2 3\n",
      "3 6\n",
      "4 10\n",
      "5 15\n",
      "6 21\n",
      "21\n"
     ]
    }
   ],
   "source": [
    "i = 0\n",
    "n = 7\n",
    "a = 0\n",
    "while i < n:\n",
    "    a += i \n",
    "    print(i ,a)\n",
    "    i +=1\n",
    "print(a)"
   ]
  },
  {
   "cell_type": "code",
   "execution_count": 11,
   "id": "4061496d-b04b-4570-ad13-3c0734555f6b",
   "metadata": {},
   "outputs": [
    {
     "name": "stdout",
     "output_type": "stream",
     "text": [
      "0 0\n",
      "1 1\n",
      "2 3\n",
      "3 6\n",
      "4 10\n"
     ]
    }
   ],
   "source": [
    "a = 0\n",
    "i = 0\n",
    "n = 5\n",
    "while i < n:\n",
    "    a += i\n",
    "    print(i,a)\n",
    "    i += 1"
   ]
  },
  {
   "cell_type": "code",
   "execution_count": 12,
   "id": "c880b181-38ff-4c12-9296-1faed6c0d475",
   "metadata": {},
   "outputs": [
    {
     "name": "stdout",
     "output_type": "stream",
     "text": [
      "3825\n"
     ]
    }
   ],
   "source": [
    "# sum of numbers in a range\n",
    "i = 50\n",
    "n = 101\n",
    "a = 0\n",
    "while i < n:\n",
    "    a+= i\n",
    "    i+= 1\n",
    "print(a)"
   ]
  },
  {
   "cell_type": "code",
   "execution_count": 13,
   "id": "0f40a0a1-081e-41d6-b986-c37c7a0bd6cc",
   "metadata": {},
   "outputs": [],
   "source": [
    "name = \"sahil thakur\""
   ]
  },
  {
   "cell_type": "code",
   "execution_count": 14,
   "id": "ade3f204-57a0-4941-bda6-6d558c373e7e",
   "metadata": {},
   "outputs": [
    {
     "data": {
      "text/plain": [
       "'sahil thakur'"
      ]
     },
     "execution_count": 14,
     "metadata": {},
     "output_type": "execute_result"
    }
   ],
   "source": [
    "name"
   ]
  },
  {
   "cell_type": "code",
   "execution_count": 16,
   "id": "c4ea41f2-856e-4e0f-96c9-87a9e90a005a",
   "metadata": {},
   "outputs": [
    {
     "name": "stdout",
     "output_type": "stream",
     "text": [
      "s\n",
      "a\n",
      "h\n",
      "i\n",
      "l\n",
      " \n",
      "t\n",
      "h\n",
      "a\n",
      "k\n",
      "u\n",
      "r\n"
     ]
    }
   ],
   "source": [
    "name = \"sahil thakur\"\n",
    "i = 0\n",
    "n = len(name)\n",
    "while i < n:\n",
    "    print(name[i])\n",
    "    i += 1"
   ]
  },
  {
   "cell_type": "code",
   "execution_count": 18,
   "id": "6fde242b-1e15-4d78-a517-35b3c71b09e2",
   "metadata": {},
   "outputs": [
    {
     "name": "stdout",
     "output_type": "stream",
     "text": [
      "0 12 s\n",
      "1 12 a\n",
      "2 12 h\n",
      "3 12 i\n",
      "4 12 l\n",
      "5 12  \n",
      "6 12 t\n",
      "7 12 h\n",
      "8 12 a\n",
      "9 12 k\n",
      "10 12 u\n",
      "11 12 r\n"
     ]
    }
   ],
   "source": [
    "name = \"sahil thakur\"\n",
    "i = 0\n",
    "n = len(name)\n",
    "while i < n:\n",
    "    print(i,n,name[i])\n",
    "    i += 1"
   ]
  },
  {
   "cell_type": "code",
   "execution_count": null,
   "id": "70d2cefe-19f7-4af7-8263-1276cffdaf9c",
   "metadata": {},
   "outputs": [],
   "source": []
  }
 ],
 "metadata": {
  "kernelspec": {
   "display_name": "Python [conda env:base] *",
   "language": "python",
   "name": "conda-base-py"
  },
  "language_info": {
   "codemirror_mode": {
    "name": "ipython",
    "version": 3
   },
   "file_extension": ".py",
   "mimetype": "text/x-python",
   "name": "python",
   "nbconvert_exporter": "python",
   "pygments_lexer": "ipython3",
   "version": "3.13.5"
  }
 },
 "nbformat": 4,
 "nbformat_minor": 5
}
