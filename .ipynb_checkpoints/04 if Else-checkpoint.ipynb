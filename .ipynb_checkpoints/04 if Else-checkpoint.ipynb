{
 "cells": [
  {
   "cell_type": "markdown",
   "id": "656ec4c6-4fdf-4af2-b7d5-48687e84faa2",
   "metadata": {},
   "source": [
    "# booleans"
   ]
  },
  {
   "cell_type": "code",
   "execution_count": 1,
   "id": "cd15a64a-9925-4bb5-a598-dd1c6d5125eb",
   "metadata": {
    "scrolled": true
   },
   "outputs": [
    {
     "data": {
      "text/plain": [
       "True"
      ]
     },
     "execution_count": 1,
     "metadata": {},
     "output_type": "execute_result"
    }
   ],
   "source": [
    "True"
   ]
  },
  {
   "cell_type": "code",
   "execution_count": 3,
   "id": "f23d492c-44d4-4e5e-aed5-aa09f2c5e2cb",
   "metadata": {
    "scrolled": true
   },
   "outputs": [
    {
     "data": {
      "text/plain": [
       "False"
      ]
     },
     "execution_count": 3,
     "metadata": {},
     "output_type": "execute_result"
    }
   ],
   "source": [
    "False"
   ]
  },
  {
   "cell_type": "code",
   "execution_count": 4,
   "id": "f403e365-5281-4c7f-ba4e-e1dc14238127",
   "metadata": {},
   "outputs": [
    {
     "data": {
      "text/plain": [
       "1"
      ]
     },
     "execution_count": 4,
     "metadata": {},
     "output_type": "execute_result"
    }
   ],
   "source": [
    "int(True)"
   ]
  },
  {
   "cell_type": "code",
   "execution_count": 5,
   "id": "a4f825c8-25c4-4e5b-ae57-1f3740160e78",
   "metadata": {},
   "outputs": [
    {
     "data": {
      "text/plain": [
       "0"
      ]
     },
     "execution_count": 5,
     "metadata": {},
     "output_type": "execute_result"
    }
   ],
   "source": [
    "int(False)"
   ]
  },
  {
   "cell_type": "code",
   "execution_count": 6,
   "id": "8c8e825a-e231-4837-bcc7-c39d4550c649",
   "metadata": {},
   "outputs": [
    {
     "data": {
      "text/plain": [
       "True"
      ]
     },
     "execution_count": 6,
     "metadata": {},
     "output_type": "execute_result"
    }
   ],
   "source": [
    "bool(5)"
   ]
  },
  {
   "cell_type": "code",
   "execution_count": 7,
   "id": "2323fe44-999f-4ed7-b2f7-512af89b998b",
   "metadata": {},
   "outputs": [
    {
     "data": {
      "text/plain": [
       "True"
      ]
     },
     "execution_count": 7,
     "metadata": {},
     "output_type": "execute_result"
    }
   ],
   "source": [
    "bool(-8)"
   ]
  },
  {
   "cell_type": "code",
   "execution_count": 8,
   "id": "3b8342ed-6d5c-4726-af6e-8229d301a3bb",
   "metadata": {},
   "outputs": [
    {
     "data": {
      "text/plain": [
       "False"
      ]
     },
     "execution_count": 8,
     "metadata": {},
     "output_type": "execute_result"
    }
   ],
   "source": [
    "bool(0)"
   ]
  },
  {
   "cell_type": "code",
   "execution_count": 9,
   "id": "812e35bb-7d39-44c3-9294-5af13880d979",
   "metadata": {},
   "outputs": [
    {
     "data": {
      "text/plain": [
       "bool"
      ]
     },
     "execution_count": 9,
     "metadata": {},
     "output_type": "execute_result"
    }
   ],
   "source": [
    "type(True)"
   ]
  },
  {
   "cell_type": "code",
   "execution_count": 10,
   "id": "5f0f54eb-f3fc-4a6e-9145-d09ab2d89499",
   "metadata": {},
   "outputs": [
    {
     "data": {
      "text/plain": [
       "bool"
      ]
     },
     "execution_count": 10,
     "metadata": {},
     "output_type": "execute_result"
    }
   ],
   "source": [
    "type(False)"
   ]
  },
  {
   "cell_type": "code",
   "execution_count": 11,
   "id": "f25e00b8-7337-4334-b957-35c7770ac4d5",
   "metadata": {},
   "outputs": [
    {
     "data": {
      "text/plain": [
       "False"
      ]
     },
     "execution_count": 11,
     "metadata": {},
     "output_type": "execute_result"
    }
   ],
   "source": [
    "bool([])"
   ]
  },
  {
   "cell_type": "code",
   "execution_count": 12,
   "id": "809f87fc-e0c0-4ee3-960e-08c580482ecd",
   "metadata": {},
   "outputs": [
    {
     "data": {
      "text/plain": [
       "False"
      ]
     },
     "execution_count": 12,
     "metadata": {},
     "output_type": "execute_result"
    }
   ],
   "source": [
    "bool(())"
   ]
  },
  {
   "cell_type": "code",
   "execution_count": 13,
   "id": "eef0340c-f539-4feb-a9de-e785176204cc",
   "metadata": {},
   "outputs": [
    {
     "data": {
      "text/plain": [
       "True"
      ]
     },
     "execution_count": 13,
     "metadata": {},
     "output_type": "execute_result"
    }
   ],
   "source": [
    "bool((6))"
   ]
  },
  {
   "cell_type": "markdown",
   "id": "81cf3753-568d-4d9d-9a1a-d693cf55d6d5",
   "metadata": {},
   "source": [
    "# comparison operators"
   ]
  },
  {
   "cell_type": "code",
   "execution_count": 20,
   "id": "d0c53ef7-124f-425d-a953-4d34251365a1",
   "metadata": {},
   "outputs": [
    {
     "data": {
      "text/plain": [
       "False"
      ]
     },
     "execution_count": 20,
     "metadata": {},
     "output_type": "execute_result"
    }
   ],
   "source": [
    "5 > 10"
   ]
  },
  {
   "cell_type": "code",
   "execution_count": 21,
   "id": "ffb519c4-ff68-4d9a-8f4b-ea3ac01eecb4",
   "metadata": {},
   "outputs": [
    {
     "data": {
      "text/plain": [
       "False"
      ]
     },
     "execution_count": 21,
     "metadata": {},
     "output_type": "execute_result"
    }
   ],
   "source": [
    "10 < 5"
   ]
  },
  {
   "cell_type": "code",
   "execution_count": 22,
   "id": "29913c16-bc33-4498-ba39-faa306311d6e",
   "metadata": {},
   "outputs": [
    {
     "data": {
      "text/plain": [
       "True"
      ]
     },
     "execution_count": 22,
     "metadata": {},
     "output_type": "execute_result"
    }
   ],
   "source": [
    "10> 5"
   ]
  },
  {
   "cell_type": "code",
   "execution_count": null,
   "id": "152dc48a-598c-4725-8e60-8c4351fd1e42",
   "metadata": {},
   "outputs": [],
   "source": [
    "age = 15"
   ]
  },
  {
   "cell_type": "code",
   "execution_count": 23,
   "id": "49c83709-01a7-49db-99a0-b165a6c6fe62",
   "metadata": {},
   "outputs": [
    {
     "data": {
      "text/plain": [
       "False"
      ]
     },
     "execution_count": 23,
     "metadata": {},
     "output_type": "execute_result"
    }
   ],
   "source": [
    "age == 18"
   ]
  },
  {
   "cell_type": "code",
   "execution_count": 24,
   "id": "a0445575-8102-4146-96c8-3efb6cce5bcb",
   "metadata": {},
   "outputs": [
    {
     "data": {
      "text/plain": [
       "True"
      ]
     },
     "execution_count": 24,
     "metadata": {},
     "output_type": "execute_result"
    }
   ],
   "source": [
    "5 ==5"
   ]
  },
  {
   "cell_type": "code",
   "execution_count": 25,
   "id": "44d6e256-ac18-4285-bab9-f70056bc5a5d",
   "metadata": {},
   "outputs": [
    {
     "data": {
      "text/plain": [
       "False"
      ]
     },
     "execution_count": 25,
     "metadata": {},
     "output_type": "execute_result"
    }
   ],
   "source": [
    "10 < 10"
   ]
  },
  {
   "cell_type": "code",
   "execution_count": 26,
   "id": "64d1029a-d929-4f0d-a791-24274b3b5f96",
   "metadata": {},
   "outputs": [
    {
     "data": {
      "text/plain": [
       "True"
      ]
     },
     "execution_count": 26,
     "metadata": {},
     "output_type": "execute_result"
    }
   ],
   "source": [
    "10 == 10"
   ]
  },
  {
   "cell_type": "code",
   "execution_count": 27,
   "id": "786df381-5f0c-45ca-85b8-52870700f1c0",
   "metadata": {},
   "outputs": [
    {
     "data": {
      "text/plain": [
       "False"
      ]
     },
     "execution_count": 27,
     "metadata": {},
     "output_type": "execute_result"
    }
   ],
   "source": [
    "10 ==13"
   ]
  },
  {
   "cell_type": "code",
   "execution_count": 28,
   "id": "7e39d71c-0834-4860-8aa0-83f24baba0f4",
   "metadata": {},
   "outputs": [],
   "source": [
    "age = 19"
   ]
  },
  {
   "cell_type": "code",
   "execution_count": 29,
   "id": "02b14bf7-7a3e-4cef-ad86-13e1e7466417",
   "metadata": {},
   "outputs": [
    {
     "data": {
      "text/plain": [
       "False"
      ]
     },
     "execution_count": 29,
     "metadata": {},
     "output_type": "execute_result"
    }
   ],
   "source": [
    "age <= 10"
   ]
  },
  {
   "cell_type": "code",
   "execution_count": 30,
   "id": "6070cf6d-7bc1-4331-8bc2-c40d02727a82",
   "metadata": {},
   "outputs": [
    {
     "data": {
      "text/plain": [
       "19"
      ]
     },
     "execution_count": 30,
     "metadata": {},
     "output_type": "execute_result"
    }
   ],
   "source": [
    "age"
   ]
  },
  {
   "cell_type": "code",
   "execution_count": 31,
   "id": "5a3192b9-7d42-406c-9b86-16f32d738249",
   "metadata": {},
   "outputs": [
    {
     "data": {
      "text/plain": [
       "False"
      ]
     },
     "execution_count": 31,
     "metadata": {},
     "output_type": "execute_result"
    }
   ],
   "source": [
    "age != 19"
   ]
  },
  {
   "cell_type": "code",
   "execution_count": 32,
   "id": "8dcc1ba4-7308-4d34-9ec9-a66056dd2146",
   "metadata": {},
   "outputs": [
    {
     "data": {
      "text/plain": [
       "True"
      ]
     },
     "execution_count": 32,
     "metadata": {},
     "output_type": "execute_result"
    }
   ],
   "source": [
    "age != 18"
   ]
  },
  {
   "cell_type": "code",
   "execution_count": null,
   "id": "da069c29-2e1e-4e49-97bb-4658eba5d1b5",
   "metadata": {},
   "outputs": [],
   "source": []
  },
  {
   "cell_type": "markdown",
   "id": "eadbbec9-e1c3-4cc7-9b5d-563d0ba4637d",
   "metadata": {},
   "source": [
    "# if elif else"
   ]
  },
  {
   "cell_type": "code",
   "execution_count": 14,
   "id": "a070d3da-6af8-4cb2-8c8b-435a53f325c7",
   "metadata": {},
   "outputs": [],
   "source": [
    "age = 20"
   ]
  },
  {
   "cell_type": "code",
   "execution_count": 15,
   "id": "28ae1fc5-81ed-49bf-a229-2765e588ec52",
   "metadata": {},
   "outputs": [
    {
     "name": "stdout",
     "output_type": "stream",
     "text": [
      "welcome\n"
     ]
    }
   ],
   "source": [
    "if age > 18:\n",
    "    print(\"welcome\")"
   ]
  },
  {
   "cell_type": "code",
   "execution_count": 16,
   "id": "4cb57036-c269-4469-a8cf-5170a2abecae",
   "metadata": {},
   "outputs": [],
   "source": [
    "age = 17"
   ]
  },
  {
   "cell_type": "code",
   "execution_count": 19,
   "id": "46a7e636-831d-433f-8af3-77aad683c263",
   "metadata": {},
   "outputs": [],
   "source": [
    "if age > 18:\n",
    "    print(\"welcome\")"
   ]
  },
  {
   "cell_type": "code",
   "execution_count": 41,
   "id": "a0f42d83-fe40-4918-a20b-4d0b33eaa4d3",
   "metadata": {},
   "outputs": [],
   "source": [
    "marks = 37"
   ]
  },
  {
   "cell_type": "code",
   "execution_count": 42,
   "id": "0729b79a-d504-48b5-a3f5-dd245288cca5",
   "metadata": {},
   "outputs": [
    {
     "name": "stdout",
     "output_type": "stream",
     "text": [
      "fail\n"
     ]
    }
   ],
   "source": [
    "if marks >= 90:\n",
    "    print(\"A\")\n",
    "elif marks >= 75:\n",
    "    print (\"B\")\n",
    "elif marks >= 60:\n",
    "    print (\"c\")\n",
    "elif marks >= 40:\n",
    "    print (\"D\")\n",
    "else:\n",
    "    print(\"fail\")"
   ]
  },
  {
   "cell_type": "markdown",
   "id": "db7f7fa8-1da3-4a4c-9649-52d91be38b3e",
   "metadata": {},
   "source": [
    "# logical operations"
   ]
  },
  {
   "cell_type": "markdown",
   "id": "ee6634a7-6d63-4002-8f92-ab028e2c75f2",
   "metadata": {
    "jp-MarkdownHeadingCollapsed": true
   },
   "source": [
    "## NOT"
   ]
  },
  {
   "cell_type": "code",
   "execution_count": 1,
   "id": "596fe719-f90c-4998-82a0-81e6c6460ad7",
   "metadata": {},
   "outputs": [
    {
     "data": {
      "text/plain": [
       "False"
      ]
     },
     "execution_count": 1,
     "metadata": {},
     "output_type": "execute_result"
    }
   ],
   "source": [
    "not True"
   ]
  },
  {
   "cell_type": "code",
   "execution_count": 2,
   "id": "cf27e537-6282-40f7-b4ac-37cf51317fe4",
   "metadata": {},
   "outputs": [
    {
     "data": {
      "text/plain": [
       "True"
      ]
     },
     "execution_count": 2,
     "metadata": {},
     "output_type": "execute_result"
    }
   ],
   "source": [
    "not False"
   ]
  },
  {
   "cell_type": "code",
   "execution_count": 5,
   "id": "cccb27b1-6fc4-4787-b811-8f548540bb3a",
   "metadata": {},
   "outputs": [],
   "source": [
    "if not True:\n",
    "    print (\"hello\")"
   ]
  },
  {
   "cell_type": "code",
   "execution_count": 8,
   "id": "2b223896-bb0e-4983-b0be-7277e681ee10",
   "metadata": {},
   "outputs": [
    {
     "name": "stdout",
     "output_type": "stream",
     "text": [
      "hi\n"
     ]
    }
   ],
   "source": [
    "if not False:\n",
    "    print (\"hi\")"
   ]
  },
  {
   "cell_type": "code",
   "execution_count": 9,
   "id": "aaf825fa-857a-473d-878a-0f499bc8a04e",
   "metadata": {},
   "outputs": [
    {
     "name": "stdout",
     "output_type": "stream",
     "text": [
      "hi sahil\n"
     ]
    }
   ],
   "source": [
    "name = \"sahil\"\n",
    "if name:\n",
    "    print (\"hi\",name)"
   ]
  },
  {
   "cell_type": "code",
   "execution_count": 10,
   "id": "f3bd4745-9169-43b2-90f1-971d6a38405f",
   "metadata": {},
   "outputs": [
    {
     "data": {
      "text/plain": [
       "True"
      ]
     },
     "execution_count": 10,
     "metadata": {},
     "output_type": "execute_result"
    }
   ],
   "source": [
    "bool(name)"
   ]
  },
  {
   "cell_type": "code",
   "execution_count": 12,
   "id": "a8708eb9-37b8-435d-b2de-d7e703e3822a",
   "metadata": {},
   "outputs": [
    {
     "name": "stdout",
     "output_type": "stream",
     "text": [
      "hi sahil\n"
     ]
    }
   ],
   "source": [
    "if name:\n",
    "    print(\"hi\",name)"
   ]
  },
  {
   "cell_type": "code",
   "execution_count": 13,
   "id": "8717157b-dd6e-45c2-80ea-76bf785c0765",
   "metadata": {},
   "outputs": [],
   "source": [
    "first = True"
   ]
  },
  {
   "cell_type": "code",
   "execution_count": 15,
   "id": "623d4160-5df8-4bdf-a237-53ab894c6c29",
   "metadata": {},
   "outputs": [
    {
     "name": "stdout",
     "output_type": "stream",
     "text": [
      "HI USER NICE TO MEET YOU\n"
     ]
    },
    {
     "name": "stdin",
     "output_type": "stream",
     "text": [
      "enter your name SAHIL\n"
     ]
    }
   ],
   "source": [
    "if first:\n",
    "    print(\"HI USER NICE TO MEET YOU\")\n",
    "    name = input(\"enter your name\")\n",
    "else:\n",
    "    print(name)"
   ]
  },
  {
   "cell_type": "markdown",
   "id": "f2291867-057d-4eb6-a0a5-1c2e5f057771",
   "metadata": {},
   "source": [
    "## AND"
   ]
  },
  {
   "cell_type": "code",
   "execution_count": 22,
   "id": "9f2bb718-5e2e-4a1f-974c-ec5095bd4719",
   "metadata": {},
   "outputs": [],
   "source": [
    "count = 3"
   ]
  },
  {
   "cell_type": "code",
   "execution_count": 20,
   "id": "04348234-c87f-4064-9089-2810d687dcb2",
   "metadata": {},
   "outputs": [],
   "source": [
    "marks = 50"
   ]
  },
  {
   "cell_type": "code",
   "execution_count": 25,
   "id": "ef6f164c-a77a-4b7c-9cd9-6e49e490090b",
   "metadata": {},
   "outputs": [],
   "source": [
    "attendance = 81"
   ]
  },
  {
   "cell_type": "code",
   "execution_count": 21,
   "id": "31214b0a-f270-408f-ad87-f502bf81811d",
   "metadata": {},
   "outputs": [
    {
     "name": "stdout",
     "output_type": "stream",
     "text": [
      "PASS\n"
     ]
    }
   ],
   "source": [
    "if marks> 35:\n",
    "    print(\"PASS\")"
   ]
  },
  {
   "cell_type": "code",
   "execution_count": 26,
   "id": "ceaa586b-dc35-49a5-871a-1dbee719fc7b",
   "metadata": {},
   "outputs": [
    {
     "name": "stdout",
     "output_type": "stream",
     "text": [
      "PASS\n"
     ]
    }
   ],
   "source": [
    "if attendance>75:\n",
    "    print(\"PASS\")"
   ]
  },
  {
   "cell_type": "code",
   "execution_count": 27,
   "id": "8a56eb04-2585-4084-93b9-c890fdba2475",
   "metadata": {},
   "outputs": [
    {
     "name": "stdout",
     "output_type": "stream",
     "text": [
      "FAIL\n"
     ]
    }
   ],
   "source": [
    "if (attendance > 75) and (marks > 60):\n",
    "    print(\"PASS\")\n",
    "else:\n",
    "    print(\"FAIL\")"
   ]
  },
  {
   "cell_type": "code",
   "execution_count": 28,
   "id": "16b8fc8d-a1d3-4e35-930c-60148b634b98",
   "metadata": {},
   "outputs": [],
   "source": [
    "ticket = False\n",
    "age = 20"
   ]
  },
  {
   "cell_type": "code",
   "execution_count": 30,
   "id": "7e29df2b-866d-45f1-8ded-7b409d5c0a89",
   "metadata": {
    "scrolled": true
   },
   "outputs": [
    {
     "name": "stdout",
     "output_type": "stream",
     "text": [
      "BYE\n"
     ]
    }
   ],
   "source": [
    "if age >= 18 and ticket:\n",
    "    print(\"welcome\")\n",
    "else:\n",
    "    print(\"BYE\")"
   ]
  },
  {
   "cell_type": "code",
   "execution_count": 32,
   "id": "fcac2194-aa0e-440a-b9df-877facd6b5fd",
   "metadata": {},
   "outputs": [
    {
     "data": {
      "text/plain": [
       "False"
      ]
     },
     "execution_count": 32,
     "metadata": {},
     "output_type": "execute_result"
    }
   ],
   "source": [
    "True and False"
   ]
  },
  {
   "cell_type": "code",
   "execution_count": 33,
   "id": "a4305d71-2139-4b61-b30d-25e43f60bb01",
   "metadata": {},
   "outputs": [
    {
     "data": {
      "text/plain": [
       "False"
      ]
     },
     "execution_count": 33,
     "metadata": {},
     "output_type": "execute_result"
    }
   ],
   "source": [
    "False and True"
   ]
  },
  {
   "cell_type": "code",
   "execution_count": 34,
   "id": "75775659-816b-4714-9202-4a889bb206a0",
   "metadata": {},
   "outputs": [
    {
     "data": {
      "text/plain": [
       "True"
      ]
     },
     "execution_count": 34,
     "metadata": {},
     "output_type": "execute_result"
    }
   ],
   "source": [
    "True and True"
   ]
  },
  {
   "cell_type": "markdown",
   "id": "88a86c3f-f8a6-402d-bb09-77f85397887a",
   "metadata": {},
   "source": [
    " ## OR"
   ]
  },
  {
   "cell_type": "code",
   "execution_count": 35,
   "id": "907bf201-9d39-4052-9852-bc89797dba00",
   "metadata": {},
   "outputs": [
    {
     "data": {
      "text/plain": [
       "True"
      ]
     },
     "execution_count": 35,
     "metadata": {},
     "output_type": "execute_result"
    }
   ],
   "source": [
    "True or False"
   ]
  },
  {
   "cell_type": "code",
   "execution_count": 36,
   "id": "fcd1427d-5d6f-41dc-bd4f-8c8fda358540",
   "metadata": {},
   "outputs": [],
   "source": [
    "marks = 100"
   ]
  },
  {
   "cell_type": "code",
   "execution_count": 37,
   "id": "f8c3b329-a4ca-4605-b71f-9be44972c01b",
   "metadata": {},
   "outputs": [],
   "source": [
    "donation = 50000"
   ]
  },
  {
   "cell_type": "code",
   "execution_count": 38,
   "id": "6673da70-ce77-450a-8b89-dbb16d1136a0",
   "metadata": {},
   "outputs": [
    {
     "name": "stdout",
     "output_type": "stream",
     "text": [
      "welcome to the school\n"
     ]
    }
   ],
   "source": [
    "if marks > 80 or donation > 80000:\n",
    "    print(\"welcome to the school\")\n",
    "else:\n",
    "    print(\"Bharr ho jao\")"
   ]
  },
  {
   "cell_type": "code",
   "execution_count": 39,
   "id": "e45f22eb-ba70-4146-9151-3df76a102417",
   "metadata": {},
   "outputs": [],
   "source": [
    "email = False"
   ]
  },
  {
   "cell_type": "code",
   "execution_count": 43,
   "id": "d4421b17-cdc9-4266-8f55-99d2a1c39144",
   "metadata": {},
   "outputs": [],
   "source": [
    "number= True"
   ]
  },
  {
   "cell_type": "code",
   "execution_count": 44,
   "id": "aa8ee0c4-8615-470c-aeda-7895798bf849",
   "metadata": {},
   "outputs": [],
   "source": [
    "password = True"
   ]
  },
  {
   "cell_type": "code",
   "execution_count": 46,
   "id": "4484d3c9-0896-4f87-baed-5d8ce7882b47",
   "metadata": {},
   "outputs": [
    {
     "name": "stdout",
     "output_type": "stream",
     "text": [
      "welcome\n"
     ]
    }
   ],
   "source": [
    "if (\"email or number\") and password:\n",
    "    print(\"welcome\")\n",
    "else:\n",
    "    print(\"bye\")"
   ]
  },
  {
   "cell_type": "code",
   "execution_count": null,
   "id": "c697dcb7-abff-4015-b26b-3931342efed7",
   "metadata": {},
   "outputs": [],
   "source": []
  }
 ],
 "metadata": {
  "kernelspec": {
   "display_name": "Python [conda env:base] *",
   "language": "python",
   "name": "conda-base-py"
  },
  "language_info": {
   "codemirror_mode": {
    "name": "ipython",
    "version": 3
   },
   "file_extension": ".py",
   "mimetype": "text/x-python",
   "name": "python",
   "nbconvert_exporter": "python",
   "pygments_lexer": "ipython3",
   "version": "3.13.5"
  }
 },
 "nbformat": 4,
 "nbformat_minor": 5
}
