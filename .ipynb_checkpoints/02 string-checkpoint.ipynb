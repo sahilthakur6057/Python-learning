{
 "cells": [
  {
   "cell_type": "code",
   "execution_count": 2,
   "id": "42fed915-d0cb-42fc-80c4-ff7c3a9bfe8d",
   "metadata": {},
   "outputs": [
    {
     "data": {
      "text/plain": [
       "'\\nhi nice to meet you my name is sahil\\n'"
      ]
     },
     "execution_count": 2,
     "metadata": {},
     "output_type": "execute_result"
    }
   ],
   "source": [
    "\"\"\"\n",
    "hi nice to meet you my name is sahil\n",
    "\"\"\""
   ]
  },
  {
   "cell_type": "code",
   "execution_count": 3,
   "id": "6d40aa6c-49d5-463d-9056-737f496a79cf",
   "metadata": {},
   "outputs": [
    {
     "name": "stdout",
     "output_type": "stream",
     "text": [
      "\n",
      "hi nice to meet you my name is sahil \n",
      "\n"
     ]
    }
   ],
   "source": [
    "print(\"\"\"\n",
    "hi nice to meet you my name is sahil \n",
    "\"\"\")"
   ]
  },
  {
   "cell_type": "code",
   "execution_count": 5,
   "id": "bd32a1fe-c399-4cb8-956d-d05ac13ca878",
   "metadata": {},
   "outputs": [
    {
     "data": {
      "text/plain": [
       "str"
      ]
     },
     "execution_count": 5,
     "metadata": {},
     "output_type": "execute_result"
    }
   ],
   "source": [
    "type(\"sahil\")"
   ]
  },
  {
   "cell_type": "raw",
   "id": "9b39bc49-2e09-4ad3-a03b-d589e657f4d1",
   "metadata": {},
   "source": [
    "## capitalize, upper (for these use dot and tab after \"sahil\")"
   ]
  },
  {
   "cell_type": "code",
   "execution_count": 6,
   "id": "7650a4bd-3f6c-4eeb-8d04-a35d25736920",
   "metadata": {},
   "outputs": [
    {
     "data": {
      "text/plain": [
       "'Sahil'"
      ]
     },
     "execution_count": 6,
     "metadata": {},
     "output_type": "execute_result"
    }
   ],
   "source": [
    "\"sahil\".capitalize()"
   ]
  },
  {
   "cell_type": "code",
   "execution_count": 7,
   "id": "b08151ea-6be6-4c48-9f52-ee2992868126",
   "metadata": {},
   "outputs": [
    {
     "data": {
      "text/plain": [
       "'SAHIL'"
      ]
     },
     "execution_count": 7,
     "metadata": {},
     "output_type": "execute_result"
    }
   ],
   "source": [
    "\"sahil\".upper()"
   ]
  },
  {
   "cell_type": "code",
   "execution_count": 8,
   "id": "ce438510-df65-437c-baeb-2647fa01b2f6",
   "metadata": {},
   "outputs": [
    {
     "data": {
      "text/plain": [
       "'sahil'"
      ]
     },
     "execution_count": 8,
     "metadata": {},
     "output_type": "execute_result"
    }
   ],
   "source": [
    "\"sahil\".lower()"
   ]
  },
  {
   "cell_type": "code",
   "execution_count": 10,
   "id": "968729f1-07d6-4f8b-8b38-bb6fa997ca27",
   "metadata": {},
   "outputs": [
    {
     "data": {
      "text/plain": [
       "2"
      ]
     },
     "execution_count": 10,
     "metadata": {},
     "output_type": "execute_result"
    }
   ],
   "source": [
    "\"sahil thakur\".count('h')"
   ]
  },
  {
   "cell_type": "code",
   "execution_count": 11,
   "id": "5cfaee96-22cb-45bb-9f4c-f254f74f81a3",
   "metadata": {},
   "outputs": [],
   "source": [
    "name = \"sahil Thakur\""
   ]
  },
  {
   "cell_type": "code",
   "execution_count": 12,
   "id": "b8a9b6b5-76e2-4ed1-8abc-7ef8ae319863",
   "metadata": {},
   "outputs": [
    {
     "data": {
      "text/plain": [
       "10"
      ]
     },
     "execution_count": 12,
     "metadata": {},
     "output_type": "execute_result"
    }
   ],
   "source": [
    "name.find('u')"
   ]
  },
  {
   "cell_type": "code",
   "execution_count": 13,
   "id": "e8b282ef-ca05-4278-aab9-2baed34ae400",
   "metadata": {},
   "outputs": [
    {
     "data": {
      "text/plain": [
       "3"
      ]
     },
     "execution_count": 13,
     "metadata": {},
     "output_type": "execute_result"
    }
   ],
   "source": [
    "name.find('i')"
   ]
  },
  {
   "cell_type": "code",
   "execution_count": 14,
   "id": "b277feb3-da4f-41e7-8a94-4b1014c3f443",
   "metadata": {},
   "outputs": [
    {
     "data": {
      "text/plain": [
       "12"
      ]
     },
     "execution_count": 14,
     "metadata": {},
     "output_type": "execute_result"
    }
   ],
   "source": [
    "len(name)"
   ]
  },
  {
   "cell_type": "markdown",
   "id": "d4678e4d-cd45-4622-8602-a4370c7f677a",
   "metadata": {},
   "source": [
    "## the counting start from 0 in programing"
   ]
  },
  {
   "cell_type": "code",
   "execution_count": 15,
   "id": "d1597405-f537-49cd-91cc-7f87b5fefcab",
   "metadata": {},
   "outputs": [],
   "source": [
    "first_name = \"sahil\""
   ]
  },
  {
   "cell_type": "code",
   "execution_count": 16,
   "id": "02539e1f-1c94-4a4e-b18b-2a971828d0fc",
   "metadata": {},
   "outputs": [],
   "source": [
    "last_name = \"thakur\""
   ]
  },
  {
   "cell_type": "code",
   "execution_count": 18,
   "id": "010b6041-b5c9-48d7-86da-a6e87a84a0b0",
   "metadata": {},
   "outputs": [
    {
     "data": {
      "text/plain": [
       "'sahilthakur'"
      ]
     },
     "execution_count": 18,
     "metadata": {},
     "output_type": "execute_result"
    }
   ],
   "source": [
    "first_name + last_name"
   ]
  },
  {
   "cell_type": "code",
   "execution_count": 17,
   "id": "7ce8286e-c31a-40d5-9a7a-480d9a7984b3",
   "metadata": {},
   "outputs": [
    {
     "data": {
      "text/plain": [
       "'sahil thakur'"
      ]
     },
     "execution_count": 17,
     "metadata": {},
     "output_type": "execute_result"
    }
   ],
   "source": [
    "first_name + \" \"+ last_name"
   ]
  },
  {
   "cell_type": "code",
   "execution_count": null,
   "id": "e0877116-ae2a-4f0d-b156-fd515ba0943d",
   "metadata": {},
   "outputs": [],
   "source": []
  },
  {
   "cell_type": "code",
   "execution_count": null,
   "id": "346d7f34-1102-47d8-a023-256ed0472217",
   "metadata": {},
   "outputs": [],
   "source": []
  },
  {
   "cell_type": "code",
   "execution_count": null,
   "id": "a630da63-7e6a-4bca-b9cd-c1e86d1cc960",
   "metadata": {},
   "outputs": [],
   "source": []
  },
  {
   "cell_type": "code",
   "execution_count": null,
   "id": "3e64c1c5-31e0-4c9e-83e7-677791ea14f2",
   "metadata": {},
   "outputs": [],
   "source": []
  },
  {
   "cell_type": "code",
   "execution_count": null,
   "id": "ba80140f-1fab-4e1c-8ff6-160737d7fb4e",
   "metadata": {},
   "outputs": [],
   "source": []
  },
  {
   "cell_type": "code",
   "execution_count": null,
   "id": "4b81c80d-5a63-406f-9fce-d80914ca2e9f",
   "metadata": {},
   "outputs": [],
   "source": []
  },
  {
   "cell_type": "code",
   "execution_count": null,
   "id": "ee107f22-5ee4-4716-8a73-c1047a097546",
   "metadata": {},
   "outputs": [],
   "source": []
  },
  {
   "cell_type": "code",
   "execution_count": null,
   "id": "0fbdf1c6-fe4f-4261-b5fd-26799df09221",
   "metadata": {},
   "outputs": [],
   "source": []
  },
  {
   "cell_type": "code",
   "execution_count": null,
   "id": "382531cc-7b68-4f4a-9404-32bfa173979e",
   "metadata": {},
   "outputs": [],
   "source": []
  },
  {
   "cell_type": "code",
   "execution_count": null,
   "id": "791ce298-ea06-44f0-9398-9559db2b8ccf",
   "metadata": {},
   "outputs": [],
   "source": []
  },
  {
   "cell_type": "code",
   "execution_count": null,
   "id": "5ced7904-b26a-4167-a645-2441def56e04",
   "metadata": {},
   "outputs": [],
   "source": []
  }
 ],
 "metadata": {
  "kernelspec": {
   "display_name": "Python [conda env:base] *",
   "language": "python",
   "name": "conda-base-py"
  },
  "language_info": {
   "codemirror_mode": {
    "name": "ipython",
    "version": 3
   },
   "file_extension": ".py",
   "mimetype": "text/x-python",
   "name": "python",
   "nbconvert_exporter": "python",
   "pygments_lexer": "ipython3",
   "version": "3.13.5"
  }
 },
 "nbformat": 4,
 "nbformat_minor": 5
}
