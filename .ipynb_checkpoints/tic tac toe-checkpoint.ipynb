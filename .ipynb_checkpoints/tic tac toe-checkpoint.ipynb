{
 "cells": [
  {
   "cell_type": "code",
   "execution_count": 1,
   "id": "b5c76061-25f7-41d4-8643-dd46df87c512",
   "metadata": {},
   "outputs": [],
   "source": [
    "from IPython.display import clear_output"
   ]
  },
  {
   "cell_type": "code",
   "execution_count": 2,
   "id": "6c6254dd-49a2-45e9-bab5-fd2d72a551e9",
   "metadata": {},
   "outputs": [],
   "source": [
    "li = [\" \"]*10"
   ]
  },
  {
   "cell_type": "code",
   "execution_count": 3,
   "id": "56e5771c-a362-4c94-933c-46769f09e425",
   "metadata": {},
   "outputs": [
    {
     "data": {
      "text/plain": [
       "[' ', ' ', ' ', ' ', ' ', ' ', ' ', ' ', ' ', ' ']"
      ]
     },
     "execution_count": 3,
     "metadata": {},
     "output_type": "execute_result"
    }
   ],
   "source": [
    "li"
   ]
  },
  {
   "cell_type": "code",
   "execution_count": 4,
   "id": "df7dcaaf-b9fd-46d2-ac9a-7c8a7b93ed41",
   "metadata": {},
   "outputs": [],
   "source": [
    "def display():\n",
    "    print(li[7],\" | \",li[8],\" | \",li[9])\n",
    "    print(\"-\"*14)\n",
    "    print(li[4],\" | \",li[5],\" | \",li[6])\n",
    "    print(\"-\"*14)\n",
    "    print(li[1],\" | \",li[2],\" | \",li[3])"
   ]
  },
  {
   "cell_type": "code",
   "execution_count": 27,
   "id": "082c6d1b-1de8-45d8-8327-73616d8764ae",
   "metadata": {},
   "outputs": [
    {
     "name": "stdout",
     "output_type": "stream",
     "text": [
      "o  |     |   \n",
      "--------------\n",
      "   |  o  |   \n",
      "--------------\n",
      "   |     |  x\n"
     ]
    }
   ],
   "source": [
    "display()"
   ]
  },
  {
   "cell_type": "code",
   "execution_count": 28,
   "id": "c8545ccc-b8b7-4221-af98-4a06cc2beb45",
   "metadata": {},
   "outputs": [],
   "source": [
    "def check_position_empty(position):\n",
    "    if li[position] == \" \":\n",
    "        return True\n",
    "    else:\n",
    "        return  False"
   ]
  },
  {
   "cell_type": "code",
   "execution_count": 29,
   "id": "ce3ce14b-edd3-4c1f-8b48-f2739f8bb83d",
   "metadata": {},
   "outputs": [],
   "source": [
    "li[5] = \"o\""
   ]
  },
  {
   "cell_type": "code",
   "execution_count": 30,
   "id": "c33950f7-d535-4fba-b945-1b61723db5e7",
   "metadata": {},
   "outputs": [
    {
     "data": {
      "text/plain": [
       "True"
      ]
     },
     "execution_count": 30,
     "metadata": {},
     "output_type": "execute_result"
    }
   ],
   "source": [
    "check_position_empty(6)"
   ]
  },
  {
   "cell_type": "code",
   "execution_count": 31,
   "id": "5a6eda18-7f43-43d6-ba56-fa2a933c719d",
   "metadata": {},
   "outputs": [
    {
     "data": {
      "text/plain": [
       "False"
      ]
     },
     "execution_count": 31,
     "metadata": {},
     "output_type": "execute_result"
    }
   ],
   "source": [
    "check_position_empty(7)"
   ]
  },
  {
   "cell_type": "code",
   "execution_count": 32,
   "id": "312649c0-081f-4733-8a6f-99780fd1dd42",
   "metadata": {},
   "outputs": [],
   "source": [
    "li[7] = \"o\""
   ]
  },
  {
   "cell_type": "code",
   "execution_count": 33,
   "id": "354bfb58-3e1d-4d5f-9545-6d0806579766",
   "metadata": {},
   "outputs": [],
   "source": [
    "def put_marker(position, marker):\n",
    "    li[position]= marker"
   ]
  },
  {
   "cell_type": "code",
   "execution_count": 34,
   "id": "a4d4da6c-dc63-47a8-9da0-8398ddac9af2",
   "metadata": {},
   "outputs": [],
   "source": [
    "put_marker(3, \"x\")"
   ]
  },
  {
   "cell_type": "code",
   "execution_count": 35,
   "id": "7059cf51-d0c3-4ca0-a18b-638985a65a31",
   "metadata": {},
   "outputs": [],
   "source": [
    "position = None"
   ]
  },
  {
   "cell_type": "code",
   "execution_count": 37,
   "id": "e23a2cd3-6441-4ae4-a386-e4f43d0fe4a5",
   "metadata": {},
   "outputs": [
    {
     "name": "stdin",
     "output_type": "stream",
     "text": [
      "None s\n"
     ]
    },
    {
     "name": "stdout",
     "output_type": "stream",
     "text": [
      "please provide a number\n"
     ]
    },
    {
     "name": "stdin",
     "output_type": "stream",
     "text": [
      "None 1\n"
     ]
    }
   ],
   "source": [
    "position = None\n",
    "while not position:\n",
    "    try:\n",
    "        position = int(input(position))\n",
    "    except ValueError:\n",
    "        print('please provide a number')"
   ]
  },
  {
   "cell_type": "code",
   "execution_count": 38,
   "id": "84119118-f4eb-420d-a19c-929a3d6ac454",
   "metadata": {},
   "outputs": [],
   "source": [
    "def empty_positions():\n",
    "    #print(li)\n",
    "    ans = []\n",
    "    for i in range(1, len(li)):\n",
    "        if li[i] == \" \":\n",
    "            ans.append(i)\n",
    "    return ans"
   ]
  },
  {
   "cell_type": "code",
   "execution_count": 39,
   "id": "71e8e07c-f80f-421f-9d78-32924d222698",
   "metadata": {},
   "outputs": [
    {
     "data": {
      "text/plain": [
       "[1, 2, 4, 6, 8, 9]"
      ]
     },
     "execution_count": 39,
     "metadata": {},
     "output_type": "execute_result"
    }
   ],
   "source": [
    "empty_positions()"
   ]
  },
  {
   "cell_type": "code",
   "execution_count": 40,
   "id": "952bd3f6-e50b-448e-bdd3-8d0c665dbbff",
   "metadata": {},
   "outputs": [],
   "source": [
    "def take_position():\n",
    "    position = None\n",
    "    available = empty_positions()\n",
    "    while not position:\n",
    "        try:\n",
    "            position = int(input(f'please choose among{available}'))\n",
    "        except ValueError:\n",
    "            print(f'please provide a number{available}')\n",
    "        else:\n",
    "            if position in available:\n",
    "                return position\n",
    "            else:\n",
    "                print(f'please provide a number among {available}')\n",
    "                position = None"
   ]
  },
  {
   "cell_type": "code",
   "execution_count": 42,
   "id": "09cd5bb7-3e11-4568-8d84-2546ee770b38",
   "metadata": {},
   "outputs": [
    {
     "name": "stdin",
     "output_type": "stream",
     "text": [
      "please choose among[1, 2, 4, 6, 8, 9] 9\n"
     ]
    },
    {
     "data": {
      "text/plain": [
       "9"
      ]
     },
     "execution_count": 42,
     "metadata": {},
     "output_type": "execute_result"
    }
   ],
   "source": [
    "take_position()"
   ]
  },
  {
   "cell_type": "code",
   "execution_count": 43,
   "id": "6a15ca46-79ef-42cd-a366-2ecbdc81f789",
   "metadata": {},
   "outputs": [],
   "source": [
    "def check_win():\n",
    "    # horizontal\n",
    "    if (li[7]==li[8]==li[9]!=\" \") or \\\n",
    "    (li[4]==li[5]==li[6]!=\" \") or \\\n",
    "    (li[1]==li[2]==li[3]!=\" \") or \\\n",
    "    (li[7]==li[4]==li[1]!=\" \") or \\\n",
    "    (li[8]==li[5]==li[2]!=\" \") or \\\n",
    "    (li[9]==li[6]==li[3]!=\" \") or \\\n",
    "    (li[7]==li[5]==li[3]!=\" \") or \\\n",
    "    (li[1]==li[5]==li[9]!=\" \"):\n",
    "        return True\n",
    "    else:\n",
    "        return False"
   ]
  },
  {
   "cell_type": "code",
   "execution_count": 44,
   "id": "2c57887d-482d-4f97-9e2f-e42a17612290",
   "metadata": {},
   "outputs": [
    {
     "data": {
      "text/plain": [
       "False"
      ]
     },
     "execution_count": 44,
     "metadata": {},
     "output_type": "execute_result"
    }
   ],
   "source": [
    "check_win()"
   ]
  },
  {
   "cell_type": "code",
   "execution_count": 45,
   "id": "2b0e6193-825b-4d50-91fd-4c6b882e4dda",
   "metadata": {},
   "outputs": [],
   "source": [
    "def board_full():\n",
    "    \n",
    "    if len(empty_positions())==0:\n",
    "        return True\n",
    "    else:\n",
    "        return False"
   ]
  },
  {
   "cell_type": "code",
   "execution_count": 46,
   "id": "e4d1d857-d929-46ce-b83e-9cbc755558e0",
   "metadata": {},
   "outputs": [
    {
     "data": {
      "text/plain": [
       "False"
      ]
     },
     "execution_count": 46,
     "metadata": {},
     "output_type": "execute_result"
    }
   ],
   "source": [
    "board_full()"
   ]
  },
  {
   "cell_type": "code",
   "execution_count": 47,
   "id": "9e58134b-24e8-4459-9091-c08a05f64d52",
   "metadata": {},
   "outputs": [
    {
     "data": {
      "text/plain": [
       "[' ', ' ', ' ', 'x', ' ', 'o', ' ', 'o', ' ', ' ']"
      ]
     },
     "execution_count": 47,
     "metadata": {},
     "output_type": "execute_result"
    }
   ],
   "source": [
    "li\n"
   ]
  },
  {
   "cell_type": "code",
   "execution_count": 48,
   "id": "c4052103-7cd3-432f-83b6-78e5b47519dd",
   "metadata": {},
   "outputs": [],
   "source": [
    "def change_marker(marker):\n",
    "    if marker == \"O\":\n",
    "        return \"X\"\n",
    "    else:\n",
    "        return \"O\""
   ]
  },
  {
   "cell_type": "code",
   "execution_count": 51,
   "id": "e159d797-ce05-4741-b8fb-8d4420e0baf8",
   "metadata": {},
   "outputs": [
    {
     "data": {
      "text/plain": [
       "False"
      ]
     },
     "execution_count": 51,
     "metadata": {},
     "output_type": "execute_result"
    }
   ],
   "source": [
    "board_full()"
   ]
  },
  {
   "cell_type": "code",
   "execution_count": 53,
   "id": "3e3e58c2-6a16-4a1b-909e-5545bbc39719",
   "metadata": {},
   "outputs": [
    {
     "name": "stdout",
     "output_type": "stream",
     "text": [
      "O  |     |   \n",
      "--------------\n",
      "O  |  O  |  X\n",
      "--------------\n",
      "O  |  X  |  X\n",
      "congratulations O won the game\n"
     ]
    }
   ],
   "source": [
    "li = [\" \"]*10\n",
    "game = True\n",
    "marker = \"O\"\n",
    "while game:\n",
    "    display()\n",
    "    position = take_position()\n",
    "    put_marker(position, marker)\n",
    "    clear_output()\n",
    "    display()\n",
    "    if check_win():\n",
    "        print(f\"congratulations {marker} won the game\")\n",
    "        game = False\n",
    "        break\n",
    "    elif board_full():\n",
    "        print(f\"board full, game draw, do you want to play again\")\n",
    "        game = False\n",
    "        break\n",
    "    else:\n",
    "        marker = change_marker(marker)"
   ]
  },
  {
   "cell_type": "code",
   "execution_count": 54,
   "id": "325faba1-1f58-46eb-92bb-3f7a6a24b7f5",
   "metadata": {},
   "outputs": [
    {
     "name": "stdout",
     "output_type": "stream",
     "text": [
      "O  |     |  X\n",
      "--------------\n",
      "X  |  O  |   \n",
      "--------------\n",
      "O  |  X  |  O\n",
      "congratulations O won the game\n"
     ]
    }
   ],
   "source": [
    "li = [\" \"]*10\n",
    "game = True\n",
    "marker = \"O\"\n",
    "display()\n",
    "while game:\n",
    "    position = take_position()\n",
    "    put_marker(position, marker)\n",
    "    clear_output()\n",
    "    display()\n",
    "    if check_win():\n",
    "        print(f\"congratulations {marker} won the game\")\n",
    "        game = False\n",
    "        break\n",
    "    elif board_full():\n",
    "        print(f'board full, game draw, do you want to play again')\n",
    "        playAgain = input('do you want to play again, yes, no?')\n",
    "        try:\n",
    "            if playAgain[0] in ('y', \"Y\"):\n",
    "                li = [\" \"]*10\n",
    "                print(\"new game\")\n",
    "                display()\n",
    "                game = True\n",
    "            else:\n",
    "                game = False\n",
    "                break\n",
    "        except:\n",
    "            game = False\n",
    "            break\n",
    "    else:\n",
    "        marker = change_marker(marker)"
   ]
  },
  {
   "cell_type": "code",
   "execution_count": null,
   "id": "8a4204b6-1740-42ad-a305-44bc84ca3eee",
   "metadata": {},
   "outputs": [],
   "source": []
  }
 ],
 "metadata": {
  "kernelspec": {
   "display_name": "Python [conda env:base] *",
   "language": "python",
   "name": "conda-base-py"
  },
  "language_info": {
   "codemirror_mode": {
    "name": "ipython",
    "version": 3
   },
   "file_extension": ".py",
   "mimetype": "text/x-python",
   "name": "python",
   "nbconvert_exporter": "python",
   "pygments_lexer": "ipython3",
   "version": "3.13.5"
  }
 },
 "nbformat": 4,
 "nbformat_minor": 5
}
