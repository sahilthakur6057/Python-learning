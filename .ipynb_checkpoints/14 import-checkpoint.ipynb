{
 "cells": [
  {
   "cell_type": "markdown",
   "id": "4e31f8f7-7b7e-4fea-a3ce-334c5b85ce0e",
   "metadata": {},
   "source": [
    "# install a libary"
   ]
  },
  {
   "cell_type": "code",
   "execution_count": 1,
   "id": "ec49f170-4b82-4a75-a43c-2ea1529f6343",
   "metadata": {},
   "outputs": [
    {
     "name": "stdout",
     "output_type": "stream",
     "text": [
      "Requirement already satisfied: pandas in c:\\users\\user\\anaconda.apk\\lib\\site-packages (2.2.3)\n",
      "Requirement already satisfied: numpy>=1.26.0 in c:\\users\\user\\anaconda.apk\\lib\\site-packages (from pandas) (2.1.3)\n",
      "Requirement already satisfied: python-dateutil>=2.8.2 in c:\\users\\user\\anaconda.apk\\lib\\site-packages (from pandas) (2.9.0.post0)\n",
      "Requirement already satisfied: pytz>=2020.1 in c:\\users\\user\\anaconda.apk\\lib\\site-packages (from pandas) (2024.1)\n",
      "Requirement already satisfied: tzdata>=2022.7 in c:\\users\\user\\anaconda.apk\\lib\\site-packages (from pandas) (2025.2)\n",
      "Requirement already satisfied: six>=1.5 in c:\\users\\user\\anaconda.apk\\lib\\site-packages (from python-dateutil>=2.8.2->pandas) (1.17.0)\n",
      "Note: you may need to restart the kernel to use updated packages.\n"
     ]
    }
   ],
   "source": [
    "pip install pandas"
   ]
  },
  {
   "cell_type": "code",
   "execution_count": 2,
   "id": "c8de7795-400a-48f2-a12d-209ff114dc55",
   "metadata": {},
   "outputs": [
    {
     "name": "stdout",
     "output_type": "stream",
     "text": [
      "Collecting django==5.2.5\n",
      "  Downloading django-5.2.5-py3-none-any.whl.metadata (4.1 kB)\n",
      "Collecting asgiref>=3.8.1 (from django==5.2.5)\n",
      "  Downloading asgiref-3.9.1-py3-none-any.whl.metadata (9.3 kB)\n",
      "Collecting sqlparse>=0.3.1 (from django==5.2.5)\n",
      "  Downloading sqlparse-0.5.3-py3-none-any.whl.metadata (3.9 kB)\n",
      "Requirement already satisfied: tzdata in c:\\users\\user\\anaconda.apk\\lib\\site-packages (from django==5.2.5) (2025.2)\n",
      "Downloading django-5.2.5-py3-none-any.whl (8.3 MB)\n",
      "   ---------------------------------------- 0.0/8.3 MB ? eta -:--:--\n",
      "   -- ------------------------------------- 0.5/8.3 MB 10.9 MB/s eta 0:00:01\n",
      "   -------- ------------------------------- 1.8/8.3 MB 6.0 MB/s eta 0:00:02\n",
      "   ------------ --------------------------- 2.6/8.3 MB 5.4 MB/s eta 0:00:02\n",
      "   ---------------- ----------------------- 3.4/8.3 MB 4.6 MB/s eta 0:00:02\n",
      "   -------------------- ------------------- 4.2/8.3 MB 4.3 MB/s eta 0:00:01\n",
      "   ----------------------- ---------------- 5.0/8.3 MB 4.2 MB/s eta 0:00:01\n",
      "   --------------------------- ------------ 5.8/8.3 MB 4.2 MB/s eta 0:00:01\n",
      "   ------------------------------- -------- 6.6/8.3 MB 4.0 MB/s eta 0:00:01\n",
      "   ---------------------------------- ----- 7.1/8.3 MB 4.0 MB/s eta 0:00:01\n",
      "   ------------------------------------ --- 7.6/8.3 MB 3.7 MB/s eta 0:00:01\n",
      "   ------------------------------------- -- 7.9/8.3 MB 3.6 MB/s eta 0:00:01\n",
      "   ---------------------------------------- 8.3/8.3 MB 3.4 MB/s eta 0:00:00\n",
      "Downloading asgiref-3.9.1-py3-none-any.whl (23 kB)\n",
      "Downloading sqlparse-0.5.3-py3-none-any.whl (44 kB)\n",
      "Installing collected packages: sqlparse, asgiref, django\n",
      "\n",
      "   ---------------------------------------- 0/3 [sqlparse]\n",
      "   ---------------------------------------- 0/3 [sqlparse]\n",
      "   ------------- -------------------------- 1/3 [asgiref]\n",
      "   -------------------------- ------------- 2/3 [django]\n",
      "   -------------------------- ------------- 2/3 [django]\n",
      "   -------------------------- ------------- 2/3 [django]\n",
      "   -------------------------- ------------- 2/3 [django]\n",
      "   -------------------------- ------------- 2/3 [django]\n",
      "   -------------------------- ------------- 2/3 [django]\n",
      "   -------------------------- ------------- 2/3 [django]\n",
      "   -------------------------- ------------- 2/3 [django]\n",
      "   -------------------------- ------------- 2/3 [django]\n",
      "   -------------------------- ------------- 2/3 [django]\n",
      "   -------------------------- ------------- 2/3 [django]\n",
      "   -------------------------- ------------- 2/3 [django]\n",
      "   -------------------------- ------------- 2/3 [django]\n",
      "   -------------------------- ------------- 2/3 [django]\n",
      "   -------------------------- ------------- 2/3 [django]\n",
      "   -------------------------- ------------- 2/3 [django]\n",
      "   -------------------------- ------------- 2/3 [django]\n",
      "   -------------------------- ------------- 2/3 [django]\n",
      "   -------------------------- ------------- 2/3 [django]\n",
      "   -------------------------- ------------- 2/3 [django]\n",
      "   -------------------------- ------------- 2/3 [django]\n",
      "   -------------------------- ------------- 2/3 [django]\n",
      "   -------------------------- ------------- 2/3 [django]\n",
      "   -------------------------- ------------- 2/3 [django]\n",
      "   -------------------------- ------------- 2/3 [django]\n",
      "   -------------------------- ------------- 2/3 [django]\n",
      "   -------------------------- ------------- 2/3 [django]\n",
      "   -------------------------- ------------- 2/3 [django]\n",
      "   -------------------------- ------------- 2/3 [django]\n",
      "   -------------------------- ------------- 2/3 [django]\n",
      "   -------------------------- ------------- 2/3 [django]\n",
      "   -------------------------- ------------- 2/3 [django]\n",
      "   -------------------------- ------------- 2/3 [django]\n",
      "   -------------------------- ------------- 2/3 [django]\n",
      "   -------------------------- ------------- 2/3 [django]\n",
      "   -------------------------- ------------- 2/3 [django]\n",
      "   -------------------------- ------------- 2/3 [django]\n",
      "   -------------------------- ------------- 2/3 [django]\n",
      "   -------------------------- ------------- 2/3 [django]\n",
      "   -------------------------- ------------- 2/3 [django]\n",
      "   -------------------------- ------------- 2/3 [django]\n",
      "   -------------------------- ------------- 2/3 [django]\n",
      "   -------------------------- ------------- 2/3 [django]\n",
      "   -------------------------- ------------- 2/3 [django]\n",
      "   -------------------------- ------------- 2/3 [django]\n",
      "   -------------------------- ------------- 2/3 [django]\n",
      "   -------------------------- ------------- 2/3 [django]\n",
      "   -------------------------- ------------- 2/3 [django]\n",
      "   -------------------------- ------------- 2/3 [django]\n",
      "   -------------------------- ------------- 2/3 [django]\n",
      "   -------------------------- ------------- 2/3 [django]\n",
      "   -------------------------- ------------- 2/3 [django]\n",
      "   -------------------------- ------------- 2/3 [django]\n",
      "   -------------------------- ------------- 2/3 [django]\n",
      "   -------------------------- ------------- 2/3 [django]\n",
      "   -------------------------- ------------- 2/3 [django]\n",
      "   -------------------------- ------------- 2/3 [django]\n",
      "   -------------------------- ------------- 2/3 [django]\n",
      "   -------------------------- ------------- 2/3 [django]\n",
      "   -------------------------- ------------- 2/3 [django]\n",
      "   -------------------------- ------------- 2/3 [django]\n",
      "   -------------------------- ------------- 2/3 [django]\n",
      "   -------------------------- ------------- 2/3 [django]\n",
      "   -------------------------- ------------- 2/3 [django]\n",
      "   -------------------------- ------------- 2/3 [django]\n",
      "   -------------------------- ------------- 2/3 [django]\n",
      "   -------------------------- ------------- 2/3 [django]\n",
      "   -------------------------- ------------- 2/3 [django]\n",
      "   -------------------------- ------------- 2/3 [django]\n",
      "   -------------------------- ------------- 2/3 [django]\n",
      "   -------------------------- ------------- 2/3 [django]\n",
      "   -------------------------- ------------- 2/3 [django]\n",
      "   -------------------------- ------------- 2/3 [django]\n",
      "   -------------------------- ------------- 2/3 [django]\n",
      "   -------------------------- ------------- 2/3 [django]\n",
      "   -------------------------- ------------- 2/3 [django]\n",
      "   -------------------------- ------------- 2/3 [django]\n",
      "   -------------------------- ------------- 2/3 [django]\n",
      "   -------------------------- ------------- 2/3 [django]\n",
      "   -------------------------- ------------- 2/3 [django]\n",
      "   -------------------------- ------------- 2/3 [django]\n",
      "   -------------------------- ------------- 2/3 [django]\n",
      "   -------------------------- ------------- 2/3 [django]\n",
      "   -------------------------- ------------- 2/3 [django]\n",
      "   ---------------------------------------- 3/3 [django]\n",
      "\n",
      "Successfully installed asgiref-3.9.1 django-5.2.5 sqlparse-0.5.3\n",
      "Note: you may need to restart the kernel to use updated packages.\n"
     ]
    }
   ],
   "source": [
    "pip install django==5.2.5"
   ]
  },
  {
   "cell_type": "code",
   "execution_count": 3,
   "id": "ba5a9fa6-7c00-45f9-ad5c-d7f3b94d429d",
   "metadata": {},
   "outputs": [],
   "source": [
    "import random"
   ]
  },
  {
   "cell_type": "code",
   "execution_count": 5,
   "id": "632e6630-6e2b-4a22-9eb6-3a37bf5086dd",
   "metadata": {},
   "outputs": [
    {
     "data": {
      "text/plain": [
       "12"
      ]
     },
     "execution_count": 5,
     "metadata": {},
     "output_type": "execute_result"
    }
   ],
   "source": [
    "random.randint(10,20)"
   ]
  },
  {
   "cell_type": "code",
   "execution_count": 7,
   "id": "b42ce6b4-8b62-4d6a-8d9f-8cd0badf5e50",
   "metadata": {},
   "outputs": [
    {
     "name": "stdout",
     "output_type": "stream",
     "text": [
      "Requirement already satisfied: pandas in c:\\users\\user\\anaconda.apk\\lib\\site-packages (2.2.3)\n",
      "Requirement already satisfied: numpy>=1.26.0 in c:\\users\\user\\anaconda.apk\\lib\\site-packages (from pandas) (2.1.3)\n",
      "Requirement already satisfied: python-dateutil>=2.8.2 in c:\\users\\user\\anaconda.apk\\lib\\site-packages (from pandas) (2.9.0.post0)\n",
      "Requirement already satisfied: pytz>=2020.1 in c:\\users\\user\\anaconda.apk\\lib\\site-packages (from pandas) (2024.1)\n",
      "Requirement already satisfied: tzdata>=2022.7 in c:\\users\\user\\anaconda.apk\\lib\\site-packages (from pandas) (2025.2)\n",
      "Requirement already satisfied: six>=1.5 in c:\\users\\user\\anaconda.apk\\lib\\site-packages (from python-dateutil>=2.8.2->pandas) (1.17.0)\n",
      "Note: you may need to restart the kernel to use updated packages.\n"
     ]
    }
   ],
   "source": [
    "pip install pandas"
   ]
  },
  {
   "cell_type": "code",
   "execution_count": 8,
   "id": "ff0bf2d0-ecf6-442c-bfa1-8e2ed83a2b0a",
   "metadata": {},
   "outputs": [],
   "source": [
    "import pandas as pd"
   ]
  },
  {
   "cell_type": "code",
   "execution_count": 10,
   "id": "45a8fc34-977a-4bf2-ad86-5fe0816bcea8",
   "metadata": {},
   "outputs": [
    {
     "ename": "NameError",
     "evalue": "name 'pandas' is not defined",
     "output_type": "error",
     "traceback": [
      "\u001b[1;31m---------------------------------------------------------------------------\u001b[0m",
      "\u001b[1;31mNameError\u001b[0m                                 Traceback (most recent call last)",
      "Cell \u001b[1;32mIn[10], line 1\u001b[0m\n\u001b[1;32m----> 1\u001b[0m pandas\n",
      "\u001b[1;31mNameError\u001b[0m: name 'pandas' is not defined"
     ]
    }
   ],
   "source": [
    "pandas"
   ]
  },
  {
   "cell_type": "code",
   "execution_count": 11,
   "id": "723d3a75-ca04-4952-9e16-b1914a0adf55",
   "metadata": {},
   "outputs": [
    {
     "data": {
      "text/plain": [
       "<module 'pandas' from 'C:\\\\Users\\\\user\\\\anaconda.apk\\\\Lib\\\\site-packages\\\\pandas\\\\__init__.py'>"
      ]
     },
     "execution_count": 11,
     "metadata": {},
     "output_type": "execute_result"
    }
   ],
   "source": [
    "pd"
   ]
  },
  {
   "cell_type": "code",
   "execution_count": 14,
   "id": "5d050d18-585c-40d7-90f2-7949c11a0402",
   "metadata": {},
   "outputs": [
    {
     "data": {
      "text/html": [
       "<div>\n",
       "<style scoped>\n",
       "    .dataframe tbody tr th:only-of-type {\n",
       "        vertical-align: middle;\n",
       "    }\n",
       "\n",
       "    .dataframe tbody tr th {\n",
       "        vertical-align: top;\n",
       "    }\n",
       "\n",
       "    .dataframe thead th {\n",
       "        text-align: right;\n",
       "    }\n",
       "</style>\n",
       "<table border=\"1\" class=\"dataframe\">\n",
       "  <thead>\n",
       "    <tr style=\"text-align: right;\">\n",
       "      <th></th>\n",
       "      <th>name</th>\n",
       "      <th>age</th>\n",
       "    </tr>\n",
       "  </thead>\n",
       "  <tbody>\n",
       "    <tr>\n",
       "      <th>0</th>\n",
       "      <td>sahil</td>\n",
       "      <td>20</td>\n",
       "    </tr>\n",
       "    <tr>\n",
       "      <th>1</th>\n",
       "      <td>harjeet</td>\n",
       "      <td>25</td>\n",
       "    </tr>\n",
       "    <tr>\n",
       "      <th>2</th>\n",
       "      <td>ujwal</td>\n",
       "      <td>19</td>\n",
       "    </tr>\n",
       "    <tr>\n",
       "      <th>3</th>\n",
       "      <td>rohit</td>\n",
       "      <td>29</td>\n",
       "    </tr>\n",
       "  </tbody>\n",
       "</table>\n",
       "</div>"
      ],
      "text/plain": [
       "      name  age\n",
       "0    sahil   20\n",
       "1  harjeet   25\n",
       "2    ujwal   19\n",
       "3    rohit   29"
      ]
     },
     "execution_count": 14,
     "metadata": {},
     "output_type": "execute_result"
    }
   ],
   "source": [
    "pd.DataFrame({\"name\" : [\"sahil\",\"harjeet\",\"ujwal\",\"rohit\"], 'age':[20,25,19,29]})"
   ]
  },
  {
   "cell_type": "code",
   "execution_count": 18,
   "id": "5758ef39-9c42-44c5-bf4b-738a7806b8d1",
   "metadata": {},
   "outputs": [],
   "source": [
    "from datetime import datetime"
   ]
  },
  {
   "cell_type": "code",
   "execution_count": 21,
   "id": "5c18b123-b72b-4c0d-baf4-c56a5bf12046",
   "metadata": {},
   "outputs": [
    {
     "data": {
      "text/plain": [
       "datetime.datetime(2025, 8, 19, 13, 14, 50, 768010)"
      ]
     },
     "execution_count": 21,
     "metadata": {},
     "output_type": "execute_result"
    }
   ],
   "source": [
    "datetime.today()"
   ]
  },
  {
   "cell_type": "code",
   "execution_count": 23,
   "id": "3996fd5c-fc5d-414f-b2c2-01de14d6f00d",
   "metadata": {},
   "outputs": [],
   "source": [
    "a = datetime.now()"
   ]
  },
  {
   "cell_type": "markdown",
   "id": "4fa8ed22-86a7-47fd-85c3-d3b3fa0bafba",
   "metadata": {},
   "source": [
    "### functions in datetime"
   ]
  },
  {
   "cell_type": "code",
   "execution_count": 24,
   "id": "3202b66e-a21d-4a54-a11d-d386944d4d46",
   "metadata": {},
   "outputs": [
    {
     "data": {
      "text/plain": [
       "datetime.date(2025, 8, 19)"
      ]
     },
     "execution_count": 24,
     "metadata": {},
     "output_type": "execute_result"
    }
   ],
   "source": [
    "a.date()"
   ]
  },
  {
   "cell_type": "code",
   "execution_count": 25,
   "id": "ac6f9bc1-50a1-4ec6-909a-abd61fb86831",
   "metadata": {},
   "outputs": [
    {
     "data": {
      "text/plain": [
       "13"
      ]
     },
     "execution_count": 25,
     "metadata": {},
     "output_type": "execute_result"
    }
   ],
   "source": [
    "a.hour"
   ]
  },
  {
   "cell_type": "code",
   "execution_count": 26,
   "id": "de455b33-7372-44ee-a63e-ab7951b504a7",
   "metadata": {},
   "outputs": [
    {
     "data": {
      "text/plain": [
       "datetime.datetime(9999, 12, 31, 23, 59, 59, 999999)"
      ]
     },
     "execution_count": 26,
     "metadata": {},
     "output_type": "execute_result"
    }
   ],
   "source": [
    "a.max"
   ]
  },
  {
   "cell_type": "code",
   "execution_count": 27,
   "id": "34381369-0714-4666-8f30-5e29683cd9bb",
   "metadata": {},
   "outputs": [
    {
     "data": {
      "text/plain": [
       "datetime.datetime(1, 1, 1, 0, 0)"
      ]
     },
     "execution_count": 27,
     "metadata": {},
     "output_type": "execute_result"
    }
   ],
   "source": [
    "a.min"
   ]
  },
  {
   "cell_type": "code",
   "execution_count": 33,
   "id": "86b53470-0b52-442a-a6e4-bd2333219075",
   "metadata": {},
   "outputs": [
    {
     "data": {
      "text/plain": [
       "datetime.date(2025, 8, 19)"
      ]
     },
     "execution_count": 33,
     "metadata": {},
     "output_type": "execute_result"
    }
   ],
   "source": [
    "datetime.date(a)"
   ]
  },
  {
   "cell_type": "code",
   "execution_count": 34,
   "id": "ed0950f2-3d52-46af-a0b7-a4b1187d012b",
   "metadata": {},
   "outputs": [
    {
     "data": {
      "text/plain": [
       "datetime.time(13, 15, 51, 645823)"
      ]
     },
     "execution_count": 34,
     "metadata": {},
     "output_type": "execute_result"
    }
   ],
   "source": [
    "datetime.time(a)"
   ]
  },
  {
   "cell_type": "code",
   "execution_count": 35,
   "id": "79e4d11c-8ab9-41ce-9dbd-7e34b7b6f4e2",
   "metadata": {},
   "outputs": [],
   "source": [
    "d = datetime(2005, 8, 15)"
   ]
  },
  {
   "cell_type": "code",
   "execution_count": 36,
   "id": "8fc6d9b5-af01-497c-accc-8953dcc04965",
   "metadata": {},
   "outputs": [
    {
     "data": {
      "text/plain": [
       "datetime.datetime(2005, 8, 15, 0, 0)"
      ]
     },
     "execution_count": 36,
     "metadata": {},
     "output_type": "execute_result"
    }
   ],
   "source": [
    "d"
   ]
  },
  {
   "cell_type": "code",
   "execution_count": 43,
   "id": "54e17ef7-22ba-45be-a01a-81bd86a346dd",
   "metadata": {},
   "outputs": [
    {
     "data": {
      "text/plain": [
       "'19 - Tuesday - August - 2025'"
      ]
     },
     "execution_count": 43,
     "metadata": {},
     "output_type": "execute_result"
    }
   ],
   "source": [
    "datetime.strftime(datetime.now(), \"%d - %A - %B - %Y\")"
   ]
  },
  {
   "cell_type": "code",
   "execution_count": 50,
   "id": "4d019905-2632-4aa2-8b46-d6e198daf70d",
   "metadata": {},
   "outputs": [
    {
     "data": {
      "text/plain": [
       "[8]"
      ]
     },
     "execution_count": 50,
     "metadata": {},
     "output_type": "execute_result"
    }
   ],
   "source": [
    "random.choices([\"sahil\", 8, 4])"
   ]
  },
  {
   "cell_type": "code",
   "execution_count": null,
   "id": "d3591107-da21-4974-8884-1043d31634c5",
   "metadata": {},
   "outputs": [],
   "source": []
  }
 ],
 "metadata": {
  "kernelspec": {
   "display_name": "Python [conda env:base] *",
   "language": "python",
   "name": "conda-base-py"
  },
  "language_info": {
   "codemirror_mode": {
    "name": "ipython",
    "version": 3
   },
   "file_extension": ".py",
   "mimetype": "text/x-python",
   "name": "python",
   "nbconvert_exporter": "python",
   "pygments_lexer": "ipython3",
   "version": "3.13.5"
  }
 },
 "nbformat": 4,
 "nbformat_minor": 5
}
