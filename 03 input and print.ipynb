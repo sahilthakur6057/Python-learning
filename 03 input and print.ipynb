{
 "cells": [
  {
   "cell_type": "markdown",
   "id": "b64211f3-9b3b-48d8-ab19-70df6f1be071",
   "metadata": {},
   "source": [
    "## input"
   ]
  },
  {
   "cell_type": "code",
   "execution_count": 18,
   "id": "0e6219ba-04f1-4ef4-9ad8-ff40c6ce3639",
   "metadata": {},
   "outputs": [
    {
     "name": "stdin",
     "output_type": "stream",
     "text": [
      "enter your name sahil\n"
     ]
    }
   ],
   "source": [
    "name = input('enter your name')"
   ]
  },
  {
   "cell_type": "code",
   "execution_count": 9,
   "id": "e33f06d8-613b-45f0-b956-d7f8d287e002",
   "metadata": {},
   "outputs": [
    {
     "data": {
      "text/plain": [
       "'sahil '"
      ]
     },
     "execution_count": 9,
     "metadata": {},
     "output_type": "execute_result"
    }
   ],
   "source": [
    "name"
   ]
  },
  {
   "cell_type": "code",
   "execution_count": 12,
   "id": "fa6c6952-7f06-449a-a988-5662785e5453",
   "metadata": {},
   "outputs": [
    {
     "name": "stdin",
     "output_type": "stream",
     "text": [
      "enter your age 20\n"
     ]
    }
   ],
   "source": [
    "age = input('enter your age')"
   ]
  },
  {
   "cell_type": "code",
   "execution_count": 13,
   "id": "b1e07f5e-79f9-40c2-85e8-97017538d239",
   "metadata": {},
   "outputs": [
    {
     "data": {
      "text/plain": [
       "'20'"
      ]
     },
     "execution_count": 13,
     "metadata": {},
     "output_type": "execute_result"
    }
   ],
   "source": [
    "age"
   ]
  },
  {
   "cell_type": "code",
   "execution_count": 14,
   "id": "9f760520-b5ec-42d7-9401-6efc5420f683",
   "metadata": {},
   "outputs": [
    {
     "data": {
      "text/plain": [
       "str"
      ]
     },
     "execution_count": 14,
     "metadata": {},
     "output_type": "execute_result"
    }
   ],
   "source": [
    "type(age)"
   ]
  },
  {
   "cell_type": "code",
   "execution_count": 15,
   "id": "8c4e6ee3-9771-4398-968c-824718ea8734",
   "metadata": {},
   "outputs": [
    {
     "data": {
      "text/plain": [
       "20"
      ]
     },
     "execution_count": 15,
     "metadata": {},
     "output_type": "execute_result"
    }
   ],
   "source": [
    "int(age)"
   ]
  },
  {
   "cell_type": "code",
   "execution_count": 16,
   "id": "c6220a07-6faf-4fd8-bbf6-4c9de7e87398",
   "metadata": {},
   "outputs": [],
   "source": [
    "age = int(age)"
   ]
  },
  {
   "cell_type": "code",
   "execution_count": 17,
   "id": "bdec6531-65b9-4e56-b5bd-6e30d4420bf6",
   "metadata": {},
   "outputs": [
    {
     "data": {
      "text/plain": [
       "20"
      ]
     },
     "execution_count": 17,
     "metadata": {},
     "output_type": "execute_result"
    }
   ],
   "source": [
    "age"
   ]
  },
  {
   "cell_type": "code",
   "execution_count": 19,
   "id": "5a771d88-2748-463c-91f9-2fea20642d47",
   "metadata": {},
   "outputs": [
    {
     "name": "stdin",
     "output_type": "stream",
     "text": [
      "enter your name sahil thakur\n"
     ]
    }
   ],
   "source": [
    "name = input('enter your name')"
   ]
  },
  {
   "cell_type": "code",
   "execution_count": 20,
   "id": "76473bb7-2d5b-4ed1-ae6a-a892dbfe152d",
   "metadata": {},
   "outputs": [
    {
     "data": {
      "text/plain": [
       "'sahil thakur'"
      ]
     },
     "execution_count": 20,
     "metadata": {},
     "output_type": "execute_result"
    }
   ],
   "source": [
    "name"
   ]
  },
  {
   "cell_type": "code",
   "execution_count": 26,
   "id": "3134bc99-2d2c-495d-9407-86e002443055",
   "metadata": {},
   "outputs": [
    {
     "name": "stdin",
     "output_type": "stream",
     "text": [
      " sahil thakur\n"
     ]
    }
   ],
   "source": [
    "name = input()\n",
    "l = len(name)//2\n",
    "new = name[:1] + name[1:][::-1]"
   ]
  },
  {
   "cell_type": "code",
   "execution_count": 27,
   "id": "effce227-f10f-4b6b-81ee-77a6f410d3c3",
   "metadata": {},
   "outputs": [
    {
     "data": {
      "text/plain": [
       "'srukaht liha'"
      ]
     },
     "execution_count": 27,
     "metadata": {},
     "output_type": "execute_result"
    }
   ],
   "source": [
    "new"
   ]
  },
  {
   "cell_type": "markdown",
   "id": "77e1d1d3-5d92-45f9-b203-04f3bc40fb94",
   "metadata": {},
   "source": [
    "## type casting"
   ]
  },
  {
   "cell_type": "code",
   "execution_count": 2,
   "id": "a7b80dd8-e1c0-47a2-9bd5-fc8fb2fdf0fa",
   "metadata": {},
   "outputs": [
    {
     "data": {
      "text/plain": [
       "'50.6'"
      ]
     },
     "execution_count": 2,
     "metadata": {},
     "output_type": "execute_result"
    }
   ],
   "source": [
    "str(50.6)"
   ]
  },
  {
   "cell_type": "code",
   "execution_count": 3,
   "id": "a772a435-69b5-40ad-b022-ed5980adde91",
   "metadata": {},
   "outputs": [
    {
     "data": {
      "text/plain": [
       "50"
      ]
     },
     "execution_count": 3,
     "metadata": {},
     "output_type": "execute_result"
    }
   ],
   "source": [
    "int(50.6)"
   ]
  },
  {
   "cell_type": "code",
   "execution_count": 4,
   "id": "594d13dd-c1c6-4739-a451-24a1778a5599",
   "metadata": {},
   "outputs": [
    {
     "data": {
      "text/plain": [
       "50"
      ]
     },
     "execution_count": 4,
     "metadata": {},
     "output_type": "execute_result"
    }
   ],
   "source": [
    "int(float(50.6))"
   ]
  },
  {
   "cell_type": "markdown",
   "id": "2b940c6c-30ec-45ae-b7b6-2a92b16f730d",
   "metadata": {},
   "source": [
    "## PRINT"
   ]
  },
  {
   "cell_type": "code",
   "execution_count": 5,
   "id": "a7a64d66-7166-465c-b2d5-265125c56d37",
   "metadata": {},
   "outputs": [
    {
     "name": "stdout",
     "output_type": "stream",
     "text": [
      "5\n"
     ]
    }
   ],
   "source": [
    "print(5)"
   ]
  },
  {
   "cell_type": "code",
   "execution_count": 6,
   "id": "093431f4-0dfb-449f-94be-09c256e11368",
   "metadata": {},
   "outputs": [
    {
     "name": "stdout",
     "output_type": "stream",
     "text": [
      "5\n"
     ]
    }
   ],
   "source": [
    "a = print(5)"
   ]
  },
  {
   "cell_type": "code",
   "execution_count": 7,
   "id": "7bf60e67-cded-46ba-b09b-6cf83fa59615",
   "metadata": {},
   "outputs": [],
   "source": [
    "a"
   ]
  },
  {
   "cell_type": "code",
   "execution_count": 8,
   "id": "2cff03d8-af98-4b00-b372-fcaf9ad20cca",
   "metadata": {},
   "outputs": [
    {
     "data": {
      "text/plain": [
       "NoneType"
      ]
     },
     "execution_count": 8,
     "metadata": {},
     "output_type": "execute_result"
    }
   ],
   "source": [
    "type(a)"
   ]
  },
  {
   "cell_type": "code",
   "execution_count": 9,
   "id": "719c8419-134a-4ef4-860a-1784056b4632",
   "metadata": {},
   "outputs": [
    {
     "name": "stdout",
     "output_type": "stream",
     "text": [
      "5 3 sahil thakur\n"
     ]
    }
   ],
   "source": [
    "print(5,3,\"sahil\",\"thakur\")"
   ]
  },
  {
   "cell_type": "code",
   "execution_count": 10,
   "id": "69af76fc-dab5-4516-a446-e7fe2ef21e3a",
   "metadata": {},
   "outputs": [
    {
     "name": "stdout",
     "output_type": "stream",
     "text": [
      "5 * 3 * sahil * thakur\n"
     ]
    }
   ],
   "source": [
    "print(5,3,\"sahil\",\"thakur\", sep=\" * \")"
   ]
  },
  {
   "cell_type": "code",
   "execution_count": 11,
   "id": "68e71b39-c4aa-4dce-b5bc-0974d4dd233c",
   "metadata": {},
   "outputs": [
    {
     "name": "stdout",
     "output_type": "stream",
     "text": [
      "5#3#sahil#thakur\n"
     ]
    }
   ],
   "source": [
    "print(5, 3,\"sahil\", \"thakur\", sep=\"#\")"
   ]
  },
  {
   "cell_type": "code",
   "execution_count": 13,
   "id": "73e95bd1-54bd-4313-82f4-ded2c9a8a058",
   "metadata": {},
   "outputs": [
    {
     "name": "stdout",
     "output_type": "stream",
     "text": [
      "50 60 70 80 + 30 - 40\n"
     ]
    }
   ],
   "source": [
    "print(50,60,70,80, end=\" + \")\n",
    "print(30, end=\" - \")\n",
    "print(40)"
   ]
  },
  {
   "cell_type": "code",
   "execution_count": 14,
   "id": "1464cd26-10e4-4205-b35a-98d58495b8dd",
   "metadata": {},
   "outputs": [
    {
     "name": "stdout",
     "output_type": "stream",
     "text": [
      "sahil 50000\n"
     ]
    }
   ],
   "source": [
    "print(\"sahil\", 50000)"
   ]
  },
  {
   "cell_type": "code",
   "execution_count": 19,
   "id": "5eaf0371-9d62-450c-a86e-51a907559b6a",
   "metadata": {},
   "outputs": [
    {
     "data": {
      "text/plain": [
       "'zzzzzzzzzzzzzzz'"
      ]
     },
     "execution_count": 19,
     "metadata": {},
     "output_type": "execute_result"
    }
   ],
   "source": [
    "\"z\"*15"
   ]
  },
  {
   "cell_type": "code",
   "execution_count": 22,
   "id": "491e5b09-1ea2-44e8-968c-1531b0f6f6e8",
   "metadata": {},
   "outputs": [],
   "source": [
    "a = \"hello sah\\til\""
   ]
  },
  {
   "cell_type": "code",
   "execution_count": 23,
   "id": "02f662ff-f99f-43aa-bee0-372442f8567f",
   "metadata": {},
   "outputs": [
    {
     "name": "stdout",
     "output_type": "stream",
     "text": [
      "hello sah\til\n"
     ]
    }
   ],
   "source": [
    "print(a)"
   ]
  },
  {
   "cell_type": "code",
   "execution_count": 24,
   "id": "1098d85f-1827-48ba-8f39-70c5157ac0c9",
   "metadata": {},
   "outputs": [
    {
     "name": "stdout",
     "output_type": "stream",
     "text": [
      "😀\n"
     ]
    }
   ],
   "source": [
    " print(\"\\U0001F600\")"
   ]
  },
  {
   "cell_type": "code",
   "execution_count": 26,
   "id": "e286586b-b989-4e78-9b51-6fba0c228d3c",
   "metadata": {},
   "outputs": [
    {
     "name": "stdout",
     "output_type": "stream",
     "text": [
      "🤣\n"
     ]
    }
   ],
   "source": [
    "print(\"\\U0001F923\")"
   ]
  },
  {
   "cell_type": "code",
   "execution_count": 27,
   "id": "ae887218-c1e6-412c-95b6-1ac026d926be",
   "metadata": {},
   "outputs": [
    {
     "data": {
      "text/plain": [
       "140711283110952"
      ]
     },
     "execution_count": 27,
     "metadata": {},
     "output_type": "execute_result"
    }
   ],
   "source": [
    "id(5)"
   ]
  },
  {
   "cell_type": "code",
   "execution_count": 28,
   "id": "d6e45c2c-7505-49b6-b99a-c643eb158ddd",
   "metadata": {},
   "outputs": [
    {
     "data": {
      "text/plain": [
       "140711283110984"
      ]
     },
     "execution_count": 28,
     "metadata": {},
     "output_type": "execute_result"
    }
   ],
   "source": [
    "id(6)"
   ]
  },
  {
   "cell_type": "markdown",
   "id": "0ba3af2b-45ba-4324-a937-8bdcb79d1592",
   "metadata": {},
   "source": [
    "### 0 or 1 = bit\n",
    "### 8 bit = 1 byte\n",
    "### 1024 byte = 1kb\n",
    "### 1024kb = 1 mb\n",
    "### 1024mb= 1gb\n",
    "### 1024 gb = 1 terabyte\n",
    "### 1024 tb = 1 peta byte"
   ]
  },
  {
   "cell_type": "code",
   "execution_count": null,
   "id": "0fc296a4-80a8-4f70-b18f-9207f9299c2d",
   "metadata": {},
   "outputs": [],
   "source": []
  }
 ],
 "metadata": {
  "kernelspec": {
   "display_name": "Python [conda env:base] *",
   "language": "python",
   "name": "conda-base-py"
  },
  "language_info": {
   "codemirror_mode": {
    "name": "ipython",
    "version": 3
   },
   "file_extension": ".py",
   "mimetype": "text/x-python",
   "name": "python",
   "nbconvert_exporter": "python",
   "pygments_lexer": "ipython3",
   "version": "3.13.5"
  }
 },
 "nbformat": 4,
 "nbformat_minor": 5
}
