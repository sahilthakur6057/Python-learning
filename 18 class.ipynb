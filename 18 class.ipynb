{
 "cells": [
  {
   "cell_type": "markdown",
   "id": "d870a472-b60f-4cd0-b527-36fd773a36e1",
   "metadata": {},
   "source": [
    "##  CLASS - DEFINING AND BINDING VARIABLES AND FUNCTION"
   ]
  },
  {
   "cell_type": "code",
   "execution_count": 1,
   "id": "6b2a8efc-f038-4f73-8143-2056f9cdf0ad",
   "metadata": {},
   "outputs": [],
   "source": [
    "class Car():\n",
    "    tyre = 4\n",
    "\n",
    "    def move():\n",
    "        print(\"i am moving forward\")"
   ]
  },
  {
   "cell_type": "code",
   "execution_count": 4,
   "id": "97077664-2a5d-4bbb-85b1-8a390c487b99",
   "metadata": {},
   "outputs": [
    {
     "data": {
      "text/plain": [
       "4"
      ]
     },
     "execution_count": 4,
     "metadata": {},
     "output_type": "execute_result"
    }
   ],
   "source": [
    "Car.tyre"
   ]
  },
  {
   "cell_type": "code",
   "execution_count": 5,
   "id": "a37b09d2-7295-41e6-8f65-5623d54432e0",
   "metadata": {},
   "outputs": [
    {
     "name": "stdout",
     "output_type": "stream",
     "text": [
      "i am moving forward\n"
     ]
    }
   ],
   "source": [
    "Car.move()"
   ]
  },
  {
   "cell_type": "code",
   "execution_count": 11,
   "id": "74e2a9c2-e198-40e5-843b-6ede5acd23af",
   "metadata": {},
   "outputs": [],
   "source": [
    "class human():\n",
    "    Legs = 2\n",
    "\n",
    "    def eatUP():\n",
    "        print(\"i am eating\")\n",
    "        print(\"now i am full\")"
   ]
  },
  {
   "cell_type": "code",
   "execution_count": 12,
   "id": "44dd4faf-2885-4107-8632-3926256582e9",
   "metadata": {},
   "outputs": [
    {
     "data": {
      "text/plain": [
       "2"
      ]
     },
     "execution_count": 12,
     "metadata": {},
     "output_type": "execute_result"
    }
   ],
   "source": [
    "human.Legs"
   ]
  },
  {
   "cell_type": "code",
   "execution_count": 13,
   "id": "2c081213-aa64-43cd-9d73-a65a223fd649",
   "metadata": {},
   "outputs": [
    {
     "name": "stdout",
     "output_type": "stream",
     "text": [
      "i am eating\n",
      "now i am full\n"
     ]
    }
   ],
   "source": [
    "human.eatUP()"
   ]
  },
  {
   "cell_type": "markdown",
   "id": "21912883-9279-4240-9717-fbf35885dc38",
   "metadata": {},
   "source": [
    "#### Car is class  \n",
    "#### gadi is object"
   ]
  },
  {
   "cell_type": "code",
   "execution_count": 22,
   "id": "77c2be60-f25c-4a63-ac3c-c4c413883572",
   "metadata": {},
   "outputs": [],
   "source": [
    "gadi = Car()"
   ]
  },
  {
   "cell_type": "code",
   "execution_count": 23,
   "id": "f159840a-d23c-4292-b379-d62686a7119c",
   "metadata": {},
   "outputs": [],
   "source": [
    "gadi2 = Car()"
   ]
  },
  {
   "cell_type": "code",
   "execution_count": 24,
   "id": "4fb8f23e-d9c6-4329-9d43-657ffd8a8d3a",
   "metadata": {},
   "outputs": [
    {
     "data": {
      "text/plain": [
       "4"
      ]
     },
     "execution_count": 24,
     "metadata": {},
     "output_type": "execute_result"
    }
   ],
   "source": [
    "gadi.tyre"
   ]
  },
  {
   "cell_type": "code",
   "execution_count": 25,
   "id": "5caf1bc5-8b2d-460f-b9e8-78fb63dad9ea",
   "metadata": {},
   "outputs": [
    {
     "data": {
      "text/plain": [
       "4"
      ]
     },
     "execution_count": 25,
     "metadata": {},
     "output_type": "execute_result"
    }
   ],
   "source": [
    "gadi2.tyre"
   ]
  },
  {
   "cell_type": "code",
   "execution_count": 26,
   "id": "b9ae2b5e-2e28-4f23-bef5-dd405ddd18ef",
   "metadata": {},
   "outputs": [],
   "source": [
    "gadi.tyre = 3"
   ]
  },
  {
   "cell_type": "code",
   "execution_count": 27,
   "id": "0e66bebe-b304-45b0-93f8-a7becd7cd0ad",
   "metadata": {},
   "outputs": [
    {
     "data": {
      "text/plain": [
       "3"
      ]
     },
     "execution_count": 27,
     "metadata": {},
     "output_type": "execute_result"
    }
   ],
   "source": [
    "gadi.tyre"
   ]
  },
  {
   "cell_type": "markdown",
   "id": "5f817bee-ad8c-4321-b87a-2aa0f91e3d4e",
   "metadata": {},
   "source": [
    "#### Variables are also called Attributes\n",
    "#### Functions are also called Methods"
   ]
  },
  {
   "cell_type": "markdown",
   "id": "0e3c5789-f88a-43de-ba78-c262fd4daecc",
   "metadata": {},
   "source": [
    "### Self means the object that is created \n"
   ]
  },
  {
   "cell_type": "code",
   "execution_count": 43,
   "id": "ce7c4d17-c5f2-4eb4-80df-0a3731605edf",
   "metadata": {},
   "outputs": [],
   "source": [
    "class Car():\n",
    "    tyre = 4\n",
    "\n",
    "    def move(gadi2):\n",
    "        print(\"moving forward\")"
   ]
  },
  {
   "cell_type": "code",
   "execution_count": 45,
   "id": "abb98d07-79bd-4374-9b7e-854bfcc8e263",
   "metadata": {},
   "outputs": [],
   "source": [
    "gadi2 = Car()"
   ]
  },
  {
   "cell_type": "code",
   "execution_count": 46,
   "id": "4dcf823b-1b2b-42ef-b227-0c4f89fca274",
   "metadata": {},
   "outputs": [
    {
     "name": "stdout",
     "output_type": "stream",
     "text": [
      "moving forward\n"
     ]
    }
   ],
   "source": [
    "gadi2.move()"
   ]
  },
  {
   "cell_type": "code",
   "execution_count": 53,
   "id": "ab3bf1ac-84f6-411e-bade-7984247a7c18",
   "metadata": {},
   "outputs": [],
   "source": [
    "class Car():\n",
    "    tyre = 4\n",
    "\n",
    "    #### self me sare object aa jayenge jo create kre honge. jese gadi,gadi2\n",
    "    def move(self):\n",
    "        print(\"moving forward\")"
   ]
  },
  {
   "cell_type": "code",
   "execution_count": 54,
   "id": "4ff79149-4644-4c12-a1ad-cfcbf8cc3f08",
   "metadata": {},
   "outputs": [],
   "source": [
    "gadi = Car()"
   ]
  },
  {
   "cell_type": "code",
   "execution_count": 55,
   "id": "e39a2c0d-d92e-4b16-9609-006fcbd74826",
   "metadata": {},
   "outputs": [
    {
     "name": "stdout",
     "output_type": "stream",
     "text": [
      "moving forward\n"
     ]
    }
   ],
   "source": [
    "gadi.move()"
   ]
  },
  {
   "cell_type": "code",
   "execution_count": 56,
   "id": "7896c7c6-a110-4826-80a6-532fd24ab9df",
   "metadata": {},
   "outputs": [],
   "source": [
    "gadi2 = Car()"
   ]
  },
  {
   "cell_type": "code",
   "execution_count": 57,
   "id": "8fdc5c60-f45f-4db8-ba3c-ce6240d5ec60",
   "metadata": {},
   "outputs": [
    {
     "name": "stdout",
     "output_type": "stream",
     "text": [
      "moving forward\n"
     ]
    }
   ],
   "source": [
    "gadi2.move()"
   ]
  },
  {
   "cell_type": "code",
   "execution_count": 58,
   "id": "b68e495e-6e5a-45c1-ac4c-f1950ebf2c81",
   "metadata": {},
   "outputs": [],
   "source": [
    "gadi.name = \"nano\""
   ]
  },
  {
   "cell_type": "code",
   "execution_count": 59,
   "id": "cd15ab19-c4de-4389-b9f4-11c78039f8e6",
   "metadata": {},
   "outputs": [],
   "source": [
    "gadi2.name =\"alto\""
   ]
  },
  {
   "cell_type": "code",
   "execution_count": 60,
   "id": "3cea801e-e172-4d4f-9327-827d99c1f434",
   "metadata": {},
   "outputs": [
    {
     "data": {
      "text/plain": [
       "'nano'"
      ]
     },
     "execution_count": 60,
     "metadata": {},
     "output_type": "execute_result"
    }
   ],
   "source": [
    "gadi.name"
   ]
  },
  {
   "cell_type": "code",
   "execution_count": 61,
   "id": "27aeacd4-11e5-4661-bcf8-accd113e0f1c",
   "metadata": {},
   "outputs": [
    {
     "data": {
      "text/plain": [
       "'alto'"
      ]
     },
     "execution_count": 61,
     "metadata": {},
     "output_type": "execute_result"
    }
   ],
   "source": [
    "gadi2.name"
   ]
  },
  {
   "cell_type": "markdown",
   "id": "76b646fa-03f8-45e7-b52d-1dd4d139a385",
   "metadata": {},
   "source": [
    "#### __init__ yeh special function hote h . yeh special jgh pe apne ap run ho jate hai.\n",
    "#### init fucntion tb run hota hai jb hum koi item create krte hai."
   ]
  },
  {
   "cell_type": "code",
   "execution_count": 83,
   "id": "2b17a738-d460-4f23-991d-1b74bdad441f",
   "metadata": {},
   "outputs": [],
   "source": [
    "class Car():\n",
    "    # variable belonging to whole class\n",
    "    tyre =  4\n",
    "\n",
    "    def __init__(self, modelname):\n",
    "        # variable of the object \n",
    "        self.name = modelname\n",
    "\n",
    "    def move(self):\n",
    "        print(\"moving forward\")"
   ]
  },
  {
   "cell_type": "code",
   "execution_count": 78,
   "id": "139f5a71-4c78-4b01-bddb-bb3e344e3187",
   "metadata": {},
   "outputs": [],
   "source": [
    "gadi = Car(\"Nano\")"
   ]
  },
  {
   "cell_type": "code",
   "execution_count": 74,
   "id": "94efc606-c6e8-47f1-afd5-5d28824621cc",
   "metadata": {},
   "outputs": [
    {
     "data": {
      "text/plain": [
       "'Nano'"
      ]
     },
     "execution_count": 74,
     "metadata": {},
     "output_type": "execute_result"
    }
   ],
   "source": [
    "gadi.name"
   ]
  },
  {
   "cell_type": "code",
   "execution_count": 79,
   "id": "9eb5d77b-66b6-44c4-a829-193ba857ebbd",
   "metadata": {},
   "outputs": [
    {
     "name": "stdout",
     "output_type": "stream",
     "text": [
      "moving forward\n"
     ]
    }
   ],
   "source": [
    "gadi.move()"
   ]
  },
  {
   "cell_type": "code",
   "execution_count": 80,
   "id": "3aa8999b-cb6d-47c5-99bd-1d57d0f8c648",
   "metadata": {},
   "outputs": [],
   "source": [
    "gadi2 = Car(\"Alto\")"
   ]
  },
  {
   "cell_type": "code",
   "execution_count": 81,
   "id": "7eea64d4-1337-4aae-8f5d-9d1bf8e898cd",
   "metadata": {},
   "outputs": [
    {
     "data": {
      "text/plain": [
       "'Alto'"
      ]
     },
     "execution_count": 81,
     "metadata": {},
     "output_type": "execute_result"
    }
   ],
   "source": [
    "gadi2.name"
   ]
  },
  {
   "cell_type": "code",
   "execution_count": 82,
   "id": "3c827acd-309e-4022-8649-f15069c20edb",
   "metadata": {},
   "outputs": [
    {
     "name": "stdout",
     "output_type": "stream",
     "text": [
      "moving forward\n"
     ]
    }
   ],
   "source": [
    "gadi2.move()"
   ]
  },
  {
   "cell_type": "code",
   "execution_count": 102,
   "id": "36cf2f4a-bd8a-44e1-864f-c3079d92f9f2",
   "metadata": {},
   "outputs": [],
   "source": [
    "class Car():\n",
    "    tyre =  4\n",
    "\n",
    "    def __init__(self, model, year=None):\n",
    "        self.model = model\n",
    "        self.year = year\n",
    "\n",
    "    def introduction(self):\n",
    "        print(f\"hi i am {self.model} and i was made in {self.year}\")\n",
    "\n",
    "    def move(self):\n",
    "        print(\"moving forward\")"
   ]
  },
  {
   "cell_type": "code",
   "execution_count": 103,
   "id": "74769c24-d117-401a-b71a-63a21986896d",
   "metadata": {},
   "outputs": [],
   "source": [
    "gadi = Car(\"Nano\",2005)"
   ]
  },
  {
   "cell_type": "code",
   "execution_count": 104,
   "id": "b65e66bd-852c-467b-bd36-26a8e1aac380",
   "metadata": {},
   "outputs": [
    {
     "name": "stdout",
     "output_type": "stream",
     "text": [
      "hi i am Nano and i was made in 2005\n"
     ]
    }
   ],
   "source": [
    "gadi.introduction()"
   ]
  },
  {
   "cell_type": "code",
   "execution_count": 105,
   "id": "b397ed61-8633-40f3-b342-d3dae0c7e333",
   "metadata": {},
   "outputs": [],
   "source": [
    "gadi2 = Car(\"Alto\",2000)"
   ]
  },
  {
   "cell_type": "code",
   "execution_count": 106,
   "id": "45406cf3-20b8-405f-8116-b747512e3b63",
   "metadata": {},
   "outputs": [
    {
     "name": "stdout",
     "output_type": "stream",
     "text": [
      "hi i am Alto and i was made in 2000\n"
     ]
    }
   ],
   "source": [
    "gadi2.introduction()"
   ]
  },
  {
   "cell_type": "code",
   "execution_count": 15,
   "id": "9c451ce8-1680-40f8-8fd5-36ac7eb8e48a",
   "metadata": {},
   "outputs": [],
   "source": [
    "class Human():\n",
    "    Legs = 2\n",
    "\n",
    "    def __init__(self, name, age= 0):\n",
    "        self.name = name\n",
    "        self.age = age\n",
    "        \n",
    "    def introduction(self):\n",
    "            print(f\"hi i am {self.name}, and my age is {self.age}\")"
   ]
  },
  {
   "cell_type": "code",
   "execution_count": 17,
   "id": "b3f2d461-b3d4-4961-bf27-fd33d560040e",
   "metadata": {},
   "outputs": [],
   "source": [
    "Pehlainsan = Human(\"sahil\",21)"
   ]
  },
  {
   "cell_type": "code",
   "execution_count": 19,
   "id": "d2a0b490-136f-4a0e-aebd-8569b9f05ea3",
   "metadata": {},
   "outputs": [
    {
     "name": "stdout",
     "output_type": "stream",
     "text": [
      "hi i am sahil, and my age is 21\n"
     ]
    }
   ],
   "source": [
    "Pehlainsan.introduction()"
   ]
  },
  {
   "cell_type": "code",
   "execution_count": 20,
   "id": "f915e567-d2b6-47ec-9c4c-afb8d1ec68b5",
   "metadata": {},
   "outputs": [],
   "source": [
    "dusrainsan = Human(\"abhi\",20)"
   ]
  },
  {
   "cell_type": "code",
   "execution_count": 22,
   "id": "0c1d2acc-2273-4389-a867-bf65d91ab55b",
   "metadata": {},
   "outputs": [
    {
     "name": "stdout",
     "output_type": "stream",
     "text": [
      "hi i am abhi, and my age is 20\n"
     ]
    }
   ],
   "source": [
    "dusrainsan.introduction()"
   ]
  },
  {
   "cell_type": "code",
   "execution_count": 36,
   "id": "31f31b0c-de9e-4902-8e44-ba53ee413e65",
   "metadata": {},
   "outputs": [],
   "source": [
    "class Mobile():\n",
    "    Camera = 2\n",
    "\n",
    "    def __init__ (self,company,ram = 0):\n",
    "        self.company = company\n",
    "        self.ram = ram\n",
    "\n",
    "    def introduction(self):\n",
    "        print(f\"hi  {self.company} are the best mobiles and its ram is {self.ram}\")\n",
    "    "
   ]
  },
  {
   "cell_type": "code",
   "execution_count": 37,
   "id": "767f7634-6ee2-4828-b2db-4f8e02432386",
   "metadata": {},
   "outputs": [],
   "source": [
    "firstphone = Mobile(\"Vivo\", 6)"
   ]
  },
  {
   "cell_type": "code",
   "execution_count": 38,
   "id": "38cd1ced-f675-4304-982c-af2f943bae5c",
   "metadata": {},
   "outputs": [
    {
     "name": "stdout",
     "output_type": "stream",
     "text": [
      "hi  Vivo are the best mobiles and its ram is 6\n"
     ]
    }
   ],
   "source": [
    "firstphone.introduction()"
   ]
  },
  {
   "cell_type": "code",
   "execution_count": 39,
   "id": "1620f512-1be5-4947-9267-903d73007eb0",
   "metadata": {},
   "outputs": [],
   "source": [
    "secondphone = Mobile(\"Samsung\", 8)"
   ]
  },
  {
   "cell_type": "code",
   "execution_count": 40,
   "id": "cb5f39c4-859c-4705-a998-422e748cb12f",
   "metadata": {},
   "outputs": [
    {
     "name": "stdout",
     "output_type": "stream",
     "text": [
      "hi  Samsung are the best mobiles and its ram is 8\n"
     ]
    }
   ],
   "source": [
    "secondphone.introduction()"
   ]
  },
  {
   "cell_type": "code",
   "execution_count": 41,
   "id": "57a84735-5963-4257-9244-4cbe0af7a17c",
   "metadata": {},
   "outputs": [],
   "source": [
    "thirdphone = Mobile(\"Poco\",12)"
   ]
  },
  {
   "cell_type": "code",
   "execution_count": 42,
   "id": "184b78b8-e56d-42fc-b88f-9fc7fa363b4a",
   "metadata": {},
   "outputs": [
    {
     "name": "stdout",
     "output_type": "stream",
     "text": [
      "hi  Poco are the best mobiles and its ram is 12\n"
     ]
    }
   ],
   "source": [
    "thirdphone.introduction()"
   ]
  },
  {
   "cell_type": "code",
   "execution_count": null,
   "id": "81867878-2ba6-4cb5-854f-217fb1cc342b",
   "metadata": {},
   "outputs": [],
   "source": []
  }
 ],
 "metadata": {
  "kernelspec": {
   "display_name": "Python [conda env:base] *",
   "language": "python",
   "name": "conda-base-py"
  },
  "language_info": {
   "codemirror_mode": {
    "name": "ipython",
    "version": 3
   },
   "file_extension": ".py",
   "mimetype": "text/x-python",
   "name": "python",
   "nbconvert_exporter": "python",
   "pygments_lexer": "ipython3",
   "version": "3.13.5"
  }
 },
 "nbformat": 4,
 "nbformat_minor": 5
}
