{
 "cells": [
  {
   "cell_type": "code",
   "execution_count": null,
   "id": "3fecbd12-6ac9-4554-a569-916427fc806c",
   "metadata": {},
   "outputs": [],
   "source": []
  }
 ],
 "metadata": {
  "kernelspec": {
   "display_name": "",
   "name": ""
  },
  "language_info": {
   "name": ""
  }
 },
 "nbformat": 4,
 "nbformat_minor": 5
}
