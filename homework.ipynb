{
 "cells": [
  {
   "cell_type": "markdown",
   "id": "3a5d4a94-5889-47b0-a022-f68a4b3748f3",
   "metadata": {},
   "source": [
    "# class "
   ]
  },
  {
   "cell_type": "code",
   "execution_count": null,
   "id": "c5a2b6fc-4d9c-483f-9744-625d7eaa1413",
   "metadata": {},
   "outputs": [],
   "source": []
  }
 ],
 "metadata": {
  "kernelspec": {
   "display_name": "Python [conda env:base] *",
   "language": "python",
   "name": "conda-base-py"
  },
  "language_info": {
   "codemirror_mode": {
    "name": "ipython",
    "version": 3
   },
   "file_extension": ".py",
   "mimetype": "text/x-python",
   "name": "python",
   "nbconvert_exporter": "python",
   "pygments_lexer": "ipython3",
   "version": "3.13.5"
  }
 },
 "nbformat": 4,
 "nbformat_minor": 5
}
