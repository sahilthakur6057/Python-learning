{
 "cells": [
  {
   "cell_type": "markdown",
   "id": "ec1e9629-6f1e-43c3-9ffa-48749553a7ba",
   "metadata": {},
   "source": [
    " # Recursion"
   ]
  },
  {
   "cell_type": "markdown",
   "id": "2e3610ce-dea5-4d77-aa02-e6e83c328880",
   "metadata": {},
   "source": [
    "#### when we call a function in itself is called recursion\n",
    "conditions\n",
    "1. We call a function in itself\n",
    "2. We assume the second call will give a correct output\n",
    "3. It must have a terminating condition"
   ]
  },
  {
   "cell_type": "code",
   "execution_count": 5,
   "id": "13591b23-feaf-498b-b15f-ca445b131ab0",
   "metadata": {},
   "outputs": [],
   "source": [
    "def factorial(n):\n",
    "    print(n, n-1)\n",
    "    if n == 0:\n",
    "        return 1\n",
    "\n",
    "    return n * factorial(n-1)"
   ]
  },
  {
   "cell_type": "code",
   "execution_count": 6,
   "id": "3bd4c1af-629b-4391-9ea6-0f562616ea84",
   "metadata": {},
   "outputs": [
    {
     "name": "stdout",
     "output_type": "stream",
     "text": [
      "5 4\n",
      "4 3\n",
      "3 2\n",
      "2 1\n",
      "1 0\n",
      "0 -1\n"
     ]
    },
    {
     "data": {
      "text/plain": [
       "120"
      ]
     },
     "execution_count": 6,
     "metadata": {},
     "output_type": "execute_result"
    }
   ],
   "source": [
    "factorial(5)"
   ]
  },
  {
   "cell_type": "code",
   "execution_count": 7,
   "id": "d652cf73-1326-4628-8026-54b5f9d454cc",
   "metadata": {},
   "outputs": [
    {
     "name": "stdout",
     "output_type": "stream",
     "text": [
      "4 3\n",
      "3 2\n",
      "2 1\n",
      "1 0\n",
      "0 -1\n"
     ]
    },
    {
     "data": {
      "text/plain": [
       "24"
      ]
     },
     "execution_count": 7,
     "metadata": {},
     "output_type": "execute_result"
    }
   ],
   "source": [
    "factorial(4)"
   ]
  },
  {
   "cell_type": "code",
   "execution_count": 12,
   "id": "1a954ce0-fe9e-4d87-97e6-4c9ee0a373a4",
   "metadata": {},
   "outputs": [],
   "source": [
    "def factorial(n):\n",
    "    if n == 0:\n",
    "        return 1\n",
    "    return n * factorial(n-1)\n",
    "      "
   ]
  },
  {
   "cell_type": "code",
   "execution_count": 13,
   "id": "beeae10c-92b0-4bf4-aad2-02fd770fc384",
   "metadata": {},
   "outputs": [
    {
     "data": {
      "text/plain": [
       "120"
      ]
     },
     "execution_count": 13,
     "metadata": {},
     "output_type": "execute_result"
    }
   ],
   "source": [
    "factorial(5)"
   ]
  },
  {
   "cell_type": "code",
   "execution_count": 14,
   "id": "7a458b27-e0a4-4893-9d1f-b94ac8cea9c0",
   "metadata": {},
   "outputs": [],
   "source": [
    "L = [4,5,6,6,7,5,3]"
   ]
  },
  {
   "cell_type": "code",
   "execution_count": 17,
   "id": "1534ea48-5592-4b47-afa5-cb782d055850",
   "metadata": {},
   "outputs": [],
   "source": [
    "def addlist(L):\n",
    "    print (L)\n",
    "    if len(L)==0:\n",
    "        return 0\n",
    "    return L[0] + addlist(L[1:])"
   ]
  },
  {
   "cell_type": "code",
   "execution_count": 18,
   "id": "3e115bb9-192f-4bde-abfc-2979e33b1fa2",
   "metadata": {},
   "outputs": [
    {
     "name": "stdout",
     "output_type": "stream",
     "text": [
      "[4, 5, 6, 6, 7, 5, 3]\n",
      "[5, 6, 6, 7, 5, 3]\n",
      "[6, 6, 7, 5, 3]\n",
      "[6, 7, 5, 3]\n",
      "[7, 5, 3]\n",
      "[5, 3]\n",
      "[3]\n",
      "[]\n"
     ]
    },
    {
     "data": {
      "text/plain": [
       "36"
      ]
     },
     "execution_count": 18,
     "metadata": {},
     "output_type": "execute_result"
    }
   ],
   "source": [
    "addlist(L)"
   ]
  },
  {
   "cell_type": "code",
   "execution_count": 20,
   "id": "22899529-94b0-4c55-9c8b-ffad00c6dada",
   "metadata": {},
   "outputs": [],
   "source": [
    "a = [3,4,5,6,7,6,2]"
   ]
  },
  {
   "cell_type": "code",
   "execution_count": 23,
   "id": "545723d3-e35f-4629-9a58-3a54de73e16d",
   "metadata": {},
   "outputs": [],
   "source": [
    "def addlist (a):\n",
    "    print (a)\n",
    "    if len(a)== 0:\n",
    "        return 0\n",
    "    return a[0] + addlist(a[1:])"
   ]
  },
  {
   "cell_type": "code",
   "execution_count": 24,
   "id": "058e02d9-06f3-444e-90a9-22a582c4f5e2",
   "metadata": {
    "scrolled": true
   },
   "outputs": [
    {
     "name": "stdout",
     "output_type": "stream",
     "text": [
      "[3, 4, 5, 6, 7, 6, 2]\n",
      "[4, 5, 6, 7, 6, 2]\n",
      "[5, 6, 7, 6, 2]\n",
      "[6, 7, 6, 2]\n",
      "[7, 6, 2]\n",
      "[6, 2]\n",
      "[2]\n",
      "[]\n"
     ]
    },
    {
     "data": {
      "text/plain": [
       "33"
      ]
     },
     "execution_count": 24,
     "metadata": {},
     "output_type": "execute_result"
    }
   ],
   "source": [
    "addlist(a)"
   ]
  },
  {
   "cell_type": "code",
   "execution_count": 1,
   "id": "40e4d54b-5766-485d-90cf-92a5dee46602",
   "metadata": {},
   "outputs": [
    {
     "data": {
      "text/plain": [
       "True"
      ]
     },
     "execution_count": 1,
     "metadata": {},
     "output_type": "execute_result"
    }
   ],
   "source": [
    "type(5) is int"
   ]
  },
  {
   "cell_type": "code",
   "execution_count": 1,
   "id": "970c0f35-7c84-428e-a8e8-314f615e6e5d",
   "metadata": {},
   "outputs": [],
   "source": [
    "def add_list(l):\n",
    "    print(l)\n",
    "    if type(l) is int:\n",
    "        return l\n",
    "    elif len(l)==0:\n",
    "        return 0\n",
    "    abc = add_list(l[0]) + add_list(l[1:])\n",
    "    print(l[0])\n",
    "    return abc"
   ]
  },
  {
   "cell_type": "code",
   "execution_count": 2,
   "id": "07829af0-0ecb-4a47-925d-d03f5fcd1f9d",
   "metadata": {},
   "outputs": [
    {
     "name": "stdout",
     "output_type": "stream",
     "text": [
      "[1, 2, [9, 6, 4, 2], 7, 5, 6, 3]\n",
      "1\n",
      "[2, [9, 6, 4, 2], 7, 5, 6, 3]\n",
      "2\n",
      "[[9, 6, 4, 2], 7, 5, 6, 3]\n",
      "[9, 6, 4, 2]\n",
      "9\n",
      "[6, 4, 2]\n",
      "6\n",
      "[4, 2]\n",
      "4\n",
      "[2]\n",
      "2\n",
      "[]\n",
      "2\n",
      "4\n",
      "6\n",
      "9\n",
      "[7, 5, 6, 3]\n",
      "7\n",
      "[5, 6, 3]\n",
      "5\n",
      "[6, 3]\n",
      "6\n",
      "[3]\n",
      "3\n",
      "[]\n",
      "3\n",
      "6\n",
      "5\n",
      "7\n",
      "[9, 6, 4, 2]\n",
      "2\n",
      "1\n"
     ]
    },
    {
     "data": {
      "text/plain": [
       "45"
      ]
     },
     "execution_count": 2,
     "metadata": {},
     "output_type": "execute_result"
    }
   ],
   "source": [
    "add_list([1,2,[9,6,4,2],7,5,6,3])"
   ]
  },
  {
   "cell_type": "code",
   "execution_count": null,
   "id": "41d60cd8-bccd-4289-86b5-2db057e13ba8",
   "metadata": {},
   "outputs": [],
   "source": []
  }
 ],
 "metadata": {
  "kernelspec": {
   "display_name": "Python [conda env:base] *",
   "language": "python",
   "name": "conda-base-py"
  },
  "language_info": {
   "codemirror_mode": {
    "name": "ipython",
    "version": 3
   },
   "file_extension": ".py",
   "mimetype": "text/x-python",
   "name": "python",
   "nbconvert_exporter": "python",
   "pygments_lexer": "ipython3",
   "version": "3.13.5"
  }
 },
 "nbformat": 4,
 "nbformat_minor": 5
}
