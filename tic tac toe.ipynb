{
 "cells": [
  {
   "cell_type": "markdown",
   "id": "b5b7b80c-90ec-4586-8589-cc211aa4b5f9",
   "metadata": {},
   "source": [
    "## display"
   ]
  },
  {
   "cell_type": "code",
   "execution_count": 9,
   "id": "edd2dc9e-e3be-4d76-ba62-1d9fa745c116",
   "metadata": {},
   "outputs": [],
   "source": [
    "from IPython.display import clear_output"
   ]
  },
  {
   "cell_type": "code",
   "execution_count": 10,
   "id": "2b757fc4-5bdd-4e12-a74d-dda9e4a371c5",
   "metadata": {},
   "outputs": [],
   "source": [
    "li = [\" \"]*10"
   ]
  },
  {
   "cell_type": "code",
   "execution_count": 11,
   "id": "e20dd64d-e03e-4f35-899d-1b928b754fd1",
   "metadata": {},
   "outputs": [
    {
     "data": {
      "text/plain": [
       "[' ', ' ', ' ', ' ', ' ', ' ', ' ', ' ', ' ', ' ']"
      ]
     },
     "execution_count": 11,
     "metadata": {},
     "output_type": "execute_result"
    }
   ],
   "source": [
    "li"
   ]
  },
  {
   "cell_type": "code",
   "execution_count": 12,
   "id": "51fce91f-76aa-4e6b-a553-158f5b8c43f2",
   "metadata": {},
   "outputs": [],
   "source": [
    "def display():\n",
    "    print(li[7],\" | \",li[8],\" | \",li[9])\n",
    "    print(\"-\"*14)\n",
    "    print(li[4],\" | \",li[5],\" | \",li[6])\n",
    "    print(\"-\"*14)\n",
    "    print(li[1],\" | \",li[2],\" | \",li[3])    "
   ]
  },
  {
   "cell_type": "code",
   "execution_count": 27,
   "id": "e3641e35-1e4b-4901-8359-f02bd11747da",
   "metadata": {},
   "outputs": [
    {
     "name": "stdout",
     "output_type": "stream",
     "text": [
      "x  |     |   \n",
      "--------------\n",
      "   |  o  |  x\n",
      "--------------\n",
      "   |     |   \n"
     ]
    }
   ],
   "source": [
    "display()"
   ]
  },
  {
   "cell_type": "code",
   "execution_count": 14,
   "id": "fdc7089c-12f8-4246-b78f-3650fea83755",
   "metadata": {},
   "outputs": [],
   "source": [
    "def check_position_empty(position):\n",
    "    if li[position] == \" \":\n",
    "        return True\n",
    "    else:\n",
    "        return  False"
   ]
  },
  {
   "cell_type": "code",
   "execution_count": 17,
   "id": "96b1709a-9bb2-42a6-9699-061f79750c50",
   "metadata": {},
   "outputs": [],
   "source": [
    "li[5]= \"o\""
   ]
  },
  {
   "cell_type": "code",
   "execution_count": 22,
   "id": "90ff3f81-73be-4a97-937e-fa079c1ae693",
   "metadata": {},
   "outputs": [
    {
     "data": {
      "text/plain": [
       "True"
      ]
     },
     "execution_count": 22,
     "metadata": {},
     "output_type": "execute_result"
    }
   ],
   "source": [
    "check_position_empty(7)"
   ]
  },
  {
   "cell_type": "code",
   "execution_count": 23,
   "id": "6054535d-53a3-457d-a3dc-e5e8619dc5fc",
   "metadata": {},
   "outputs": [],
   "source": [
    "li[7]= \"x\""
   ]
  },
  {
   "cell_type": "code",
   "execution_count": 26,
   "id": "b404ac37-0dde-471a-becc-08c041ee89ca",
   "metadata": {},
   "outputs": [],
   "source": [
    "li[6]= \"x\""
   ]
  },
  {
   "cell_type": "code",
   "execution_count": 28,
   "id": "e6776f9a-ba49-4fcf-8cee-08a2f09529cd",
   "metadata": {},
   "outputs": [],
   "source": [
    "def put_marker(position, marker):\n",
    "    li[position]= marker"
   ]
  },
  {
   "cell_type": "code",
   "execution_count": 35,
   "id": "2895d970-fcbc-4325-a8eb-582d8cc53dd3",
   "metadata": {},
   "outputs": [],
   "source": [
    "put_marker(3, \"x\")"
   ]
  },
  {
   "cell_type": "code",
   "execution_count": 36,
   "id": "b4def259-88cf-499a-bef0-50de9780e452",
   "metadata": {},
   "outputs": [],
   "source": [
    "position = None"
   ]
  },
  {
   "cell_type": "code",
   "execution_count": 2,
   "id": "6c4fee60-e75f-43b7-b955-312e0d1fc8f4",
   "metadata": {},
   "outputs": [
    {
     "name": "stdin",
     "output_type": "stream",
     "text": [
      "None dffdhdd\n"
     ]
    },
    {
     "name": "stdout",
     "output_type": "stream",
     "text": [
      "please provide a number\n"
     ]
    },
    {
     "name": "stdin",
     "output_type": "stream",
     "text": [
      "None 4\\\n"
     ]
    },
    {
     "name": "stdout",
     "output_type": "stream",
     "text": [
      "please provide a number\n"
     ]
    },
    {
     "name": "stdin",
     "output_type": "stream",
     "text": [
      "None \n"
     ]
    },
    {
     "name": "stdout",
     "output_type": "stream",
     "text": [
      "please provide a number\n"
     ]
    },
    {
     "name": "stdin",
     "output_type": "stream",
     "text": [
      "None 5\n"
     ]
    }
   ],
   "source": [
    "position = None\n",
    "while not position:\n",
    "    try:\n",
    "        position = int(input(position))\n",
    "    except ValueError:\n",
    "        print('please provide a number')"
   ]
  },
  {
   "cell_type": "code",
   "execution_count": null,
   "id": "74915570-1fb3-4660-a0fc-03ba9bcc14fe",
   "metadata": {},
   "outputs": [],
   "source": []
  }
 ],
 "metadata": {
  "kernelspec": {
   "display_name": "Python [conda env:base] *",
   "language": "python",
   "name": "conda-base-py"
  },
  "language_info": {
   "codemirror_mode": {
    "name": "ipython",
    "version": 3
   },
   "file_extension": ".py",
   "mimetype": "text/x-python",
   "name": "python",
   "nbconvert_exporter": "python",
   "pygments_lexer": "ipython3",
   "version": "3.13.5"
  }
 },
 "nbformat": 4,
 "nbformat_minor": 5
}
