{
 "cells": [
  {
   "cell_type": "markdown",
   "id": "40ad5654-e087-403a-ab7f-7bcd1b310b7d",
   "metadata": {},
   "source": [
    "# dictionary \n"
   ]
  },
  {
   "cell_type": "code",
   "execution_count": 3,
   "id": "13389a84-9aa6-4021-a4f6-6183830ef24d",
   "metadata": {},
   "outputs": [],
   "source": [
    "d = {\"name\":\"shubham\", \"age\": 24, \"education\": \"b.tech\"}"
   ]
  },
  {
   "cell_type": "code",
   "execution_count": 4,
   "id": "14d8c372-87ac-4ae0-8aa9-64f1be8a2632",
   "metadata": {},
   "outputs": [
    {
     "data": {
      "text/plain": [
       "{'name': 'shubham', 'age': 24, 'education': 'b.tech'}"
      ]
     },
     "execution_count": 4,
     "metadata": {},
     "output_type": "execute_result"
    }
   ],
   "source": [
    "d"
   ]
  },
  {
   "cell_type": "code",
   "execution_count": 6,
   "id": "f68387a1-b194-47d0-889c-f82abb77fd4d",
   "metadata": {},
   "outputs": [
    {
     "data": {
      "text/plain": [
       "dict_keys(['name', 'age', 'education'])"
      ]
     },
     "execution_count": 6,
     "metadata": {},
     "output_type": "execute_result"
    }
   ],
   "source": [
    "d.keys()"
   ]
  },
  {
   "cell_type": "code",
   "execution_count": 7,
   "id": "7b7040bc-1eb8-473d-8766-52da88402e9e",
   "metadata": {},
   "outputs": [
    {
     "data": {
      "text/plain": [
       "3"
      ]
     },
     "execution_count": 7,
     "metadata": {},
     "output_type": "execute_result"
    }
   ],
   "source": [
    "len(d)"
   ]
  },
  {
   "cell_type": "code",
   "execution_count": 8,
   "id": "3ee4c508-f599-4817-a85c-9c2b88dc5e62",
   "metadata": {},
   "outputs": [
    {
     "data": {
      "text/plain": [
       "dict_values(['shubham', 24, 'b.tech'])"
      ]
     },
     "execution_count": 8,
     "metadata": {},
     "output_type": "execute_result"
    }
   ],
   "source": [
    "d.values()"
   ]
  },
  {
   "cell_type": "code",
   "execution_count": 9,
   "id": "f1e8a9c8-ae17-4987-9982-99555dfea5da",
   "metadata": {},
   "outputs": [
    {
     "data": {
      "text/plain": [
       "'shubham'"
      ]
     },
     "execution_count": 9,
     "metadata": {},
     "output_type": "execute_result"
    }
   ],
   "source": [
    "d['name']"
   ]
  },
  {
   "cell_type": "code",
   "execution_count": 10,
   "id": "abd71391-bd98-4467-8020-81a926713ee9",
   "metadata": {},
   "outputs": [
    {
     "data": {
      "text/plain": [
       "24"
      ]
     },
     "execution_count": 10,
     "metadata": {},
     "output_type": "execute_result"
    }
   ],
   "source": [
    "d['age']"
   ]
  },
  {
   "cell_type": "code",
   "execution_count": 11,
   "id": "39a34d8b-9bbc-4f7c-b0d7-bab20753b205",
   "metadata": {},
   "outputs": [
    {
     "data": {
      "text/plain": [
       "'b.tech'"
      ]
     },
     "execution_count": 11,
     "metadata": {},
     "output_type": "execute_result"
    }
   ],
   "source": [
    "d['education']"
   ]
  },
  {
   "cell_type": "code",
   "execution_count": 12,
   "id": "735f00f5-36e7-42c1-936b-7350c99a2c27",
   "metadata": {},
   "outputs": [],
   "source": [
    "k = {\"name\":\"sahil\",\"age\":\"21\", \"education\":\"bba\"}"
   ]
  },
  {
   "cell_type": "code",
   "execution_count": 13,
   "id": "def62a4c-ae0a-48ce-9475-ca59392f4fba",
   "metadata": {},
   "outputs": [
    {
     "data": {
      "text/plain": [
       "{'name': 'sahil', 'age': '21', 'education': 'bba'}"
      ]
     },
     "execution_count": 13,
     "metadata": {},
     "output_type": "execute_result"
    }
   ],
   "source": [
    "k"
   ]
  },
  {
   "cell_type": "code",
   "execution_count": 14,
   "id": "2e7761e1-2c09-45f7-bc6b-5477e7ab0098",
   "metadata": {},
   "outputs": [
    {
     "data": {
      "text/plain": [
       "dict_keys(['name', 'age', 'education'])"
      ]
     },
     "execution_count": 14,
     "metadata": {},
     "output_type": "execute_result"
    }
   ],
   "source": [
    "k.keys()"
   ]
  },
  {
   "cell_type": "code",
   "execution_count": 15,
   "id": "06cc0ae2-c349-4c98-aaaf-9283ba223c15",
   "metadata": {},
   "outputs": [
    {
     "data": {
      "text/plain": [
       "dict_values(['sahil', '21', 'bba'])"
      ]
     },
     "execution_count": 15,
     "metadata": {},
     "output_type": "execute_result"
    }
   ],
   "source": [
    "k.values()"
   ]
  },
  {
   "cell_type": "code",
   "execution_count": 16,
   "id": "a8930068-f9c3-4ece-b2ba-2a174755a592",
   "metadata": {},
   "outputs": [
    {
     "data": {
      "text/plain": [
       "'sahil'"
      ]
     },
     "execution_count": 16,
     "metadata": {},
     "output_type": "execute_result"
    }
   ],
   "source": [
    "k['name']"
   ]
  },
  {
   "cell_type": "code",
   "execution_count": 17,
   "id": "e7905a01-68ca-4ca9-a5ed-510a82a75f2f",
   "metadata": {},
   "outputs": [
    {
     "data": {
      "text/plain": [
       "'21'"
      ]
     },
     "execution_count": 17,
     "metadata": {},
     "output_type": "execute_result"
    }
   ],
   "source": [
    "k['age']"
   ]
  },
  {
   "cell_type": "code",
   "execution_count": 18,
   "id": "f4658983-ed73-449b-88fa-186e6fb0d558",
   "metadata": {},
   "outputs": [
    {
     "data": {
      "text/plain": [
       "'bba'"
      ]
     },
     "execution_count": 18,
     "metadata": {},
     "output_type": "execute_result"
    }
   ],
   "source": [
    "k['education']"
   ]
  },
  {
   "cell_type": "code",
   "execution_count": 19,
   "id": "eebc7399-c262-4aeb-a504-e818a8e900df",
   "metadata": {},
   "outputs": [],
   "source": [
    "k[\"friend\"]= \"salman khan\""
   ]
  },
  {
   "cell_type": "code",
   "execution_count": 20,
   "id": "d8661954-3cd6-45bc-b863-0137218eeaf4",
   "metadata": {},
   "outputs": [
    {
     "data": {
      "text/plain": [
       "{'name': 'sahil', 'age': '21', 'education': 'bba', 'friend': 'salman khan'}"
      ]
     },
     "execution_count": 20,
     "metadata": {},
     "output_type": "execute_result"
    }
   ],
   "source": [
    "k"
   ]
  },
  {
   "cell_type": "code",
   "execution_count": 21,
   "id": "45c4d3e9-88f9-4fc9-b9d8-da6e1ff25caa",
   "metadata": {},
   "outputs": [],
   "source": [
    "# keys can only have sting or int. "
   ]
  },
  {
   "cell_type": "code",
   "execution_count": 22,
   "id": "eed9e86e-b48d-4dfe-9475-70b4468e23ff",
   "metadata": {},
   "outputs": [],
   "source": [
    "di= {1:{'name': 'shubham', 'age': 24, 'education': 'b.tech'},2:{'name':'abhi', 'age':'20'},3:{'name':'akash','age':'20','dogs':['jacky', 'tom','bruno']}}"
   ]
  },
  {
   "cell_type": "code",
   "execution_count": 23,
   "id": "cbf654d3-e717-4d3a-b8de-7a2e318daccd",
   "metadata": {},
   "outputs": [
    {
     "data": {
      "text/plain": [
       "{1: {'name': 'shubham', 'age': 24, 'education': 'b.tech'},\n",
       " 2: {'name': 'abhi', 'age': '20'},\n",
       " 3: {'name': 'akash', 'age': '20', 'dogs': ['jacky', 'tom', 'bruno']}}"
      ]
     },
     "execution_count": 23,
     "metadata": {},
     "output_type": "execute_result"
    }
   ],
   "source": [
    "di"
   ]
  },
  {
   "cell_type": "code",
   "execution_count": 24,
   "id": "71c0d945-493d-464b-9bdc-02c9f252113a",
   "metadata": {},
   "outputs": [
    {
     "data": {
      "text/plain": [
       "dict_keys([1, 2, 3])"
      ]
     },
     "execution_count": 24,
     "metadata": {},
     "output_type": "execute_result"
    }
   ],
   "source": [
    "di.keys()"
   ]
  },
  {
   "cell_type": "code",
   "execution_count": 25,
   "id": "e366a519-dfa8-44e2-aaaf-c2be1a7cbcb2",
   "metadata": {},
   "outputs": [
    {
     "data": {
      "text/plain": [
       "dict_values([{'name': 'shubham', 'age': 24, 'education': 'b.tech'}, {'name': 'abhi', 'age': '20'}, {'name': 'akash', 'age': '20', 'dogs': ['jacky', 'tom', 'bruno']}])"
      ]
     },
     "execution_count": 25,
     "metadata": {},
     "output_type": "execute_result"
    }
   ],
   "source": [
    "di.values()"
   ]
  },
  {
   "cell_type": "code",
   "execution_count": 32,
   "id": "6462f471-6ca3-4aef-b154-75924eb583b3",
   "metadata": {},
   "outputs": [
    {
     "data": {
      "text/plain": [
       "{'name': 'shubham', 'age': 24, 'education': 'b.tech'}"
      ]
     },
     "execution_count": 32,
     "metadata": {},
     "output_type": "execute_result"
    }
   ],
   "source": [
    "di[1]"
   ]
  },
  {
   "cell_type": "code",
   "execution_count": 33,
   "id": "7556165a-a29d-42df-91b4-411b40362158",
   "metadata": {},
   "outputs": [
    {
     "data": {
      "text/plain": [
       "{'name': 'abhi', 'age': '20'}"
      ]
     },
     "execution_count": 33,
     "metadata": {},
     "output_type": "execute_result"
    }
   ],
   "source": [
    "di[2]"
   ]
  },
  {
   "cell_type": "code",
   "execution_count": 34,
   "id": "0f0a3c68-7fb4-4708-86ab-b4c51bf1f1c3",
   "metadata": {},
   "outputs": [
    {
     "data": {
      "text/plain": [
       "{'name': 'akash', 'age': '20', 'dogs': ['jacky', 'tom', 'bruno']}"
      ]
     },
     "execution_count": 34,
     "metadata": {},
     "output_type": "execute_result"
    }
   ],
   "source": [
    "di[3]"
   ]
  },
  {
   "cell_type": "code",
   "execution_count": 35,
   "id": "a1e1ca7e-fe8a-4ac3-8f0a-d72f44fa601e",
   "metadata": {},
   "outputs": [
    {
     "data": {
      "text/plain": [
       "dict_keys(['name', 'age', 'education'])"
      ]
     },
     "execution_count": 35,
     "metadata": {},
     "output_type": "execute_result"
    }
   ],
   "source": [
    "di[1].keys()"
   ]
  },
  {
   "cell_type": "code",
   "execution_count": 36,
   "id": "eb578904-9474-45a0-9795-5dc6b2883f61",
   "metadata": {},
   "outputs": [
    {
     "data": {
      "text/plain": [
       "'tom'"
      ]
     },
     "execution_count": 36,
     "metadata": {},
     "output_type": "execute_result"
    }
   ],
   "source": [
    "di[3]['dogs'][1][0:5]"
   ]
  },
  {
   "cell_type": "code",
   "execution_count": 37,
   "id": "19ac6df7-0288-4d2a-b098-cfd6e1275227",
   "metadata": {},
   "outputs": [
    {
     "data": {
      "text/plain": [
       "'bruno'"
      ]
     },
     "execution_count": 37,
     "metadata": {},
     "output_type": "execute_result"
    }
   ],
   "source": [
    "di[3]['dogs'][2][0:6]"
   ]
  },
  {
   "cell_type": "code",
   "execution_count": 38,
   "id": "61915a43-5f82-4d7a-b2bb-35029f1de0b8",
   "metadata": {},
   "outputs": [
    {
     "data": {
      "text/plain": [
       "dict_items([(1, {'name': 'shubham', 'age': 24, 'education': 'b.tech'}), (2, {'name': 'abhi', 'age': '20'}), (3, {'name': 'akash', 'age': '20', 'dogs': ['jacky', 'tom', 'bruno']})])"
      ]
     },
     "execution_count": 38,
     "metadata": {},
     "output_type": "execute_result"
    }
   ],
   "source": [
    "di.items()"
   ]
  },
  {
   "cell_type": "code",
   "execution_count": 40,
   "id": "1af99cca-1683-44d2-b3b4-28e87221ad2a",
   "metadata": {},
   "outputs": [
    {
     "data": {
      "text/plain": [
       "{'name': 'shubham', 'age': 24, 'education': 'b.tech'}"
      ]
     },
     "execution_count": 40,
     "metadata": {},
     "output_type": "execute_result"
    }
   ],
   "source": [
    "di.get(1)"
   ]
  },
  {
   "cell_type": "code",
   "execution_count": 41,
   "id": "87ace1c8-dc09-4def-b101-e6f81f11ec3d",
   "metadata": {},
   "outputs": [],
   "source": [
    "t = {\"name\":\"sahilthakur\"}"
   ]
  },
  {
   "cell_type": "code",
   "execution_count": 42,
   "id": "7c13783c-70dd-48c8-b935-2824fe1b6fff",
   "metadata": {},
   "outputs": [
    {
     "data": {
      "text/plain": [
       "{'name': 'sahilthakur'}"
      ]
     },
     "execution_count": 42,
     "metadata": {},
     "output_type": "execute_result"
    }
   ],
   "source": [
    "t"
   ]
  },
  {
   "cell_type": "code",
   "execution_count": 44,
   "id": "5c61b9d9-d212-4ce1-801d-f8476e15eeca",
   "metadata": {},
   "outputs": [],
   "source": [
    "t['age']= 21"
   ]
  },
  {
   "cell_type": "code",
   "execution_count": 47,
   "id": "d4efe959-6df3-4adc-a165-7ac2bcd9d733",
   "metadata": {},
   "outputs": [],
   "source": [
    "t['education']= \"bba\""
   ]
  },
  {
   "cell_type": "code",
   "execution_count": 48,
   "id": "39af5a0e-1e73-4ef1-aba8-d7d513cabb25",
   "metadata": {},
   "outputs": [
    {
     "data": {
      "text/plain": [
       "{'name': 'sahilthakur', 'age': 21, 'education': 'bba'}"
      ]
     },
     "execution_count": 48,
     "metadata": {},
     "output_type": "execute_result"
    }
   ],
   "source": [
    "t"
   ]
  },
  {
   "cell_type": "code",
   "execution_count": null,
   "id": "692b02dd-900e-4eef-83c4-af28e5185417",
   "metadata": {},
   "outputs": [],
   "source": []
  }
 ],
 "metadata": {
  "kernelspec": {
   "display_name": "Python [conda env:base] *",
   "language": "python",
   "name": "conda-base-py"
  },
  "language_info": {
   "codemirror_mode": {
    "name": "ipython",
    "version": 3
   },
   "file_extension": ".py",
   "mimetype": "text/x-python",
   "name": "python",
   "nbconvert_exporter": "python",
   "pygments_lexer": "ipython3",
   "version": "3.13.5"
  }
 },
 "nbformat": 4,
 "nbformat_minor": 5
}
