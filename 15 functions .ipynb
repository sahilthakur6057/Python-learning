{
 "cells": [
  {
   "cell_type": "markdown",
   "id": "6132e03a-f69d-4ea9-916d-18c267202b05",
   "metadata": {},
   "source": [
    "# Functions"
   ]
  },
  {
   "cell_type": "markdown",
   "id": "984783bb-c94a-4499-b5ff-1b04dd2b2be4",
   "metadata": {},
   "source": [
    "## functions store code, and it executes the code when called."
   ]
  },
  {
   "cell_type": "code",
   "execution_count": 3,
   "id": "085f6e7b-7147-4759-9131-cde9b788e8bc",
   "metadata": {},
   "outputs": [],
   "source": [
    "# Define a fumction \n",
    "\n",
    "\n",
    "def greeting():\n",
    "    print(\"helo everyone nice to meet you\")"
   ]
  },
  {
   "cell_type": "code",
   "execution_count": 4,
   "id": "0ee64449-5af5-49c8-a1ea-263ed76e5ff4",
   "metadata": {},
   "outputs": [
    {
     "name": "stdout",
     "output_type": "stream",
     "text": [
      "helo everyone nice to meet you\n"
     ]
    }
   ],
   "source": [
    "# call a function \n",
    "\n",
    "\n",
    "greeting()"
   ]
  },
  {
   "cell_type": "markdown",
   "id": "bff1578b-7efe-4848-9a63-cc10e85a7b6c",
   "metadata": {},
   "source": [
    "## Type of functions"
   ]
  },
  {
   "cell_type": "markdown",
   "id": "e6b20a22-47b8-46f2-97bc-3bb7a019dfd9",
   "metadata": {},
   "source": [
    "#### Built a function"
   ]
  },
  {
   "cell_type": "code",
   "execution_count": 5,
   "id": "7110d200-0f06-452a-b4d5-f54f6e97bec1",
   "metadata": {},
   "outputs": [
    {
     "name": "stdout",
     "output_type": "stream",
     "text": [
      "hi\n"
     ]
    },
    {
     "data": {
      "text/plain": [
       "5"
      ]
     },
     "execution_count": 5,
     "metadata": {},
     "output_type": "execute_result"
    }
   ],
   "source": [
    "# built a fucntion \n",
    "\n",
    "print('hi')\n",
    "len(\"sahil\") "
   ]
  },
  {
   "cell_type": "code",
   "execution_count": 7,
   "id": "1351d4ed-181c-4883-a3ff-db3d5e46942b",
   "metadata": {},
   "outputs": [
    {
     "data": {
      "text/plain": [
       "8"
      ]
     },
     "execution_count": 7,
     "metadata": {},
     "output_type": "execute_result"
    }
   ],
   "source": [
    "min([8,6,2])\n",
    "max([8,6,2])"
   ]
  },
  {
   "cell_type": "markdown",
   "id": "ff8c2357-84a7-4947-9ed5-ee7addaee7b6",
   "metadata": {},
   "source": [
    "### User defined fucntions"
   ]
  },
  {
   "cell_type": "code",
   "execution_count": 12,
   "id": "0858d2ed-ec97-4b69-9ede-8dcac8f21928",
   "metadata": {},
   "outputs": [],
   "source": [
    "def greeting():\n",
    "    print(\"helo everyone my name is sahil\")\n",
    "    print(\"hi\")"
   ]
  },
  {
   "cell_type": "code",
   "execution_count": 13,
   "id": "aab80056-af7e-4d92-9d86-b6d2fe911b1f",
   "metadata": {},
   "outputs": [
    {
     "name": "stdout",
     "output_type": "stream",
     "text": [
      "helo everyone my name is sahil\n",
      "hi\n"
     ]
    }
   ],
   "source": [
    "greeting()"
   ]
  },
  {
   "cell_type": "markdown",
   "id": "42109a14-ba63-4b69-a8ca-e4e8b0f8e607",
   "metadata": {},
   "source": [
    "### User defined functions"
   ]
  },
  {
   "cell_type": "code",
   "execution_count": 15,
   "id": "8fa97155-30d8-45b7-af2a-57bd4fa4f019",
   "metadata": {},
   "outputs": [],
   "source": [
    "# simple functions\n",
    "\n",
    "def greeting():\n",
    "    print(\"helo everyone nice to meet you\")"
   ]
  },
  {
   "cell_type": "code",
   "execution_count": 17,
   "id": "ad1fbe68-bf4f-4753-a1b2-dbd1637f23d1",
   "metadata": {},
   "outputs": [
    {
     "name": "stdout",
     "output_type": "stream",
     "text": [
      "helo everyone nice to meet you\n"
     ]
    }
   ],
   "source": [
    "greeting()"
   ]
  },
  {
   "cell_type": "code",
   "execution_count": 21,
   "id": "3ac2771d-dd22-4661-9e61-7ee9715bd1d9",
   "metadata": {},
   "outputs": [],
   "source": [
    "# Input functions\n",
    "\n",
    "\n",
    "def greeting(name):\n",
    "    print(f\"hello {name} nice to meet you\")"
   ]
  },
  {
   "cell_type": "code",
   "execution_count": 24,
   "id": "91cc039d-c201-4ffe-b418-9f8b2719ec86",
   "metadata": {},
   "outputs": [
    {
     "name": "stdout",
     "output_type": "stream",
     "text": [
      "hello sahil nice to meet you\n"
     ]
    }
   ],
   "source": [
    "greeting(\"sahil\")"
   ]
  },
  {
   "cell_type": "code",
   "execution_count": 26,
   "id": "a2a1150e-7ce4-456e-933e-46dd293b992a",
   "metadata": {},
   "outputs": [],
   "source": [
    "def area_of_circle(r):\n",
    "    print((22/7)*r*r)"
   ]
  },
  {
   "cell_type": "code",
   "execution_count": 27,
   "id": "5459ddac-3ef7-4bb0-8670-e612fa174e65",
   "metadata": {},
   "outputs": [
    {
     "name": "stdout",
     "output_type": "stream",
     "text": [
      "78.57142857142857\n"
     ]
    }
   ],
   "source": [
    "area_of_circle(5)"
   ]
  },
  {
   "cell_type": "code",
   "execution_count": 28,
   "id": "db37c791-4d49-4c58-af15-4f4c1c815a3b",
   "metadata": {},
   "outputs": [],
   "source": [
    "def area_of_rectangle(length, width):\n",
    "    print(length*width)"
   ]
  },
  {
   "cell_type": "code",
   "execution_count": 29,
   "id": "1a7fea97-2ef6-4eca-985c-88bae9f5a20a",
   "metadata": {},
   "outputs": [
    {
     "name": "stdout",
     "output_type": "stream",
     "text": [
      "50\n"
     ]
    }
   ],
   "source": [
    "area_of_rectangle(5,10)"
   ]
  },
  {
   "cell_type": "code",
   "execution_count": 33,
   "id": "e1a4ca87-e28a-418d-bad2-8cc5b77feb57",
   "metadata": {},
   "outputs": [],
   "source": [
    "# global scope\n",
    "job = \"netmax\"\n",
    "def myprofile():\n",
    "    # local scope\n",
    "    name = \"sahil\"\n",
    "    age = 22\n",
    "    education = \"BBA\"\n",
    "    job = \"hunting\"\n",
    "    print(name,age,education, job)"
   ]
  },
  {
   "cell_type": "code",
   "execution_count": 34,
   "id": "12d1883b-6b0f-427b-8e87-07348f58c70f",
   "metadata": {},
   "outputs": [
    {
     "name": "stdout",
     "output_type": "stream",
     "text": [
      "sahil 22 BBA hunting\n"
     ]
    }
   ],
   "source": [
    "myprofile()"
   ]
  },
  {
   "cell_type": "code",
   "execution_count": 36,
   "id": "dff1aa90-8627-4e77-af35-088fac629cb8",
   "metadata": {},
   "outputs": [
    {
     "data": {
      "text/plain": [
       "'netmax'"
      ]
     },
     "execution_count": 36,
     "metadata": {},
     "output_type": "execute_result"
    }
   ],
   "source": [
    "job"
   ]
  },
  {
   "cell_type": "code",
   "execution_count": 41,
   "id": "bec8a09e-25e5-487c-8603-65718ffc17eb",
   "metadata": {},
   "outputs": [],
   "source": [
    "# global scope\n",
    "\n",
    "job = \"netmax\"\n",
    "def myprofile():\n",
    "    # local scope\n",
    "    name = \"sahil\"\n",
    "    global age\n",
    "    age = 22\n",
    "    education = \"BBA\"\n",
    "    job = \"hunting\"\n",
    "    print(name,age,education, job)"
   ]
  },
  {
   "cell_type": "code",
   "execution_count": 42,
   "id": "2c400704-bcac-40f7-b6c1-03f9d120f9c0",
   "metadata": {},
   "outputs": [
    {
     "ename": "NameError",
     "evalue": "name 'age' is not defined",
     "output_type": "error",
     "traceback": [
      "\u001b[1;31m---------------------------------------------------------------------------\u001b[0m",
      "\u001b[1;31mNameError\u001b[0m                                 Traceback (most recent call last)",
      "Cell \u001b[1;32mIn[42], line 1\u001b[0m\n\u001b[1;32m----> 1\u001b[0m age\n",
      "\u001b[1;31mNameError\u001b[0m: name 'age' is not defined"
     ]
    }
   ],
   "source": [
    "age"
   ]
  },
  {
   "cell_type": "code",
   "execution_count": 43,
   "id": "c62e9ae9-6aea-48c3-ac04-bbda0496595a",
   "metadata": {},
   "outputs": [
    {
     "name": "stdout",
     "output_type": "stream",
     "text": [
      "sahil 22 BBA hunting\n"
     ]
    }
   ],
   "source": [
    "myprofile()"
   ]
  },
  {
   "cell_type": "code",
   "execution_count": 45,
   "id": "ef17411c-2720-4970-b0a5-894674b161e7",
   "metadata": {},
   "outputs": [
    {
     "data": {
      "text/plain": [
       "22"
      ]
     },
     "execution_count": 45,
     "metadata": {},
     "output_type": "execute_result"
    }
   ],
   "source": [
    "age"
   ]
  },
  {
   "cell_type": "code",
   "execution_count": 49,
   "id": "d8a0933b-098f-4657-8ed8-9216f5a0f506",
   "metadata": {},
   "outputs": [],
   "source": [
    "# deafult functiom\n",
    "\n",
    "def greeting(name=\"USER\"):\n",
    "    print(f'hello {name}, nice to meet you')"
   ]
  },
  {
   "cell_type": "code",
   "execution_count": 52,
   "id": "90fe77b3-ad63-4b3c-9972-7ef3f58812eb",
   "metadata": {},
   "outputs": [
    {
     "name": "stdout",
     "output_type": "stream",
     "text": [
      "hello USER, nice to meet you\n"
     ]
    }
   ],
   "source": [
    "greeting()"
   ]
  },
  {
   "cell_type": "code",
   "execution_count": 56,
   "id": "08eea01c-0257-45ea-9857-30baed7ba37b",
   "metadata": {},
   "outputs": [],
   "source": [
    "# return function\n",
    "def salary_structure(salary, tax_rate):\n",
    "    tax=salary* tax_rate\n",
    "    return tax"
   ]
  },
  {
   "cell_type": "code",
   "execution_count": 57,
   "id": "3ac3dd2e-0884-4b24-92c8-4f73c904c5aa",
   "metadata": {},
   "outputs": [],
   "source": [
    "tax = salary_structure(80000, 0.12)"
   ]
  },
  {
   "cell_type": "code",
   "execution_count": 58,
   "id": "77e94e3f-3865-49c9-b827-a8a52351da4f",
   "metadata": {},
   "outputs": [
    {
     "data": {
      "text/plain": [
       "9600.0"
      ]
     },
     "execution_count": 58,
     "metadata": {},
     "output_type": "execute_result"
    }
   ],
   "source": [
    "tax"
   ]
  },
  {
   "cell_type": "code",
   "execution_count": 64,
   "id": "0a98e251-42b5-4b18-b799-ea79edeee7b0",
   "metadata": {},
   "outputs": [],
   "source": [
    "def volume_of_cuboid(length, width, height):\n",
    "    ### writing in help\n",
    "    \"\"\"\" \n",
    "    this function calculates volume of cuboid\n",
    "    it takes length, width, height as input and multipiles them\n",
    "    \"\"\"\n",
    "    dimensions = f\"\"\"\n",
    "         length : {length}\n",
    "         width  : {width}\n",
    "         height : {height}\n",
    "    \"\"\"\n",
    "    print(dimensions)\n",
    "    return length*width*height"
   ]
  },
  {
   "cell_type": "code",
   "execution_count": 65,
   "id": "1a98c1ff-089e-4ab6-b186-4dd471820e2f",
   "metadata": {},
   "outputs": [
    {
     "name": "stdout",
     "output_type": "stream",
     "text": [
      "\n",
      "         length : 50\n",
      "         width  : 80\n",
      "         height : 100\n",
      "    \n"
     ]
    },
    {
     "data": {
      "text/plain": [
       "400000"
      ]
     },
     "execution_count": 65,
     "metadata": {},
     "output_type": "execute_result"
    }
   ],
   "source": [
    "volume_of_cuboid(50, 80, 100)"
   ]
  },
  {
   "cell_type": "code",
   "execution_count": 66,
   "id": "571328eb-4830-4d91-8cb3-1b08a9d6e20d",
   "metadata": {},
   "outputs": [
    {
     "name": "stdout",
     "output_type": "stream",
     "text": [
      "Help on function volume_of_cuboid in module __main__:\n",
      "\n",
      "volume_of_cuboid(length, width, height)\n",
      "    \"\n",
      "    this function calculates volume of cuboid\n",
      "    it takes length, width, height as input and multipiles them\n",
      "\n"
     ]
    }
   ],
   "source": [
    "help(volume_of_cuboid)"
   ]
  },
  {
   "cell_type": "code",
   "execution_count": 76,
   "id": "2a8b7dcf-d823-45c2-907e-3718e3cc16ff",
   "metadata": {},
   "outputs": [],
   "source": [
    "### questions\n",
    "li = [3,5,7,3,2,7,9,5]"
   ]
  },
  {
   "cell_type": "code",
   "execution_count": 77,
   "id": "53572714-1aa0-482b-bc38-e7b67c69e1d2",
   "metadata": {},
   "outputs": [],
   "source": [
    "def sorthalf(li : list):\n",
    "    length = len(li)\n",
    "    li.sort()\n",
    "    firsthalf = li[:length//2]\n",
    "    secondhalf= li[length//2:]\n",
    "    secondhalf.sort(reverse=True)\n",
    "\n",
    "    return firsthalf+secondhalf"
   ]
  },
  {
   "cell_type": "code",
   "execution_count": 78,
   "id": "4f3da1a2-48c5-4561-8ada-0dc6a0480154",
   "metadata": {},
   "outputs": [
    {
     "data": {
      "text/plain": [
       "[2, 3, 3, 5, 9, 7, 7, 5]"
      ]
     },
     "execution_count": 78,
     "metadata": {},
     "output_type": "execute_result"
    }
   ],
   "source": [
    "sorthalf(li)"
   ]
  },
  {
   "cell_type": "code",
   "execution_count": null,
   "id": "9c3da1c3-ed81-4d72-8c16-91bf705a4faa",
   "metadata": {},
   "outputs": [],
   "source": []
  }
 ],
 "metadata": {
  "kernelspec": {
   "display_name": "Python [conda env:base] *",
   "language": "python",
   "name": "conda-base-py"
  },
  "language_info": {
   "codemirror_mode": {
    "name": "ipython",
    "version": 3
   },
   "file_extension": ".py",
   "mimetype": "text/x-python",
   "name": "python",
   "nbconvert_exporter": "python",
   "pygments_lexer": "ipython3",
   "version": "3.13.5"
  }
 },
 "nbformat": 4,
 "nbformat_minor": 5
}
